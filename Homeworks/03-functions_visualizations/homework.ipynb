{
 "cells": [
  {
   "cell_type": "markdown",
   "metadata": {},
   "source": [
    "# Homework 3: Functions and Visualizations\n",
    "\n",
    "## Due Saturday, January 30th at 11:59pm PST\n",
    "\n",
    "Welcome to Homework 3! This week, we will go over defining functions, making visualizations like histograms and line plots, and exploring data. You can find additional help on functions in [Section 2.6](https://eldridgejm.github.io/dive_into_data_science/02-data_sets/apply.html?highlight=function) and resources for creating visualizations in [Chapter 3](https://eldridgejm.github.io/dive_into_data_science/03-visualization/intro.html) of Dive into Data Science."
   ]
  },
  {
   "cell_type": "markdown",
   "metadata": {},
   "source": [
    "### Instructions\n",
    "\n",
    "This assignment is due Saturday, January 30th at 11:59pm PST. You are given six slip days thoughout the quarter to extend deadlines. See the syllabus for more details. With the exception of using slip days, late work will not be accepted unless you have made special arrangements with your instructor.\n",
    "\n",
    "**Important**: The `otter` tests don't usually tell you that your answer is correct. More often, they help catch careless mistakes. It's up to you to ensure that your answer is correct. If you're not sure, ask someone (not for the answer, but for some guidance about your approach). These are great questions for office hours or your team's chatroom on Campuswire. Directly sharing answers is not okay, but discussing problems with the course staff or with other students is encouraged. \n",
    "\n",
    "Remember that you may work in pairs for this assignment! If you work in a pair, you must work with someone from your team, and you should submit one notebook to Gradescope for the both of you. \n",
    "\n",
    "You should start early so that you have time to utilize Office Hours if you're stuck. See the course calendar on Canvas for the schedule and Zoom links."
   ]
  },
  {
   "cell_type": "code",
   "execution_count": 1,
   "metadata": {},
   "outputs": [],
   "source": [
    "# please don't change this cell, but do make sure to run it\n",
    "import babypandas as bpd\n",
    "import matplotlib.pyplot as plt\n",
    "import numpy as np\n",
    "import otter\n",
    "grader = otter.Notebook()"
   ]
  },
  {
   "cell_type": "markdown",
   "metadata": {},
   "source": [
    "## 1. Avocadopocalypse"
   ]
  },
  {
   "cell_type": "markdown",
   "metadata": {},
   "source": [
    "In early 2017, reduced harvests and labor strikes caused avocado production in Mexico, Peru, and California to  dramatically decrease. In this problem we will investigate how and where prices fluctuated in response to the \"avocadopocalypse\".\n",
    "\n",
    "The source of the avocado price data is [here](https://urldefense.com/v3/__http://www.hassavocadoboard.com/retail/volume-and-price-data__;!!Mih3wA!UQwVlo9PvACY7t4CCustkKZq0RfPE-hGk1xDpoo20dpsixLTa8OgXRoiGUehMic$ ). We will use a subset of the data. The data has the following columns:\n",
    "\n",
    "|Column|Description|\n",
    "|------|-----------|\n",
    "|Date|The date on which a price was recorded in YEAR-MONTH format|\n",
    "|Type|The type of avocado. Either \"conventional\" or \"organic\".|\n",
    "|Region|Where the price was recorded.|\n",
    "|Price|The average avocado price for that time period/location.|\n",
    "|Volume|The number of avocados sold (in thousands).|"
   ]
  },
  {
   "cell_type": "markdown",
   "metadata": {},
   "source": [
    "**Question 1.1.** The data are in a CSV called `avocado.csv`. Read this file into a table named `avocado`. There is not good columns to use as the index, so don't set one!"
   ]
  },
  {
   "cell_type": "code",
   "execution_count": 2,
   "metadata": {},
   "outputs": [],
   "source": [
    "avocado = ...\n",
    "avocado"
   ]
  },
  {
   "cell_type": "code",
   "execution_count": null,
   "metadata": {
    "deletable": false,
    "editable": false
   },
   "outputs": [],
   "source": [
    "grader.check(\"q1_1\")"
   ]
  },
  {
   "cell_type": "markdown",
   "metadata": {},
   "source": [
    "It might look like the `Date` column would make a good index, but it turns out that its entries are not unique! We can see this using the `.describe()` method, which gives us some useful information about a column:"
   ]
  },
  {
   "cell_type": "code",
   "execution_count": 5,
   "metadata": {},
   "outputs": [],
   "source": [
    "avocado.get('Date').describe()"
   ]
  },
  {
   "cell_type": "markdown",
   "metadata": {},
   "source": [
    "We see that although there are 4134 entries, only 39 of them are unique. This is because the same date will appear once for each city in the data set."
   ]
  },
  {
   "cell_type": "markdown",
   "metadata": {},
   "source": [
    "**Question 1.2.** Assign `cheapest_type` and `lowest_price` to the type and price of the cheapest avocado (of any region, and any date). \n",
    "\n",
    "Similarly, assign `most_expensive_type` and `highest_price` to the type and price of the   most expensive avocado (of any region, and any date)."
   ]
  },
  {
   "cell_type": "code",
   "execution_count": 6,
   "metadata": {},
   "outputs": [],
   "source": [
    "cheapest_type = ...\n",
    "most_expensive_type = ...\n",
    "lowest_price = ...\n",
    "highest_price = ..."
   ]
  },
  {
   "cell_type": "code",
   "execution_count": null,
   "metadata": {
    "deletable": false,
    "editable": false
   },
   "outputs": [],
   "source": [
    "grader.check(\"q1_2\")"
   ]
  },
  {
   "cell_type": "markdown",
   "metadata": {},
   "source": [
    "**Question 1.3.** Avocados are sold in two types: organic and conventional. Make a table named `organic` containing only the data for organic avocados, and a table named `conventional` for conventional avocados."
   ]
  },
  {
   "cell_type": "code",
   "execution_count": 13,
   "metadata": {},
   "outputs": [],
   "source": [
    "organic = ...\n",
    "conventional = ..."
   ]
  },
  {
   "cell_type": "code",
   "execution_count": null,
   "metadata": {
    "deletable": false,
    "editable": false
   },
   "outputs": [],
   "source": [
    "grader.check(\"q1_3\")"
   ]
  },
  {
   "cell_type": "markdown",
   "metadata": {},
   "source": [
    "**Question 1.4.** Create a table named `la_total` which contains one column, `Volume`. The `Volume` column should be equal to the total volume of avocados (organic + conventional) sold in Los Angeles for each date. The index of your table should contain the Date for each entry.\n",
    "\n",
    "*Hint*: If you do this correctly, you will not need to use `.set_index()` to make the Date the index.\n",
    "\n",
    "*Hint*: Are the region names separated by a space?"
   ]
  },
  {
   "cell_type": "code",
   "execution_count": 19,
   "metadata": {},
   "outputs": [],
   "source": [
    "la_total = ...\n",
    "la_total"
   ]
  },
  {
   "cell_type": "code",
   "execution_count": null,
   "metadata": {
    "deletable": false,
    "editable": false
   },
   "outputs": [],
   "source": [
    "grader.check(\"q1_4\")"
   ]
  },
  {
   "cell_type": "markdown",
   "metadata": {},
   "source": [
    "**Question 1.5.** Avocados generally grow better in a warmer, moderately humid climate. Are avocados more popular (consumed more) in the West Coast of the United States? \n",
    "\n",
    "Assign `la_bos_diff` to the difference, rounded to 3 decimal places, between the average volume of avocados sold in Los Angeles and Boston, respectively.\n",
    "\n",
    "*Hint:* Remember that you can create intermediate variables. This is a good time to do so!"
   ]
  },
  {
   "cell_type": "code",
   "execution_count": 23,
   "metadata": {},
   "outputs": [],
   "source": [
    "la_bos_diff = ...\n",
    "la_bos_diff"
   ]
  },
  {
   "cell_type": "code",
   "execution_count": null,
   "metadata": {
    "deletable": false,
    "editable": false
   },
   "outputs": [],
   "source": [
    "grader.check(\"q1_5\")"
   ]
  },
  {
   "cell_type": "markdown",
   "metadata": {},
   "source": [
    "**Question 1.6.** Create a table named `mean_price` containing one column named `MeanPrice` containing the mean price of **organic avocados** sold on each date. Your table should have one row for each date, and the row label should be the Date."
   ]
  },
  {
   "cell_type": "code",
   "execution_count": 26,
   "metadata": {},
   "outputs": [],
   "source": [
    "mean_price = ...\n",
    "mean_price"
   ]
  },
  {
   "cell_type": "code",
   "execution_count": null,
   "metadata": {
    "deletable": false,
    "editable": false
   },
   "outputs": [],
   "source": [
    "grader.check(\"q1_6\")"
   ]
  },
  {
   "cell_type": "markdown",
   "metadata": {},
   "source": [
    "**Question 1.7.** Make a line plot that shows the mean price of organic avocados in the entire United States as a function of Date. In other words, plot the mean price of organic avocados across any region for each Date.\n",
    "\n",
    "Between the maroon lines below, please answer the following: \n",
    "* Does the data support the \"avocadopocalypse\"; that is, were prices higher in 2017? \n",
    "* Furthermore, describe how you could use the given data to investigate the *reason* that prices were higher."
   ]
  },
  {
   "cell_type": "markdown",
   "metadata": {
    "deletable": false,
    "editable": false
   },
   "source": [
    "<!-- BEGIN QUESTION -->\n",
    "\n",
    "<!--\n",
    "BEGIN QUESTION\n",
    "name: q1_7\n",
    "manual: true\n",
    "-->"
   ]
  },
  {
   "cell_type": "code",
   "execution_count": 29,
   "metadata": {},
   "outputs": [],
   "source": [
    "# Make your plot here\n",
    "..."
   ]
  },
  {
   "cell_type": "markdown",
   "metadata": {},
   "source": [
    "_Type your answer here, replacing this text._"
   ]
  },
  {
   "cell_type": "markdown",
   "metadata": {},
   "source": [
    "<!-- END QUESTION -->\n",
    "\n",
    "\n",
    "\n",
    "## 2. Defining Functions for Pokémon\n",
    "\n",
    "In this problem, we'll define some functions for working with Pokémon.\n",
    "\n",
    "Don't worry if you are unfamiliar with Pokémon! Here is a refresher: \n",
    "\n",
    "Pokémon (aka Pocket Monsters) is a popular video game series from Nintendo, founded by Satoshi Tajiri. This video game franchise, which began with Pokémon Red and Green in 1996, is one of the most iconic and highest-grossing video game series of all time. Pokémon is currently in its 7th generation, and has had games spanning the GameBoy, Nintendo DS, and Nintendo Switch. \n",
    "\n",
    "In a Pokémon game, you are an aspiring Trainer who has “Gotta Catch ‘Em All”. In these games, you must explore the various regions, encounter Pokémon, catch them, and train them for battle. Trainers can further their journey by playing in Gyms and beating trainers there! There is also a Pokedex, which is an encyclopedia\tfor Pokémon. In the games, when you discover new Pokémon, you get to add to the Pokedex!\n",
    "\n",
    "Every Pokémon has its own attributes, such as an elemental type, hit points, and various attack and defense statistics. In this question, we will be simplifying the attributes of Pokémon since there are many more, like height, weight, and sex. Although there are multiple of each Pokémon (for example, there are tons of Pikachu that are all electric type, but vary slightly in their HP and other attributes), this dataset just contains a summary for that specific Pokémon. For example, the dataset shows that Bulbasaur has 49 attack points. However, that is just an average for all the Bulbasaurs since each one is distinct."
   ]
  },
  {
   "cell_type": "markdown",
   "metadata": {},
   "source": [
    "The source of the Pokedex data is [here](https://www.kaggle.com/kingabzpro/pokmon-legendary-data). We will be using a subset of the data. The data has the following columns:\n",
    "\n",
    "|Column|Description|\n",
    "|------|-----------|\n",
    "|pokedex_number|**index**: The unique ID for the Pokémon in the Pokedex|\n",
    "|name|The name of the Pokémon|\n",
    "|type|The elemental property relating to the Pokémon|\n",
    "|attack|Partly determines how much damage a Pokémon deals when using a regular attack move|\n",
    "|defense|Partly determines how much damage a Pokémon receives when it is hit with a regular attack move|\n",
    "|hp|Hit Points: how much damage a Pokémon can receive before fainting|\n",
    "|sp_attack|Partly determines how much damage a Pokémon deals when using a special move|\n",
    "|sp_defense|Partly determines how much damage a Pokémon receives when it is hit with a special move|\n",
    "|generation|The generation from which the Pokémon was discovered (1 to 7)|\n",
    "|is_legendary|1 if the Pokémon is legendary, 0 if the Pokémon is not legendary|"
   ]
  },
  {
   "cell_type": "markdown",
   "metadata": {},
   "source": [
    "The data is in a CSV file called `pokedex.csv`. We will read this file into a table named `pokedex`."
   ]
  },
  {
   "cell_type": "code",
   "execution_count": 30,
   "metadata": {},
   "outputs": [],
   "source": [
    "# Please don't change this cell, but do make sure to run it\n",
    "pokedex = bpd.read_csv('data/pokedex.csv').set_index('pokedex_number')\n",
    "pokedex"
   ]
  },
  {
   "cell_type": "markdown",
   "metadata": {},
   "source": [
    "Since this question asks you to define some functions, we recommend you review Lecture 9. Here is an example of a function that is named `find_slope` that takes in two coordinates, [x1, y1] and [x2, y2], and returns the slope of the line connecting the two points.\n",
    "\n",
    "Remember that the equation for slope between 2 points is $$m = \\frac{y_2 - y_1}{x_2 - x_1}$$"
   ]
  },
  {
   "cell_type": "code",
   "execution_count": 31,
   "metadata": {},
   "outputs": [],
   "source": [
    "def find_slope(coordinate_1, coordinate_2):\n",
    "    return (coordinate_2[1] - coordinate_1[1]) / (coordinate_2[0] - coordinate_1[0])"
   ]
  },
  {
   "cell_type": "markdown",
   "metadata": {},
   "source": [
    "**Question 2.1.** Define a function named `overall` that takes in a Pokedex number for a single Pokémon and outputs its overall rating. Let's define the overall rating for a Pokémon to be the weighted average of its attributes according to the following weights:\n",
    "\n",
    "|Attribute|Weight|\n",
    "|------|-----------|\n",
    "|attack|10%|\n",
    "|defense|10%|\n",
    "|hp|20%|\n",
    "|sp_attack|15%|\n",
    "|sp_defense|15%|\n",
    "|is_legendary|30%|"
   ]
  },
  {
   "cell_type": "code",
   "execution_count": 32,
   "metadata": {},
   "outputs": [],
   "source": [
    "def overall(pokedex_num):\n",
    "    ..."
   ]
  },
  {
   "cell_type": "code",
   "execution_count": null,
   "metadata": {
    "deletable": false,
    "editable": false
   },
   "outputs": [],
   "source": [
    "grader.check(\"q2_1\")"
   ]
  },
  {
   "cell_type": "markdown",
   "metadata": {},
   "source": [
    "**Question 2.2.** In Pokémon, trainers can face off in battle! One Pokémon from each trainer fights at once and each take turns attacking. In this question, we will define a function named `one_hit_ko` that determines whether the attacking Pokémon can knock out the defending Pokémon in one hit.\n",
    "\n",
    "Since Pokémon combat is quite complicated (you can check [how the game really calculates damage in battle](https://bulbapedia.bulbagarden.net/wiki/Damage#Damage_calculation)), we will be defining a super simplified version of battle!\n",
    "\n",
    "The function `one_hit_ko` will take in 3 parameters: \n",
    "* 2 Pokedex numbers, the attacker's and defender's, respectively\n",
    "* A boolean value that is True if the attack is Special and False if the attack is regular\n",
    "\n",
    "We will simply define the damage dealt to be the difference between the attacker's attack and defender's defense values. This function returns True if the damage dealt is at least as large as the defender's HP.\n",
    "\n",
    "*Hint:* If the attacker is using a Special attack, the defender will use a Special defense. Similarly, if the attacker uses a regular attack, the defender will use a regular defense. \n",
    "\n",
    "*Hint:* Damage dealt can only be positive. In other words, if the defense is stronger than the attack, there will not be any damage dealt."
   ]
  },
  {
   "cell_type": "code",
   "execution_count": 40,
   "metadata": {},
   "outputs": [],
   "source": [
    "def one_hit_ko(attacker, defender, is_special):\n",
    "    ..."
   ]
  },
  {
   "cell_type": "code",
   "execution_count": null,
   "metadata": {
    "deletable": false,
    "editable": false
   },
   "outputs": [],
   "source": [
    "grader.check(\"q2_2\")"
   ]
  },
  {
   "cell_type": "markdown",
   "metadata": {},
   "source": [
    "## 3. Food Menu History\n",
    "\n",
    "How long have restaurants been serving chicken gumbo? What's the most expensive boiled egg to be served in a restaurant? How many menus has \"roast squab on toast\" appeared?\n",
    "\n",
    "The New York Public Library has transcribed thousands of historical menus (all the way from 1840 to the present!) onto their online database to solve those very important questions. In this problem, we will explore this database and look at what foods were popular hundreds of years ago.\n",
    "\n",
    "For more information about the historical menu database, you can check it out [here](https://www.kaggle.com/nypl/whats-on-the-menu)"
   ]
  },
  {
   "cell_type": "code",
   "execution_count": 47,
   "metadata": {
    "scrolled": true
   },
   "outputs": [],
   "source": [
    "food_data = bpd.read_csv('data/dishes.csv')\n",
    "food_data"
   ]
  },
  {
   "cell_type": "markdown",
   "metadata": {},
   "source": [
    "**Question 3.1** Your 135-year-old grandma is coming over for dinner, and you have to pick what she'll eat! Since you are her favorite grandchild, you have decided to pick a food that she might have had as a child.\n",
    "\n",
    "Let's see which dishes first appeared on a menu between 1895 and 1900 (inclusive). Save these dishes in a variable called “from_late_1900s”."
   ]
  },
  {
   "cell_type": "code",
   "execution_count": 48,
   "metadata": {},
   "outputs": [],
   "source": [
    "from_late_1900s = ...\n",
    "from_late_1900s"
   ]
  },
  {
   "cell_type": "code",
   "execution_count": null,
   "metadata": {
    "deletable": false,
    "editable": false
   },
   "outputs": [],
   "source": [
    "grader.check(\"q3_1\")"
   ]
  },
  {
   "cell_type": "markdown",
   "metadata": {},
   "source": [
    "**Question 3.2** Your grandma has very expensive taste, but you're a broke college student. To make grandma happy without spending all your money, you want to find the most expensive foods which first appeared in 1895-1900 and then determine the cheapest price for each.\n",
    "\n",
    "1. Find the most expensive dishes from 1895-1900. Using our `first_appeared` data, determine which 19th-century dishes have a `highest_price` of over $300. Call this table `most_expensive` and sort by lowest price (ascending).\n",
    "\n",
    "2. Create a bar chart that shows the `lowest_price` and name of each item."
   ]
  },
  {
   "cell_type": "code",
   "execution_count": 53,
   "metadata": {},
   "outputs": [],
   "source": [
    "most_expensive = ...\n",
    "..."
   ]
  },
  {
   "cell_type": "code",
   "execution_count": null,
   "metadata": {
    "deletable": false,
    "editable": false
   },
   "outputs": [],
   "source": [
    "grader.check(\"q3_2\")"
   ]
  },
  {
   "cell_type": "markdown",
   "metadata": {},
   "source": [
    "**Question 3.3.** Your Data Science tutor wants to know how many unique dishes first appeared in each year.\n",
    "\n",
    "Create a table called `year_first_appeared`. This table should have `year` as the index, and one column called `number_of_dishes` which counts the number of dishes which first appeared in that year.\n",
    "\n",
    "*Hint:* Your tutor wants you to use `groupby`!\n",
    "\n",
    "*Hint 2:* You can assume that each entry in food_data is a unique dish."
   ]
  },
  {
   "cell_type": "code",
   "execution_count": 57,
   "metadata": {},
   "outputs": [],
   "source": [
    "year_first_appeared = ...\n",
    "year_first_appeared"
   ]
  },
  {
   "cell_type": "code",
   "execution_count": null,
   "metadata": {
    "deletable": false,
    "editable": false
   },
   "outputs": [],
   "source": [
    "grader.check(\"q3_3\")"
   ]
  },
  {
   "cell_type": "markdown",
   "metadata": {},
   "source": [
    "**Question 3.4** \n",
    "\n",
    "Create a line graph visualizing `year_first_appeared`. For simplicity, only use the data from years 1800 - 2000 inclusive."
   ]
  },
  {
   "cell_type": "markdown",
   "metadata": {},
   "source": [
    "If you created your line graph correctly, you should see a very large spike in `number_of_dishes` around a certain decade. Set `spike` equal to the number (1-4) of what decade that was:\n",
    "\n",
    "1. 1900\n",
    "2. 1920\n",
    "3. 1940\n",
    "4. 1960"
   ]
  },
  {
   "cell_type": "code",
   "execution_count": 62,
   "metadata": {},
   "outputs": [],
   "source": [
    "spike = ..."
   ]
  },
  {
   "cell_type": "code",
   "execution_count": null,
   "metadata": {
    "deletable": false,
    "editable": false
   },
   "outputs": [],
   "source": [
    "grader.check(\"q3_4\")"
   ]
  },
  {
   "cell_type": "markdown",
   "metadata": {},
   "source": [
    "## 4. Summer Olympics"
   ]
  },
  {
   "cell_type": "markdown",
   "metadata": {},
   "source": [
    "This summer, Tokyo will be holding the highly-anticipated Summer Olympics from July 24, 2021 to August 9, 2021. The Olympic Games were postponed for the first time in the history of the Olympics due to the Covid-19 pandemic. At the Olympics, there are 206 nations expected to participate, and there will be 339 events in 33 distinct sports. \n",
    "\n",
    "In light of the upcoming Games in Tokyo, we will analyze historical data on Olympic athletes who won medals in the Summer Olympic Games from 1896-2012. You can find the data [here](https://www.kaggle.com/the-guardian/olympic-games#dictionary.csv). We will be using a subset of data for ease of use."
   ]
  },
  {
   "cell_type": "markdown",
   "metadata": {},
   "source": [
    "The data is in a CSV file called `summer.csv`. Read this file into a table named `summer_data`. There is no good index, we will leave it unset."
   ]
  },
  {
   "cell_type": "code",
   "execution_count": 65,
   "metadata": {},
   "outputs": [],
   "source": [
    "summer_data = bpd.read_csv('data/summer.csv')\n",
    "summer_data"
   ]
  },
  {
   "cell_type": "markdown",
   "metadata": {},
   "source": [
    "The `Country` column contains International Olympic Committee (IOC) [country codes](https://olympics.fandom.com/wiki/List_of_IOC_country_codes). We want to convert these country codes into actual country names that everyone can understand.\n",
    "\n",
    "We'll use a Python [dictionary](https://www.tutorialspoint.com/python/python_dictionary.htm) to help us with this conversion. A dictionary is a simple way to map a unique key to a value. For example, the below dictionary maps course codes to course names."
   ]
  },
  {
   "cell_type": "code",
   "execution_count": 66,
   "metadata": {},
   "outputs": [],
   "source": [
    "dsc_courses = {\n",
    "    'DSC 10': 'Principles of Data Science',\n",
    "    'DSC 20': 'Programming and Basic Data Structures for Data Science',\n",
    "    'DSC 30': 'Data Structures and Algorithms for Data Science',\n",
    "    'DSC 40A': 'Theoretical Foundations of Data Science I',\n",
    "    'DSC 40B': 'Theoretical Foundations of Data Science II',\n",
    "    'DSC 80': 'The Practice and Application of Data Science'\n",
    "}"
   ]
  },
  {
   "cell_type": "markdown",
   "metadata": {},
   "source": [
    "We can access the value corresponding to each key using bracket notation."
   ]
  },
  {
   "cell_type": "code",
   "execution_count": 67,
   "metadata": {},
   "outputs": [],
   "source": [
    "dsc10_name = dsc_courses['DSC 10']\n",
    "dsc10_name"
   ]
  },
  {
   "cell_type": "markdown",
   "metadata": {},
   "source": [
    "Here, `DSC 10` is the key and `Principles of Data Science` is the value.\n",
    "\n",
    "Let's use a dictionary to help us with our country code to country name conversion. Below is a dictionary containing country codes as keys and country names as values for each of the countries in our dataset of Winter Olympic medal winners."
   ]
  },
  {
   "cell_type": "code",
   "execution_count": 68,
   "metadata": {},
   "outputs": [],
   "source": [
    "country_codes = {\n",
    " 'USA': 'United States',\n",
    " 'AFG': 'Afghanistan',\n",
    " 'AHO': 'Netherlands Antilles',\n",
    " 'ALG': 'Algeria',\n",
    " 'ANZ': 'Australasia',\n",
    " 'ARG': 'Argentina',\n",
    " 'ARM': 'Armenia',\n",
    " 'AZE': 'Azerbaijan',\n",
    " 'CAN': 'Canada',\n",
    " 'IRI': 'Iran',\n",
    " 'GHA': 'Ghana',\n",
    " 'NOR': 'Norway',\n",
    " 'ERI': 'Eritrea',\n",
    " 'IRL': 'Ireland',\n",
    " 'URS': 'Soviet Union',\n",
    " 'FIN': 'Finland',\n",
    " 'IRQ': 'Iraq',\n",
    " 'NAM': 'Namibia',\n",
    " 'VIE': 'Vietnam',\n",
    " 'SYR': 'Syria',\n",
    " 'TAN': 'Tanzania',\n",
    " 'SWE': 'Sweden',\n",
    " 'IND': 'India',\n",
    " 'ETH': 'Ethiopia',\n",
    " 'IOP': 'Independent Olympic Participants',\n",
    " 'RSA': 'South Africa',\n",
    " 'RU1': 'Russian Empire',\n",
    " 'PER': 'Peru',\n",
    " 'PHI': 'Philippines',\n",
    " 'SUR': 'Suriname',\n",
    " 'PAR': 'Paraguay',\n",
    " 'PAK': 'Pakistan',\n",
    " 'GER': 'Germany',\n",
    " 'SUI': 'Switzerland',\n",
    " 'BAH': 'Bahamas',\n",
    " 'PAN': 'Panama',\n",
    " 'MAS': 'Malaysia',\n",
    " 'AUT': 'Austria',\n",
    " 'TRI': 'Trinidad and Tobago',\n",
    " 'TTO': 'Trinidad and Tobago',\n",
    " 'INA': 'Indonesia',\n",
    " 'HKG': 'Hong Kong',\n",
    " 'SUD': 'Sudan',\n",
    " 'HAI': 'Haiti',\n",
    " 'MGL': 'Mongolia',\n",
    " 'BAR': 'Barbados',\n",
    " 'MDA': 'Moldova',\n",
    " 'MKD': 'Macedonia',\n",
    " 'GRE': 'Greece',\n",
    " 'MNE': 'Montenegro',\n",
    " 'GRN': 'Grenada',\n",
    " 'EGY': 'Egypt',\n",
    " 'BDI': 'Burundi',\n",
    " 'DOM': 'Dominican Republic',\n",
    " 'GUA': 'Guatemala',\n",
    " 'GUY': 'Guyana',\n",
    " 'URU': 'Uruguay',\n",
    " 'PUR': 'Puerto Rico',\n",
    " 'BER': 'Bermuda',\n",
    " 'ECU': 'Ecuador',\n",
    " 'BOH': 'Bohemia',\n",
    " 'BOT': 'Botswana',\n",
    " 'KGZ': 'Kyrgyzstan',\n",
    " 'ZIM': 'Zimbabwe',\n",
    " 'ZZX': 'Mixed Team',\n",
    " 'BRA': 'Brazil',\n",
    " 'BRN': 'Bahrain',\n",
    " 'GEO': 'Georgia',\n",
    " 'BWI': 'West Indies Federation',\n",
    " 'KEN': 'Kenya',\n",
    " 'KUW': 'Kuwait',\n",
    " 'KSA': 'Saudi Arabia',\n",
    " 'RUS': 'Russia',\n",
    " 'ITA': 'Italy',\n",
    " 'GDR': 'East Germany',\n",
    " 'TJK': 'Tajikistan',\n",
    " 'THA': 'Thailand',\n",
    " 'TCH': 'Czechoslovakia',\n",
    " 'FRA': 'France',\n",
    " 'TGA': 'Tonga',\n",
    " 'TOG': 'Togo',\n",
    " 'NIG': 'Niger',\n",
    " 'NGR': 'Nigeria',\n",
    " 'TPE': 'Taipei',\n",
    " 'NED': 'Netherlands',\n",
    " 'FRG': 'West Germany',\n",
    " 'KOR': 'Korea, South',\n",
    " 'CHI': 'Chile',\n",
    " 'CHN': 'China',\n",
    " 'GBR': 'United Kingdom',\n",
    " 'CZE': 'Czech Republic',\n",
    " 'JPN': 'Japan',\n",
    " 'EUN': 'Unified Team',\n",
    " 'CYP': 'Cyprus',\n",
    " 'POL': 'Poland',\n",
    " 'EUA': 'United Team of Germany',\n",
    " 'CMR': 'Cameroon',\n",
    " 'TUR': 'Turkey',\n",
    " 'TUN': 'Tunisia',\n",
    " 'POR': 'Portugal',\n",
    " 'VEN': 'Venezuela',\n",
    " 'SLO': 'Slovenia',\n",
    " 'UGA': 'Uganda',\n",
    " 'UAE': 'United Arab Emirates',\n",
    " 'AUS': 'Australia',\n",
    " 'ISV': 'US Virgin Islands',\n",
    " 'JAM': 'Jamaica',\n",
    " 'MEX': 'Mexico',\n",
    " 'CUB': 'Cuba',\n",
    " 'SGP': 'Singapore',\n",
    " 'SIN': 'Singapore',\n",
    " 'SEN': 'Senegal',\n",
    " 'BLR': 'Belarus',\n",
    " 'QAT': 'Qatar',\n",
    " 'LTU': 'Lithuania',\n",
    " 'DJI': 'Djibouti',\n",
    " 'LAT': 'Latvia',\n",
    " 'BEL': 'Belgium',\n",
    " 'LIB': 'Lebanon',\n",
    " 'SCG': 'Serbia and Montenegro',\n",
    " 'MOZ': 'Mozambique',\n",
    " 'CRC': 'Costa Rica',\n",
    " 'COL': 'Colombia',\n",
    " 'ZAM': 'Zambia',\n",
    " 'HUN': 'Hungary',\n",
    " 'UKR': 'Ukraine',\n",
    " 'MAR': 'Morocco',\n",
    " 'ISL': 'Iceland',\n",
    " 'CRO': 'Croatia',\n",
    " 'GAB': 'Gabon',\n",
    " 'MRI': 'Mauritius',\n",
    " 'CIV': 'Ivory Coast',\n",
    " 'LIE': 'Liechtenstein',\n",
    " 'SRB': 'Serbia',\n",
    " 'SRI': 'Sri Lanka',\n",
    " 'YUG': 'Yugoslavia',\n",
    " 'EST': 'Estonia',\n",
    " 'KAZ': 'Kazakhstan',\n",
    " 'BUL': 'Bulgaria',\n",
    " 'ISR': 'Israel',\n",
    " 'DEN': 'Denmark',\n",
    " 'SVK': 'Slovakia',\n",
    " 'ROU': 'Romania',\n",
    " 'ESP': 'Spain',\n",
    " 'PRK': 'Korea, North',\n",
    " 'LUX': 'Luxembourg',\n",
    " 'NZL': 'New Zealand',\n",
    " 'UZB': 'Uzbekistan'}"
   ]
  },
  {
   "cell_type": "markdown",
   "metadata": {},
   "source": [
    "**Question 4.1.** Using `country_codes`, define a function named `code_to_country` that takes as input a country code and returns the corresponding country name. (Should be only one line)"
   ]
  },
  {
   "cell_type": "code",
   "execution_count": 69,
   "metadata": {},
   "outputs": [],
   "source": [
    "def code_to_country(code):\n",
    "    ..."
   ]
  },
  {
   "cell_type": "code",
   "execution_count": null,
   "metadata": {
    "deletable": false,
    "editable": false
   },
   "outputs": [],
   "source": [
    "grader.check(\"q4_1\")"
   ]
  },
  {
   "cell_type": "markdown",
   "metadata": {},
   "source": [
    "**Question 4.2.** Using your `code_to_country` function, use `.get(col).apply()` to convert all of the country codes into country names in the `Country` column. Do this without creating an additional column. Store your result in `summer`.\n",
    "\n",
    "*Hint*: Is there a way to use the `.assign` method to *replace* values in this column without creating an additional column?\n",
    "\n",
    "*Note*: After this question, you will not need to use `summer_data`. You will use `summer`."
   ]
  },
  {
   "cell_type": "code",
   "execution_count": 74,
   "metadata": {
    "scrolled": true
   },
   "outputs": [],
   "source": [
    "summer = ...\n",
    "summer"
   ]
  },
  {
   "cell_type": "code",
   "execution_count": null,
   "metadata": {
    "deletable": false,
    "editable": false
   },
   "outputs": [],
   "source": [
    "grader.check(\"q4_2\")"
   ]
  },
  {
   "cell_type": "markdown",
   "metadata": {},
   "source": [
    "**Question 4.3.** \n",
    "Define a function named `avg_name_length` that returns the arithmetic mean of the first and last names of an individual. It should take as an input the name of an individual. Assume that the name will be a string in the format: 'lastname, firstname'. Remember that the arithmetic mean returns a float.\n",
    "\n",
    "*Hint:* Use the string function [`.split()`](https://docs.python.org/3/library/stdtypes.html#str.split). This is useful in splitting the name into a last name and a first name.\n",
    "\n",
    "*Hint:* Notice that there is a space after the comma. "
   ]
  },
  {
   "cell_type": "code",
   "execution_count": 83,
   "metadata": {},
   "outputs": [],
   "source": [
    "def avg_name_length(name):\n",
    "    ..."
   ]
  },
  {
   "cell_type": "code",
   "execution_count": null,
   "metadata": {
    "deletable": false,
    "editable": false
   },
   "outputs": [],
   "source": [
    "grader.check(\"q4_3\")"
   ]
  },
  {
   "cell_type": "markdown",
   "metadata": {},
   "source": [
    "**Question 4.4.** Create a function named `mean_values` that takes as an input the name of a country and returns the mean average name length of the Olympians from that country. \n",
    "\n",
    "*Hint:* Use the previously defined function!"
   ]
  },
  {
   "cell_type": "code",
   "execution_count": 90,
   "metadata": {},
   "outputs": [],
   "source": [
    "def mean_values(country):\n",
    "    ..."
   ]
  },
  {
   "cell_type": "code",
   "execution_count": null,
   "metadata": {
    "deletable": false,
    "editable": false
   },
   "outputs": [],
   "source": [
    "grader.check(\"q4_4\")"
   ]
  },
  {
   "cell_type": "markdown",
   "metadata": {},
   "source": [
    "**Question 4.5.** \n",
    "Create a table called `avg_names` with columns `Year`, `Sport`, `Athlete` and `Country` and new column `Avg_Name_Length` that has the length of the average name length of that specific athlete, with the shortest average name length at the top and longest at the bottom.\n",
    "\n",
    "*Hint*: Remember that you can create intermediate variables, and start from `summer`. The countries should have the full country names, not the IOC codes."
   ]
  },
  {
   "cell_type": "code",
   "execution_count": 97,
   "metadata": {},
   "outputs": [],
   "source": [
    "avg_names = ...\n",
    "avg_names"
   ]
  },
  {
   "cell_type": "code",
   "execution_count": null,
   "metadata": {
    "deletable": false,
    "editable": false
   },
   "outputs": [],
   "source": [
    "grader.check(\"q4_5\")"
   ]
  },
  {
   "cell_type": "markdown",
   "metadata": {},
   "source": [
    "**Question 4.6.** What is the length of the longest average name? Assign this number to `longest_avg_name_length`. What is the length of the shortest average name? Assign this number to `shortest_avg_name_length`. What is the length difference between the longest and shortest average names? Assign this number to `range_avg_name_length`."
   ]
  },
  {
   "cell_type": "code",
   "execution_count": 107,
   "metadata": {},
   "outputs": [],
   "source": [
    "longest_avg_name_length = ...\n",
    "shortest_avg_name_length = ...\n",
    "range_avg_name_length = ...\n",
    "range_avg_name_length"
   ]
  },
  {
   "cell_type": "code",
   "execution_count": null,
   "metadata": {
    "deletable": false,
    "editable": false
   },
   "outputs": [],
   "source": [
    "grader.check(\"q4_6\")"
   ]
  },
  {
   "cell_type": "markdown",
   "metadata": {},
   "source": [
    "**Question 4.7.** Make a function called `point_total` that takes in a full country name, not IOC code, and awards points based on Olympic medals. The country gets 1 point for every bronze, 3 points for every silver, and 5 for every gold medal."
   ]
  },
  {
   "cell_type": "code",
   "execution_count": 114,
   "metadata": {},
   "outputs": [],
   "source": [
    "def point_total(country):\n",
    "    gold = ...\n",
    "    silver = ...\n",
    "    bronze = ...\n",
    "    return gold + silver + bronze"
   ]
  },
  {
   "cell_type": "code",
   "execution_count": null,
   "metadata": {
    "deletable": false,
    "editable": false
   },
   "outputs": [],
   "source": [
    "grader.check(\"q4_7\")"
   ]
  },
  {
   "cell_type": "markdown",
   "metadata": {},
   "source": [
    "**Question 4.8.** Among the five countries listed below, which has the **second** highest point total?:\n",
    "\n",
    "1. United States\n",
    "2. Russia\n",
    "3. Italy\n",
    "4. China\n",
    "5. France\n",
    "\n",
    "Save the name (not IOC code) of the country as `country` and the country's number of points as `points`. You can set the value of `country` and `points` by hand.\n",
    "\n",
    "*Hint*: Use a previously defined function to help!"
   ]
  },
  {
   "cell_type": "code",
   "execution_count": 120,
   "metadata": {},
   "outputs": [],
   "source": [
    "country = ...\n",
    "points = ..."
   ]
  },
  {
   "cell_type": "code",
   "execution_count": null,
   "metadata": {
    "deletable": false,
    "editable": false
   },
   "outputs": [],
   "source": [
    "grader.check(\"q4_8\")"
   ]
  },
  {
   "cell_type": "markdown",
   "metadata": {},
   "source": [
    "**Question 4.9.** Create a horizontal bar chart of the mean average name length by country. Use your chart to answer the question: which country has the shortest average name in general? Write your answer by hand by assigning the country to `country_shortest_avg_name`. For the country, use the full country name.\n",
    "\n",
    "*Hint*: You may use the table you previously defined with the average name lengths!"
   ]
  },
  {
   "cell_type": "code",
   "execution_count": 126,
   "metadata": {},
   "outputs": [],
   "source": [
    "country_shortest_avg_name = ..."
   ]
  },
  {
   "cell_type": "code",
   "execution_count": null,
   "metadata": {
    "deletable": false,
    "editable": false
   },
   "outputs": [],
   "source": [
    "grader.check(\"q4_9\")"
   ]
  },
  {
   "cell_type": "markdown",
   "metadata": {},
   "source": [
    "## 5. Histograms"
   ]
  },
  {
   "cell_type": "markdown",
   "metadata": {},
   "source": [
    "Suppose we have a table called `data` with two numerical columns, \"x\" and \"y\". Consider the following scatter plot, which was generated by calling `data.plot(kind='scatter', x='x', y='y')`:\n",
    "\n",
    "![](data/scatter.png)\n",
    "\n",
    "Now consider these two histograms:\n",
    "\n",
    "**Histogram A**:\n",
    "\n",
    "![](data/hist_one.png)\n",
    "\n",
    "**Histogram B**:\n",
    "\n",
    "![](data/hist_two.png)"
   ]
  },
  {
   "cell_type": "markdown",
   "metadata": {},
   "source": [
    "**Question 5.1.** Which of these two lines of code generated Histogram B?\n",
    " 1. `data.plot(kind='hist', y='x')`\n",
    " 2. `data.plot(kind='hist', y='y')`  \n",
    " \n",
    " Which line generated Histogram B? Assign either `1` or `2` to `which_histogram`."
   ]
  },
  {
   "cell_type": "code",
   "execution_count": 130,
   "metadata": {},
   "outputs": [],
   "source": [
    "which_histogram = ..."
   ]
  },
  {
   "cell_type": "code",
   "execution_count": null,
   "metadata": {
    "deletable": false,
    "editable": false
   },
   "outputs": [],
   "source": [
    "grader.check(\"q5_1\")"
   ]
  },
  {
   "cell_type": "markdown",
   "metadata": {},
   "source": [
    "**Question 5.2.** Suppose we run this line of code:\n",
    "\n",
    "    new_data = bpd.DataFrame().assign(\n",
    "        x = data.get('x') * 3,\n",
    "        y = data.get('y')\n",
    "    )\n",
    "    \n",
    " We then run `new_data.plot(kind = 'hist', y='x')`. What does the new histogram look like (as opposed to `data.plot(kind = 'hist', y='x')` on the same scale)?"
   ]
  },
  {
   "cell_type": "markdown",
   "metadata": {
    "deletable": false,
    "editable": false
   },
   "source": [
    "<!-- BEGIN QUESTION -->\n",
    "\n",
    "<!--\n",
    "BEGIN QUESTION\n",
    "name: q5_2\n",
    "manual: true\n",
    "-->"
   ]
  },
  {
   "cell_type": "markdown",
   "metadata": {},
   "source": [
    "_Type your answer here, replacing this text._"
   ]
  },
  {
   "cell_type": "markdown",
   "metadata": {},
   "source": [
    "<!-- END QUESTION -->\n",
    "\n",
    "\n",
    "\n",
    "**Question 5.3.** According to the histograms above, approximately what **percent** of points in the scatterplot have an `x` value between -5 and -3 (inclusive)? (Note: the frequency on the histogram is NOT in percentage). Return the number (1 - 4) of the correct percentage listed below in the variable `y_between`.\n",
    "\n",
    "1. 10% == 0.1 frequency\n",
    "2. 15% == 0.15 frequency\n",
    "3. 25% == 0.25 frequency\n",
    "4. 40% == 0.40 frequency"
   ]
  },
  {
   "cell_type": "code",
   "execution_count": 133,
   "metadata": {},
   "outputs": [],
   "source": [
    "y_between = ..."
   ]
  },
  {
   "cell_type": "code",
   "execution_count": null,
   "metadata": {
    "deletable": false,
    "editable": false
   },
   "outputs": [],
   "source": [
    "grader.check(\"q5_3\")"
   ]
  },
  {
   "cell_type": "markdown",
   "metadata": {},
   "source": [
    "# Finish Line"
   ]
  },
  {
   "cell_type": "markdown",
   "metadata": {},
   "source": [
    "To submit your assignment:\n",
    "\n",
    "1. Select `Kernel -> Restart & Run All` to ensure that you have executed all cells, including the test cells.\n",
    "2. Read through the notebook to make sure everything is fine and all tests passed.\n",
    "3. Run the cell below to run all tests, and make sure that they all pass.\n",
    "4. Download your notebook using `File -> Download as -> Notebook (.ipynb)`, then upload your notebook to Gradescope."
   ]
  },
  {
   "cell_type": "code",
   "execution_count": 136,
   "metadata": {},
   "outputs": [],
   "source": [
    "grader.check_all()"
   ]
  },
  {
   "cell_type": "code",
   "execution_count": null,
   "metadata": {},
   "outputs": [],
   "source": []
  }
 ],
 "metadata": {
  "kernelspec": {
   "display_name": "Python 3",
   "language": "python",
   "name": "python3"
  },
  "language_info": {
   "codemirror_mode": {
    "name": "ipython",
    "version": 3
   },
   "file_extension": ".py",
   "mimetype": "text/x-python",
   "name": "python",
   "nbconvert_exporter": "python",
   "pygments_lexer": "ipython3",
   "version": "3.7.7"
  }
 },
 "nbformat": 4,
 "nbformat_minor": 4
}
