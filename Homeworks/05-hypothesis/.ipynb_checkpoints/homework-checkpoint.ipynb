{
 "cells": [
  {
   "cell_type": "markdown",
   "metadata": {},
   "source": [
    "# Homework 5: Probability and Hypothesis Testing\n",
    "## Due Saturday, February 20th at 11:59pm\n",
    "\n",
    "Welcome to Homework 05! This week, we will go over probability and hypothesis testing. Directly sharing answers is not okay, but discussing problems with the course staff or with other students is encouraged. \n",
    "\n",
    "You should start early so that you have time to get help if you're stuck."
   ]
  },
  {
   "cell_type": "markdown",
   "metadata": {},
   "source": [
    "### Instructions\n",
    "\n",
    "This assignment is due Saturday, February 20th at 11:59pm. You are given six slip days thoughout the quarter to extend deadlines. See the syllabus for more details. With the exception of using slip days, late work will not be accepted unless you have made special arrangements with your instructor.\n",
    "\n",
    "**Important**: The `otter` tests don't usually tell you that your answer is correct. More often, they help catch careless mistakes. It's up to you to ensure that your answer is correct. If you're not sure, ask someone (not for the answer, but for some guidance about your approach). These are great questions for office hours or your team's chatroom on Campuswire. Directly sharing answers is not okay, but discussing problems with the course staff or with other students is encouraged. \n",
    "\n",
    "\n",
    "Remember that you may work in pairs for this assignment! If you work in a pair, you must work with someone from your team, and you should submit one notebook to Gradescope for the both of you.\n",
    "\n",
    "You should start early so that you have time to get help if you're stuck. See the course calendar on Canvas for the schedule and Zoom links."
   ]
  },
  {
   "cell_type": "code",
   "execution_count": null,
   "metadata": {},
   "outputs": [],
   "source": [
    "# please don't change this cell, but do make sure to run it\n",
    "import babypandas as bpd\n",
    "import matplotlib.pyplot as plt\n",
    "import numpy as np\n",
    "import otter\n",
    "grader = otter.Notebook()"
   ]
  },
  {
   "cell_type": "markdown",
   "metadata": {},
   "source": [
    "## 1. Among Us"
   ]
  },
  {
   "cell_type": "markdown",
   "metadata": {},
   "source": [
    "Among Us is an online game that has recently exploded in popularity, in which it is best described as a social deduction game to identify an Impostor from all the Crewmates. If you want to learn more about the game (or play, it's free!), check out their [wiki](https://among-us.fandom.com/wiki/Among_Us) or watch gameplay on YouTube, but for the purposes of this question, we will provide all the necessary information.\n",
    "\n",
    "Within Among Us, you choose a color to assign to your character and then you are randomly selected to either be a Crewmate or an Impostor. Being the analytical person you are, you notice that there are some colors that are chosen to be Impostor more than others. You decide to explore this by ranking the colors from most probable to least probable of being Impostor. Your model is:\n",
    "\n",
    "<table>\n",
    "    <tr><th>Player</th><th>Estimated Chance of Impostor</th></tr>\n",
    "    <tr><td>Red</td><td>13%</td></tr>\n",
    "        <tr><td>Orange</td><td>10%</td></tr>\n",
    "        <tr><td>Yellow</td><td>5%</td></tr>\n",
    "        <tr><td>Green</td><td>11%</td></tr>\n",
    "       <tr> <td>Lime</td><td>5%</td></tr>\n",
    "        <tr><td>Blue</td><td>9%</td></tr>\n",
    "        <tr><td>Cyan</td><td>10%</td></tr>\n",
    "        <tr><td>Purple</td><td>8%</td></tr>\n",
    "    <tr><td>Pink</td><td>4%</td></tr>\n",
    "    <tr><td>Black</td><td>10%</td></tr>\n",
    "    <tr><td>White</td><td>2%</td></tr>\n",
    "    <tr><td>Brown</td><td>13%</td></tr>\n",
    "</table>"
   ]
  },
  {
   "cell_type": "markdown",
   "metadata": {},
   "source": [
    "**Question 1.1.** Write down your probability distribution as an *array*. It should contain each of the probabilities from the table above (12 elements total) and it should sum to 1. Name this array `among_us_distribution`.\n"
   ]
  },
  {
   "cell_type": "code",
   "execution_count": null,
   "metadata": {},
   "outputs": [],
   "source": [
    "among_us_distribution = ...\n",
    "among_us_distribution"
   ]
  },
  {
   "cell_type": "code",
   "execution_count": null,
   "metadata": {
    "deletable": false,
    "editable": false
   },
   "outputs": [],
   "source": [
    "grader.check(\"q11\")"
   ]
  },
  {
   "cell_type": "markdown",
   "metadata": {},
   "source": [
    "**Question 1.2.** The color that you select for your character is Cyan -- so you estimate that you have a 10% chance of being an Impostor in any given game. Over the course of this quarantine, you play in 100 games, and are only selected to be Impostor three times. You start to suspect that 10% might be *too high* of an estimate, and that your model is wrong.\n",
    "\n",
    "Using your model in which you have a 10% chance of being Impostor as your null hypothesis, write a simulation that runs 100 games and keeps track of the **absolute difference** between: how many games you are Impostor and the number of times you'd expect to be Impostor (10) in 100 games if your model is right. Run your simulation 5000 times. Keep track of the differences in an *array* called `among_us_differences`. \n",
    "\n",
    "Visualize the distribution of `among_us_differences` with a histogram."
   ]
  },
  {
   "cell_type": "code",
   "execution_count": null,
   "metadata": {
    "scrolled": true
   },
   "outputs": [],
   "source": [
    "n_repetitions = ...\n",
    "\n",
    "#: Visualize with a histogram\n",
    "bpd.DataFrame().assign(Difference = among_us_differences).plot(kind='hist', bins=np.arange(10), density=True)"
   ]
  },
  {
   "cell_type": "code",
   "execution_count": null,
   "metadata": {
    "deletable": false,
    "editable": false
   },
   "outputs": [],
   "source": [
    "grader.check(\"q12\")"
   ]
  },
  {
   "cell_type": "markdown",
   "metadata": {},
   "source": [
    "**Question 1.3.** Your null hypothesis was that you have a 10% chance of being an Impostor, but you only got Impostor 3 times out of 100. Set the variable `among_us_null_hypothesis` below to `True` if you think your model is plausible or `False` if it should be rejected. You should reject only if it is very unlikely that you would be Impostor three times under the null hypothesis."
   ]
  },
  {
   "cell_type": "code",
   "execution_count": null,
   "metadata": {},
   "outputs": [],
   "source": [
    "among_us_null_hypothesis = ...\n",
    "among_us_null_hypothesis"
   ]
  },
  {
   "cell_type": "code",
   "execution_count": null,
   "metadata": {
    "deletable": false,
    "editable": false
   },
   "outputs": [],
   "source": [
    "grader.check(\"q13\")"
   ]
  },
  {
   "cell_type": "markdown",
   "metadata": {},
   "source": [
    "**Question 1.4.** Now, we check the p-value of our claim. That is, compute the proportion of times in our simulation that we saw a difference of 7 or more between the number of times you were Impostor and the expected number of being Impostor. Assign your result to `p_value_1_4`"
   ]
  },
  {
   "cell_type": "code",
   "execution_count": null,
   "metadata": {
    "scrolled": true
   },
   "outputs": [],
   "source": [
    "p_value_1_4 = ...\n",
    "p_value_1_4"
   ]
  },
  {
   "cell_type": "code",
   "execution_count": null,
   "metadata": {
    "deletable": false,
    "editable": false
   },
   "outputs": [],
   "source": [
    "grader.check(\"q14\")"
   ]
  },
  {
   "cell_type": "markdown",
   "metadata": {},
   "source": [
    "## 2. A distribution of M&M's\n",
    "\n",
    "The color for [M&M's](https://en.wikipedia.org/wiki/M%26M%27s) is changing all the time, with each package containing 6 colors now (brown, red, orange, yellow, green, and blue) currently. However, since different colors are made separately by different machines and combined/packaged into bags for sale, the M&M's color may not distributed uniformly. The comma-separated file `m&m.csv` contains the color of 468 bags of M&M's.\n",
    "\n",
    "Look at the color distribution by bag in the dataset below:"
   ]
  },
  {
   "cell_type": "code",
   "execution_count": null,
   "metadata": {},
   "outputs": [],
   "source": [
    "m = bpd.read_csv(\"data/m&m.csv\")\n",
    "m"
   ]
  },
  {
   "cell_type": "markdown",
   "metadata": {},
   "source": [
    "**Question 2.1.** Combine all bags together to count up all the M&M's with the same color. Then calculate the proportion of each color over the all 6 colors. Write down your probability distribution as an *array*. It should contain 6 elements, each describing the proportion of a color in M&M bags, and it should sum to 1. Name this array `color_distribution`."
   ]
  },
  {
   "cell_type": "code",
   "execution_count": null,
   "metadata": {},
   "outputs": [],
   "source": [
    "color_distribution = ...\n",
    "color_distribution"
   ]
  },
  {
   "cell_type": "code",
   "execution_count": null,
   "metadata": {
    "deletable": false,
    "editable": false
   },
   "outputs": [],
   "source": [
    "grader.check(\"q21\")"
   ]
  },
  {
   "cell_type": "markdown",
   "metadata": {},
   "source": [
    "**Question 2.2.** We assume that all colors should distributed uniformly overall. Let's creat a empirical distribution for each color, and name it `empirical_color_distribution` and make sure all probabilities sum up to 1."
   ]
  },
  {
   "cell_type": "code",
   "execution_count": null,
   "metadata": {},
   "outputs": [],
   "source": [
    "empirical_color_distribution = ...\n",
    "empirical_color_distribution"
   ]
  },
  {
   "cell_type": "code",
   "execution_count": null,
   "metadata": {
    "deletable": false,
    "editable": false
   },
   "outputs": [],
   "source": [
    "grader.check(\"q22\")"
   ]
  },
  {
   "cell_type": "markdown",
   "metadata": {},
   "source": [
    "**Question 2.3.** You wish to check the bias of the colors of M&Ms and see if they are distributed uniformly. However, there are six categories of M&M colors: red, orange, yellow, green, brown, and blue. Which among the following do you think is **not** a reasonable choice of test statistic for your hypothesis. You may only choose one of them. Set the result to the variable `unreasonable_test_statistics`. \n",
    "\n",
    "1. The total variation distance between the probability distribution of expected proportion of colors and the distribution of actual proportion of colors\n",
    "2. Sum of the absolute difference between expected proportion of colors and actual proportion of colors\n",
    "3. The absolute difference between the sum of expected proportion of colors and the sum of actual proportion of colors\n",
    "4. Average of the sum of the proportion of expected proportion of colors and the proportion of actual proportion of colors"
   ]
  },
  {
   "cell_type": "code",
   "execution_count": null,
   "metadata": {},
   "outputs": [],
   "source": [
    "unreasonable_test_statistics = ..."
   ]
  },
  {
   "cell_type": "code",
   "execution_count": null,
   "metadata": {
    "deletable": false,
    "editable": false
   },
   "outputs": [],
   "source": [
    "grader.check(\"q23\")"
   ]
  },
  {
   "cell_type": "markdown",
   "metadata": {},
   "source": [
    "**Question 2.4.** We want to test if the colors are distributed uniformly. Assume we have a total of 33335 M&M's. Write a simulation and run it 5000 times, maintaining an array `tvd_color` which keeps track of the total variance distance under the generated distribution by the empirical distribution for each simulation. Save the test statistics in `tvd_color`.\n",
    "\n",
    "Visualize `tvd_color` with a histogram."
   ]
  },
  {
   "cell_type": "code",
   "execution_count": null,
   "metadata": {},
   "outputs": [],
   "source": [
    "def total_variation_distance(first_distrib, second_distrib):\n",
    "    # it might be helpful to create a function for computing the TVD\n",
    "    # you can do so here\n",
    "    ...\n",
    "    \n",
    "\n",
    "#: Visualize with a histogram\n",
    "..."
   ]
  },
  {
   "cell_type": "code",
   "execution_count": null,
   "metadata": {
    "deletable": false,
    "editable": false
   },
   "outputs": [],
   "source": [
    "grader.check(\"q24\")"
   ]
  },
  {
   "cell_type": "markdown",
   "metadata": {},
   "source": [
    "**Question 2.5.** Calculate the TVD between the observed distribution and our empirical distribution. Assign it to `obs_tvd`."
   ]
  },
  {
   "cell_type": "code",
   "execution_count": null,
   "metadata": {},
   "outputs": [],
   "source": [
    "obs_tvd = ...\n",
    "obs_tvd"
   ]
  },
  {
   "cell_type": "code",
   "execution_count": null,
   "metadata": {
    "deletable": false,
    "editable": false
   },
   "outputs": [],
   "source": [
    "grader.check(\"q25\")"
   ]
  },
  {
   "cell_type": "markdown",
   "metadata": {},
   "source": [
    "**Question 2.6.** Now, we check the p-value of our claim. That is, compute the proportion of times in our simulation that we saw a TVD greater or equal to our observed TVD. Assign your result to `p_value_4_5`. Also, assign a conclusion of whether we should reject the null hypothesis. Set the variable `null_hypothesis_4` below to `True` if you think the color difference happened by chance or `False` if it should be rejected."
   ]
  },
  {
   "cell_type": "code",
   "execution_count": null,
   "metadata": {},
   "outputs": [],
   "source": [
    "p_value_4_5 = ...\n",
    "null_hypothesis_4 = ...\n",
    "p_value_4_5, null_hypothesis_4"
   ]
  },
  {
   "cell_type": "code",
   "execution_count": null,
   "metadata": {
    "deletable": false,
    "editable": false
   },
   "outputs": [],
   "source": [
    "grader.check(\"q26\")"
   ]
  },
  {
   "cell_type": "markdown",
   "metadata": {},
   "source": [
    "## 3. Blitz Chess"
   ]
  },
  {
   "cell_type": "markdown",
   "metadata": {},
   "source": [
    "Max is a professional Blitz Chess player. Usually there are three outcomes `Win`, `Loss`, and `Draw` which means no one wins the round.\n"
   ]
  },
  {
   "cell_type": "markdown",
   "metadata": {},
   "source": [
    "**Question 3.1.** Max has a chess rating of 2200, and we hypothesize that any player that is rated at 2200 or higher will have a winning rate of 0.4, and Loss rate of 0.35.\n",
    "\n",
    "Write down our model's distribution as an *array*. It should contain 3 elements, each describing the probabilities of `Win`, `Loss`, and `Draw` (in that order). \n",
    "Then set it to the variable name `blitz_chess_model_distribution` and remember that the array should sum to 1."
   ]
  },
  {
   "cell_type": "code",
   "execution_count": null,
   "metadata": {},
   "outputs": [],
   "source": [
    "blitz_chess_model_distribution = ...\n",
    "blitz_chess_model_distribution"
   ]
  },
  {
   "cell_type": "code",
   "execution_count": null,
   "metadata": {
    "deletable": false,
    "editable": false
   },
   "outputs": [],
   "source": [
    "grader.check(\"q31\")"
   ]
  },
  {
   "cell_type": "markdown",
   "metadata": {},
   "source": [
    "**Question 3.2.** Then we want to validate our model and check if it truly captures the winning rate of chess player with a 2200 rating or above. We decided to look at Max's match history. He won 280 games out of 600 games. So we think there maybe a problem with our model. In order to verify that, we can run a simulation of the 600 chess matches.\n",
    "\n",
    "Conduct a simulation and run it 5000 times, maintaining an array `differences` which keeps track of the absolute difference between the observed number of winning games for Max and the expected number of winning games in each simulation."
   ]
  },
  {
   "cell_type": "code",
   "execution_count": null,
   "metadata": {
    "scrolled": true
   },
   "outputs": [],
   "source": [
    "n_repetitions = ...\n",
    "differences = ...\n",
    "\n",
    "\n",
    "#: Visualize with a histogram\n",
    "..."
   ]
  },
  {
   "cell_type": "code",
   "execution_count": null,
   "metadata": {
    "deletable": false,
    "editable": false
   },
   "outputs": [],
   "source": [
    "grader.check(\"q32\")"
   ]
  },
  {
   "cell_type": "markdown",
   "metadata": {},
   "source": [
    "**Question 3.3.** According to Max's match history, recall that he won 280 games out of 600 games. Use this information to calculate the p-value of our claim about the probability of winning for chess players with a rating at or above 2200. Assign your result to `p_value_3_3`"
   ]
  },
  {
   "cell_type": "code",
   "execution_count": null,
   "metadata": {},
   "outputs": [],
   "source": [
    "p_value_3_3 = ...\n",
    "p_value_3_3"
   ]
  },
  {
   "cell_type": "code",
   "execution_count": null,
   "metadata": {
    "deletable": false,
    "editable": false
   },
   "outputs": [],
   "source": [
    "grader.check(\"q33\")"
   ]
  },
  {
   "cell_type": "markdown",
   "metadata": {},
   "source": [
    "**Question 3.4.** Set the variable `null_hypothesis_boolean` below to `True` if the observed number of games won by Max could have happened by chance and `False` if this was unlikley to have happened by chance, and our model for players with ratings at or above 2200 should be rejected."
   ]
  },
  {
   "cell_type": "code",
   "execution_count": null,
   "metadata": {},
   "outputs": [],
   "source": [
    "null_hypothesis_boolean = ..."
   ]
  },
  {
   "cell_type": "code",
   "execution_count": null,
   "metadata": {
    "deletable": false,
    "editable": false
   },
   "outputs": [],
   "source": [
    "grader.check(\"q34\")"
   ]
  },
  {
   "cell_type": "markdown",
   "metadata": {},
   "source": [
    "# Finish Line"
   ]
  },
  {
   "cell_type": "markdown",
   "metadata": {},
   "source": [
    "To submit your assignment:\n",
    "\n",
    "1. Select `Kernel -> Restart & Run All` to ensure that you have executed all cells, including the test cells.\n",
    "2. Read through the notebook to make sure everything is fine and all tests passed.\n",
    "3. Run the cell below to run all tests, and make sure that they all pass.\n",
    "4. Download your notebook using `File -> Download as -> Notebook (.ipynb)`, then upload your notebook to Gradescope."
   ]
  },
  {
   "cell_type": "code",
   "execution_count": null,
   "metadata": {},
   "outputs": [],
   "source": [
    "grader.check_all()"
   ]
  },
  {
   "cell_type": "code",
   "execution_count": null,
   "metadata": {},
   "outputs": [],
   "source": []
  }
 ],
 "metadata": {
  "kernelspec": {
   "display_name": "Python 3",
   "language": "python",
   "name": "python3"
  },
  "language_info": {
   "codemirror_mode": {
    "name": "ipython",
    "version": 3
   },
   "file_extension": ".py",
   "mimetype": "text/x-python",
   "name": "python",
   "nbconvert_exporter": "python",
   "pygments_lexer": "ipython3",
   "version": "3.7.7"
  }
 },
 "nbformat": 4,
 "nbformat_minor": 4
}
