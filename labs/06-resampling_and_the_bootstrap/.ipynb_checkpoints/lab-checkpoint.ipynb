{
 "cells": [
  {
   "cell_type": "markdown",
   "metadata": {},
   "source": [
    "## Lab 6: Permutation Testing and Bootstrapping\n",
    "\n",
    "Welcome to Lab 6! In this lab we will learn about Permutation Testing (or A/B Testing) and estimation with Bootstrapping. Refer to the textbook for more information about [Permutation Testing](https://eldridgejm.github.io/dive_into_data_science/07-hypothesis_testing/2_permutation_tests.html) and [Bootstrapping](https://eldridgejm.github.io/dive_into_data_science/08-estimation/1_bootstrap.html). This lab is due on **Tuesday, 2/23 at 11:59pm.**\n",
    "\n",
    "As usual, **run the cell below** to prepare the lab and the automatic tests."
   ]
  },
  {
   "cell_type": "code",
   "execution_count": null,
   "metadata": {},
   "outputs": [],
   "source": [
    "import numpy as np\n",
    "import babypandas as bpd\n",
    "import math\n",
    "\n",
    "# These lines set up graphing capabilities.\n",
    "import matplotlib\n",
    "import matplotlib.pyplot as plt\n",
    "plt.style.use('fivethirtyeight')\n",
    "%matplotlib inline\n",
    "\n",
    "import otter\n",
    "grader = otter.Notebook()"
   ]
  },
  {
   "cell_type": "markdown",
   "metadata": {},
   "source": [
    "## 1. Permutation Testing with Midterm Project Grades\n",
    "Recently, you completed a Midterm project for this class and being the Data Science staff we are, we were curious to see if there was a significance difference in scores between students who turned in the project on-time versus those who turned in it late. The data you will be looking at is the actual data from this quarter's midterm projects!\n",
    "\n",
    "Within the dataframe below, we have two columns: Autograder Score and Lateness. The Lateness column has three values: On Time, Late (1 day), and Late (2 days)."
   ]
  },
  {
   "cell_type": "code",
   "execution_count": null,
   "metadata": {},
   "outputs": [],
   "source": [
    "midterm = bpd.read_csv('data/MidtermProjectScores.csv')\n",
    "midterm"
   ]
  },
  {
   "cell_type": "markdown",
   "metadata": {},
   "source": [
    "#### Question 1.1\n",
    "Take a guess: do you think project scores for those who submitted late will be higher, lower, or about the same as those who submitted on time? Assign 1, 2, or 3 to `guess`\n",
    "\n",
    "1. The late project scores will be *higher* than the on-time project scores.\n",
    "2. The late project scores will be *lower* than the on-time project scores.\n",
    "3. The late project scores will be *the same* as the on-time project scores."
   ]
  },
  {
   "cell_type": "code",
   "execution_count": null,
   "metadata": {},
   "outputs": [],
   "source": [
    "guess = ..."
   ]
  },
  {
   "cell_type": "code",
   "execution_count": null,
   "metadata": {
    "deletable": false,
    "editable": false
   },
   "outputs": [],
   "source": [
    "grader.check(\"q11\")"
   ]
  },
  {
   "cell_type": "markdown",
   "metadata": {},
   "source": [
    "#### Question 1.2\n",
    "\n",
    "Add a column `Was_Late` to the `midterm` dataframe, containing boolean True/False values for whether the project was submitted late."
   ]
  },
  {
   "cell_type": "code",
   "execution_count": null,
   "metadata": {},
   "outputs": [],
   "source": [
    "midterm = ..."
   ]
  },
  {
   "cell_type": "code",
   "execution_count": null,
   "metadata": {
    "deletable": false,
    "editable": false
   },
   "outputs": [],
   "source": [
    "grader.check(\"q12\")"
   ]
  },
  {
   "cell_type": "markdown",
   "metadata": {},
   "source": [
    "#### Question 1.3\n",
    "\n",
    "Assign a list, array, or Series of scores for on-time projects to `on_time_scores`, and similarly assign the scores for late projects to `late_scores`."
   ]
  },
  {
   "cell_type": "code",
   "execution_count": null,
   "metadata": {
    "scrolled": true
   },
   "outputs": [],
   "source": [
    "on_time_scores = ...\n",
    "late_scores = ..."
   ]
  },
  {
   "cell_type": "code",
   "execution_count": null,
   "metadata": {
    "deletable": false,
    "editable": false
   },
   "outputs": [],
   "source": [
    "grader.check(\"q13\")"
   ]
  },
  {
   "cell_type": "markdown",
   "metadata": {},
   "source": [
    "Run the code below to make an overlaid histogram showing the distribution of scores for those who submitted late and the distribution of scores for those who submitted on time."
   ]
  },
  {
   "cell_type": "code",
   "execution_count": null,
   "metadata": {},
   "outputs": [],
   "source": [
    "#Don't change this cell, just run it.\n",
    "plt.hist(on_time_scores, density = True, alpha = 0.75)\n",
    "plt.hist(late_scores, density = True, alpha = 0.75)\n",
    "plt.title(\"Distribution of Scores\")\n",
    "plt.legend([\"On-Time\", \"Late\"])"
   ]
  },
  {
   "cell_type": "markdown",
   "metadata": {},
   "source": [
    "It looks like the distributions are a bit different, but how can we quantify this difference? Let's calculate the difference in means of the two distributions. \n",
    "\n",
    "#### Question 1.4\n",
    "\n",
    "Calculate the difference in the average score for on-time submissions and late submissions, and assign it to a variable `observed_difference`.\n",
    "\n",
    "$$\\text{observed_difference} = \\text{mean On Time} - \\text{mean Late}$$"
   ]
  },
  {
   "cell_type": "code",
   "execution_count": null,
   "metadata": {},
   "outputs": [],
   "source": [
    "observed_difference = ...\n",
    "observed_difference"
   ]
  },
  {
   "cell_type": "code",
   "execution_count": null,
   "metadata": {
    "deletable": false,
    "editable": false
   },
   "outputs": [],
   "source": [
    "grader.check(\"q14\")"
   ]
  },
  {
   "cell_type": "markdown",
   "metadata": {},
   "source": [
    "Is this a substantial difference, or not? To answer this question, we should conduct an A/B test (i.e. Permutation Test) to see if it is by chance that the on-time project scores are higher than late project scores, or if on-time project scores really are drawn from a different distribution than late project scores. Let's state our hypotheses:\n",
    "\n",
    "**Null Hypothesis:** Scores of on-time and late projects come from the same distribution.  \n",
    "\n",
    "**Alternative Hypothesis:** Scores of on-time projects are typically higher than late projects.\n",
    "\n",
    "For a refresher on the process for an A/B test, [refer to this section of the textbook](https://eldridgejm.github.io/dive_into_data_science/07-hypothesis_testing/2_permutation_tests.html). \n",
    "\n",
    "#### Question 1.5: \n",
    "\n",
    "For this A/B test, we will shuffle the `Autograder Score` column and keep the `Was_Late` column in the same order. Set `shuffled_scores` to a list, array, or Series containing all the scores in the `Autograder Score` column, but in a random order. "
   ]
  },
  {
   "cell_type": "code",
   "execution_count": null,
   "metadata": {},
   "outputs": [],
   "source": [
    "shuffled_scores = ...\n",
    "shuffled_scores"
   ]
  },
  {
   "cell_type": "code",
   "execution_count": null,
   "metadata": {
    "deletable": false,
    "editable": false
   },
   "outputs": [],
   "source": [
    "grader.check(\"q15\")"
   ]
  },
  {
   "cell_type": "markdown",
   "metadata": {},
   "source": [
    "#### Question 1.6: \n",
    "\n",
    "Now, create a new table called `shuffled_table` that has two columns: the `Was_Late` column from the original `midterm` table (with entries in the same order), and a column called `Shuffled_Score` that contains `shuffled_scores`."
   ]
  },
  {
   "cell_type": "code",
   "execution_count": null,
   "metadata": {},
   "outputs": [],
   "source": [
    "shuffled_table = ...\n",
    "shuffled_table"
   ]
  },
  {
   "cell_type": "code",
   "execution_count": null,
   "metadata": {
    "deletable": false,
    "editable": false
   },
   "outputs": [],
   "source": [
    "grader.check(\"q16\")"
   ]
  },
  {
   "cell_type": "markdown",
   "metadata": {},
   "source": [
    "#### Question 1.7: \n",
    "\n",
    "For the permutation in `shuffled_table`, calculate the difference in the average score for on-time submissions and late submissions, and assign it to a variable `shuffled_difference`.\n",
    "\n",
    "$$\\text{shuffled_difference} = \\text{mean On Time} - \\text{mean Late}$$"
   ]
  },
  {
   "cell_type": "code",
   "execution_count": null,
   "metadata": {
    "scrolled": true
   },
   "outputs": [],
   "source": [
    "shuffled_difference = ...\n",
    "shuffled_difference "
   ]
  },
  {
   "cell_type": "code",
   "execution_count": null,
   "metadata": {
    "deletable": false,
    "editable": false
   },
   "outputs": [],
   "source": [
    "grader.check(\"q17\")"
   ]
  },
  {
   "cell_type": "markdown",
   "metadata": {},
   "source": [
    "#### Question 1.8\n",
    "\n",
    "Now, repeat the process. Use a permutation test to calculate 1000 differences using random permutations of the data and store all in the `shuffled_differences` array."
   ]
  },
  {
   "cell_type": "code",
   "execution_count": null,
   "metadata": {
    "scrolled": true
   },
   "outputs": [],
   "source": [
    "shuffled_differences = ...\n",
    "..."
   ]
  },
  {
   "cell_type": "code",
   "execution_count": null,
   "metadata": {
    "deletable": false,
    "editable": false
   },
   "outputs": [],
   "source": [
    "grader.check(\"q18\")"
   ]
  },
  {
   "cell_type": "markdown",
   "metadata": {},
   "source": [
    "Let's now take a look at the histogram of all the differences you simulated and see where our observed difference lies!"
   ]
  },
  {
   "cell_type": "code",
   "execution_count": null,
   "metadata": {},
   "outputs": [],
   "source": [
    "bpd.DataFrame().assign(DifferenceInMeans=shuffled_differences).plot(kind='hist', density=True, bins=20)\n",
    "plt.axvline(observed_difference, color='red');"
   ]
  },
  {
   "cell_type": "markdown",
   "metadata": {},
   "source": [
    "#### Question 1.9\n",
    "\n",
    "Compute a p-value for the hypothesis test. That is, under the null hypothesis, compute the probability that we would have obtained a difference greater than or equal to `observed_difference` by chance alone. In other words, how often, in the 1000 permutations that we did, did we get a `shuffled_difference` that was greater than or equal to `observed_difference`.  Assign your answer to `p_val`."
   ]
  },
  {
   "cell_type": "code",
   "execution_count": null,
   "metadata": {},
   "outputs": [],
   "source": [
    "p_val = ...\n",
    "p_val"
   ]
  },
  {
   "cell_type": "code",
   "execution_count": null,
   "metadata": {
    "deletable": false,
    "editable": false
   },
   "outputs": [],
   "source": [
    "grader.check(\"q19\")"
   ]
  },
  {
   "cell_type": "markdown",
   "metadata": {},
   "source": [
    "#### Question 1.10\n",
    "\n",
    "What can we conclude from our permutation test? Is our observed difference statistically significant given a 0.05 significance level? Assign `conclusion` to either 1, 2, or 3\n",
    "\n",
    "1. Our observed difference is statistically significant, so we reject the null hypothes. We think that scores of on-time projects are typically higher than scores of late projects.\n",
    "2. Our observed difference is not statistically significant, so we cannot reject the null hypothesis. We think that scores of on-time projects and late projects are about the same.\n",
    "3. We cannot determine whether the observed difference is statistically significant or not, so we need to do more simulations."
   ]
  },
  {
   "cell_type": "code",
   "execution_count": null,
   "metadata": {},
   "outputs": [],
   "source": [
    "conclusion = ...\n",
    "conclusion"
   ]
  },
  {
   "cell_type": "code",
   "execution_count": null,
   "metadata": {
    "deletable": false,
    "editable": false
   },
   "outputs": [],
   "source": [
    "grader.check(\"q110\")"
   ]
  },
  {
   "cell_type": "markdown",
   "metadata": {},
   "source": [
    "## 2. Percentiles\n",
    "Numerical data can be sorted in increasing or decreasing order. Thus the values of a numerical data set have some rank order. A `percentile` is the value at a particular rank. The p`th` percentile is the value in the set that is at least as large as p% of the elements in the set."
   ]
  },
  {
   "cell_type": "markdown",
   "metadata": {},
   "source": [
    "#### Question 2.1\n",
    "\n",
    "Say, you are in a class with 10 students and the grades of all students in the class are stored in the array `grades`. Your score is 84. \n",
    "\n",
    "Which of the following statements are true?\n",
    "\n",
    "1. The highest score is the 100th percentile \n",
    "2. Your score is more than 80th percentile\n",
    "3. Your score is less than 81st percentile\n",
    "4. Your score is less than 90th percentile\n",
    "5. 78 is the 50th percentile\n",
    "\n",
    "Assign `true_percentile` to a list of the correct statements."
   ]
  },
  {
   "cell_type": "code",
   "execution_count": null,
   "metadata": {},
   "outputs": [],
   "source": [
    "grades = np.array([56, 65, 67, 72, 74, 78, 78, 80, 84, 94])\n",
    "true_percentile = ...\n",
    "true_percentile"
   ]
  },
  {
   "cell_type": "code",
   "execution_count": null,
   "metadata": {
    "deletable": false,
    "editable": false
   },
   "outputs": [],
   "source": [
    "grader.check(\"q21\")"
   ]
  },
  {
   "cell_type": "markdown",
   "metadata": {},
   "source": [
    "#### Question 2.2\n",
    "The `percentile` function takes two arguments: a rank between 0 and 100, and an array. It returns the corresponding percentile of the array: `percentile(array, rank)`. Calculate the 50`th` percentile of the `grades` array using the `percentile` function."
   ]
  },
  {
   "cell_type": "code",
   "execution_count": null,
   "metadata": {},
   "outputs": [],
   "source": [
    "p_50 = ...\n",
    "p_50"
   ]
  },
  {
   "cell_type": "code",
   "execution_count": null,
   "metadata": {
    "deletable": false,
    "editable": false
   },
   "outputs": [],
   "source": [
    "grader.check(\"q22\")"
   ]
  },
  {
   "cell_type": "markdown",
   "metadata": {},
   "source": [
    "#### Question 2.3\n",
    "Calculate the median value of the `grades` array and **manually** compare it to your answer from `Question 2.2`. Set variable `same` to `True` if the two values are the same, and `False` if they are different. Do not use if/else for this question.  "
   ]
  },
  {
   "cell_type": "code",
   "execution_count": null,
   "metadata": {},
   "outputs": [],
   "source": [
    "median = ...\n",
    "print(median)\n",
    "same = ..."
   ]
  },
  {
   "cell_type": "code",
   "execution_count": null,
   "metadata": {
    "deletable": false,
    "editable": false
   },
   "outputs": [],
   "source": [
    "grader.check(\"q23\")"
   ]
  },
  {
   "cell_type": "markdown",
   "metadata": {},
   "source": [
    "## 3. German Tank Problem: Preliminaries\n",
    "\n",
    "In lecture, we saw an example of *estimation*.  In WWII, the Allies wanted to know how many tanks the Germans had (some number `N`), and they needed to estimate that quantity knowing only a random sample of the tanks' serial numbers (from 1 to `N`).  For example, one estimate was twice the mean of the sample serial numbers.\n",
    "\n",
    "We investigated the random variation in these estimates by simulating sampling from the population many times and computing estimates from each sample.  In real life, if the Allies had known what the population looked like, they would have known `N` and would not have had any reason to think about random sampling.  They didn't know what the population looked like, so they couldn't have run the simulations we did.  So that was useful as an exercise in *understanding random variation* in an estimate, but not as a tool for practical data analysis.\n",
    "\n",
    "Now we'll flip that idea on its head to make it practical.  Given *just* a random sample of serial numbers, we'll estimate `N`, and then we'll use simulation to find out how accurate our estimate probably is, without ever looking at the whole population.  This is an example of *statistical inference*.\n",
    "\n",
    "We assume that the German tanks have serial numbers from 1 to `N` and we have access to a random sample **with replacement** from among all the serial numbers. "
   ]
  },
  {
   "cell_type": "markdown",
   "metadata": {},
   "source": [
    "#### Question 3.1\n",
    "Is `N` a population parameter or a statistic?  If we compute a number using our random sample that's an estimate of `N`, is that a population parameter or a statistic?  Assign either 1, 2, 3, or 4 to the variable `preliminaries_q1` below. \n",
    "1. `N` is a population parameter.  An estimate of `N` from our random sample is a population parameter.\n",
    "2. `N` is a population parameter.  An estimate of `N` from our random sample is a statistic.\n",
    "3. `N` is a statistic.  An estimate of `N` from our random sample is a population parameter.\n",
    "4. `N` is a statistic.  An estimate of `N` from our random sample is a statistic."
   ]
  },
  {
   "cell_type": "code",
   "execution_count": null,
   "metadata": {},
   "outputs": [],
   "source": [
    "preliminaries_q1 = ..."
   ]
  },
  {
   "cell_type": "code",
   "execution_count": null,
   "metadata": {
    "deletable": false,
    "editable": false
   },
   "outputs": [],
   "source": [
    "grader.check(\"q31\")"
   ]
  },
  {
   "cell_type": "markdown",
   "metadata": {},
   "source": [
    "To make the situation realistic, we're going to hide the true number of tanks from you.  You'll have access only to this random sample:"
   ]
  },
  {
   "cell_type": "code",
   "execution_count": null,
   "metadata": {},
   "outputs": [],
   "source": [
    "observations = bpd.read_csv(\"data/serial_numbers.csv\")\n",
    "num_observations = observations.shape[0]\n",
    "observations"
   ]
  },
  {
   "cell_type": "markdown",
   "metadata": {},
   "source": [
    "#### Question 3.2\n",
    "Define a function named `plot_serial_numbers` to make a histogram of any table of serial numbers.  It should take one argument, a table like `observations` with one column called `\"serial_number\"`.  It should plot a histogram of the values in the column **using bins of width 1** ranging from **1 to 200** but return nothing.  Then, call that function to make a histogram of `observations`."
   ]
  },
  {
   "cell_type": "code",
   "execution_count": null,
   "metadata": {},
   "outputs": [],
   "source": [
    "def plot_serial_numbers(numbers):\n",
    "    ...\n",
    "\n",
    "plot_serial_numbers(observations)"
   ]
  },
  {
   "cell_type": "markdown",
   "metadata": {},
   "source": [
    "***Check your answer***: Your histogram should have bars that are all the same height and the plot's x axis should read \"serial_number\" and have a range starting from 0 and ending at 200"
   ]
  },
  {
   "cell_type": "markdown",
   "metadata": {},
   "source": [
    "#### Question 3.3\n",
    "Why are all the bars the same height, and will they always be?  Think about why this is the case.  Assign either 1, 2, 3, or 4 to the variable `preliminaries_q3` below. \n",
    "1. Each serial number is in a bin of width 1, and all bins need to have the same area, so all of the bars are the same height. In general, the bars will always be the same height for a set of observations.\n",
    "2. Each serial number has the same length, so all of the bars are the same height. In general, all of the bars will always have the same height for any set of observations.\n",
    "3. Each serial number shows up the same number of times in this set of observations, so all of the bars are the same height. In general, the bars might have different heights for another set of observations.\n",
    "4. Each serial number shows up once in this set of observations, so all of the bars are the same height. In general, the bars will always have the same height for any set of observations."
   ]
  },
  {
   "cell_type": "code",
   "execution_count": null,
   "metadata": {},
   "outputs": [],
   "source": [
    "preliminaries_q3 = ..."
   ]
  },
  {
   "cell_type": "code",
   "execution_count": null,
   "metadata": {
    "deletable": false,
    "editable": false
   },
   "outputs": [],
   "source": [
    "grader.check(\"q33\")"
   ]
  },
  {
   "cell_type": "markdown",
   "metadata": {},
   "source": [
    "#### Question 3.4\n",
    "In lecture, we saw that one way to estimate `N` was to take twice the mean of the serial numbers we see. Write a function that computes that statistic.  It should take as its argument an array of serial numbers and return twice their mean.  Call it `mean_based_estimator`.  \n",
    "\n",
    "After that, use it to compute an estimate of `N` called `mean_based_estimate`."
   ]
  },
  {
   "cell_type": "code",
   "execution_count": null,
   "metadata": {},
   "outputs": [],
   "source": [
    "def mean_based_estimator(nums):\n",
    "    ...\n",
    "\n",
    "mean_based_estimate = ...\n",
    "mean_based_estimate"
   ]
  },
  {
   "cell_type": "code",
   "execution_count": null,
   "metadata": {
    "deletable": false,
    "editable": false
   },
   "outputs": [],
   "source": [
    "grader.check(\"q34\")"
   ]
  },
  {
   "cell_type": "markdown",
   "metadata": {},
   "source": [
    "#### Question 3.5\n",
    "We also estimated `N` using the biggest serial number in the sample.  Compute it, giving it the name `max_estimate`."
   ]
  },
  {
   "cell_type": "code",
   "execution_count": null,
   "metadata": {},
   "outputs": [],
   "source": [
    "max_estimate = ...\n",
    "max_estimate"
   ]
  },
  {
   "cell_type": "code",
   "execution_count": null,
   "metadata": {
    "deletable": false,
    "editable": false
   },
   "outputs": [],
   "source": [
    "grader.check(\"q35\")"
   ]
  },
  {
   "cell_type": "markdown",
   "metadata": {},
   "source": [
    "#### Question 3.6\n",
    "Look at the values of `max_estimate` and `mean_based_estimate` that we happened to get for our dataset.  The value of `max_estimate` tells you something about `mean_based_estimate`.  Could our current `mean_based_estimate` possibly be equal to `N` (at least if we round it to the nearest integer)?  If not, is it definitely higher, definitely lower, or can we not tell?  Assign one of the choices (`1 - 6`) to the variable `preliminaries_q6` below. \n",
    "1. Yes, our `mean_based_estimate` for this sample could equal `N`.\n",
    "2. No, our `mean_based_estimate` for this sample cannot be equal to `N`, it is definitely lower by roughly 3.\n",
    "3. No, our `mean_based_estimate` for this sample cannot be equal to `N`, it is definitely lower by at least 12.\n",
    "4. No, our `mean_based_estimate` for this sample cannot be equal to `N`, it is definitely higher by roughly 3.\n",
    "5. No, our `mean_based_estimate` for this sample cannot be equal to `N`, it is definitely higher by at least 12.\n",
    "6. No, our `mean_based_estimate` for this sample cannot be equal to `N`, but we cannot tell if it is lower or higher."
   ]
  },
  {
   "cell_type": "code",
   "execution_count": null,
   "metadata": {},
   "outputs": [],
   "source": [
    "preliminaries_q6 = ..."
   ]
  },
  {
   "cell_type": "code",
   "execution_count": null,
   "metadata": {
    "deletable": false,
    "editable": false
   },
   "outputs": [],
   "source": [
    "grader.check(\"q36\")"
   ]
  },
  {
   "cell_type": "markdown",
   "metadata": {},
   "source": [
    "We can't just confidently proclaim that `max_estimate` or `mean_based_estimate` is equal to `N`.  What if we're really far off?  So we want to get a sense of the accuracy of our estimates."
   ]
  },
  {
   "cell_type": "markdown",
   "metadata": {},
   "source": [
    "## 4. German Tank Problem: Resampling\n",
    "Therefore, we'll use resampling.  That is, we won't exactly simulate the observations the Allies would have really seen.  Rather we sample from our sample, or \"resample.\"\n",
    "\n",
    "Why does that make any sense?\n",
    "\n",
    "When we tried to estimate `N`, we would have liked to use the whole population.  Since we had only a sample, we used that to estimate `N` instead.\n",
    "\n",
    "This time, we would like to use the population of serial numbers to *run a simulation* about estimates of `N`.  But we still only have our sample.  We use our sample in place of the population to run the simulation.\n",
    "\n",
    "So there is a simple analogy between estimating `N` and simulating the variability of estimates.\n",
    "\n",
    "$$\\text{computing }N\\text{ from the population}$$\n",
    "$$:$$\n",
    "$$\\text{computing an estimate of }N\\text{ from a sample}$$\n",
    "\n",
    "$$\\text{as}$$\n",
    "\n",
    "$$\\text{simulating the distribution of estimates of }N\\text{ using samples from the population}$$\n",
    "$$:$$\n",
    "$$\\text{simulating an (approximate) distribution of estimates of }N\\text{ using resamples from a sample}$$"
   ]
  },
  {
   "cell_type": "markdown",
   "metadata": {},
   "source": [
    "#### Question 4.1\n",
    "Write a function called `simulate_resample`.  It should generate a resample from the observed serial numbers in `observations` and return that resample.  (The resample should be a table like `observations`.)  It should take no arguments."
   ]
  },
  {
   "cell_type": "code",
   "execution_count": null,
   "metadata": {},
   "outputs": [],
   "source": [
    "def simulate_resample():\n",
    "    ...\n",
    "# This is a little magic to make sure that you see the same results we did.\n",
    "np.random.seed(123)\n",
    "\n",
    "#Don't change this code, just run it.\n",
    "one_resample = simulate_resample()\n",
    "one_resample"
   ]
  },
  {
   "cell_type": "code",
   "execution_count": null,
   "metadata": {
    "deletable": false,
    "editable": false
   },
   "outputs": [],
   "source": [
    "grader.check(\"q41\")"
   ]
  },
  {
   "cell_type": "markdown",
   "metadata": {},
   "source": [
    "Let's make one resample."
   ]
  },
  {
   "cell_type": "markdown",
   "metadata": {},
   "source": [
    "Later, we'll use many resamples at once to see what estimates typically look like.  We don't often pay attention to single resamples, so it's easy to misunderstand them.  Let's examine some individual resamples before we start using them."
   ]
  },
  {
   "cell_type": "markdown",
   "metadata": {},
   "source": [
    "#### Question 4.2\n",
    "Make a histogram of your resample using the plotting function you defined earlier in this lab, `plot_serial_numbers`, **and** a separate histogram of the original observations."
   ]
  },
  {
   "cell_type": "code",
   "execution_count": null,
   "metadata": {},
   "outputs": [],
   "source": [
    "..."
   ]
  },
  {
   "cell_type": "code",
   "execution_count": null,
   "metadata": {},
   "outputs": [],
   "source": [
    "..."
   ]
  },
  {
   "cell_type": "markdown",
   "metadata": {},
   "source": [
    "#### Question 4.3\n",
    "Which of the following are true:\n",
    "1. In the plot of the resample, there are no bars at locations that weren't there in the plot of the original observations.\n",
    "2. In the plot of the original observations, there are no bars at locations that weren't there in the plot of the resample.\n",
    "3. The resample has exactly one copy of each serial number.\n",
    "4. The original observations had exactly one copy of each serial number.\n",
    "\n",
    "Assign `true_statements` to a list of the correct statements"
   ]
  },
  {
   "cell_type": "code",
   "execution_count": null,
   "metadata": {},
   "outputs": [],
   "source": [
    "true_statements = ..."
   ]
  },
  {
   "cell_type": "code",
   "execution_count": null,
   "metadata": {
    "deletable": false,
    "editable": false
   },
   "outputs": [],
   "source": [
    "grader.check(\"q43\")"
   ]
  },
  {
   "cell_type": "markdown",
   "metadata": {},
   "source": [
    "#### Question 4.4\n",
    "Create 2 more resamples. For each one, plot it as well as compute the max- and mean-based estimates using that resample."
   ]
  },
  {
   "cell_type": "code",
   "execution_count": null,
   "metadata": {},
   "outputs": [],
   "source": [
    "resample_0 = ...\n",
    "...\n",
    "mean_based_estimate_0 = ...\n",
    "max_based_estimate_0 = ...\n",
    "print(\"Mean-based estimate for resample 0:\", mean_based_estimate_0)\n",
    "print(\"Max-based estimate for resample 0:\", max_based_estimate_0)\n",
    "\n",
    "resample_1 = ...\n",
    "...\n",
    "mean_based_estimate_1 = ...\n",
    "max_based_estimate_1 = ...\n",
    "print(\"Mean-based estimate for resample 1:\", mean_based_estimate_1)\n",
    "print(\"Max-based estimate for resample 1:\", max_based_estimate_1)"
   ]
  },
  {
   "cell_type": "markdown",
   "metadata": {},
   "source": [
    "#### Question 4.5\n",
    "Using probability that you've learned, compute the exact chance that a max-based estimate from one *resample* of our observations sample is 135 and assign it to the variable `resampling_q5` below.  It may be useful to recall that the size of `observations` is 17. "
   ]
  },
  {
   "cell_type": "code",
   "execution_count": null,
   "metadata": {},
   "outputs": [],
   "source": [
    "resampling_q5 = ...\n",
    "resampling_q5"
   ]
  },
  {
   "cell_type": "code",
   "execution_count": null,
   "metadata": {
    "deletable": false,
    "editable": false
   },
   "outputs": [],
   "source": [
    "grader.check(\"q45\")"
   ]
  },
  {
   "cell_type": "markdown",
   "metadata": {},
   "source": [
    "Think about why a mean-based estimate from a resample is less often exactly equal to the mean-based estimate from the original sample as compared to a max-based estimate."
   ]
  },
  {
   "cell_type": "markdown",
   "metadata": {},
   "source": [
    "## 5. German Tank Problem: Simulating with Resampling\n",
    "Since resampling from a sample looks just like sampling from a population, the code should look almost the same.  That means we can write a function that simulates either sampling from a population or resampling from a sample.  If we pass it a population as its argument, it will do the former; if we pass it a sample, it will do the latter.\n",
    "\n",
    "#### Question 5.1\n",
    "Write a function called `simulate_estimates`.  It should take 4 arguments:\n",
    "1. A table from which the data should be sampled.  The table will have 1 column named `\"serial_number\"`.\n",
    "2. The size of each sample from that table, an integer.  (For example, to do resampling, we would pass for this argument the number of rows in the table.)\n",
    "3. A function that computes a statistic of a sample.  This argument is a *function* that takes an array of serial numbers as its argument and returns a number.\n",
    "4. The number of replications to perform.\n",
    "\n",
    "It should simulate many samples with replacement from the given table.  (The number of samples is the 4th argument.)  For each of those samples, it should compute the statistic on that sample. Then it should return an array containing each of those statistics.  The code below provides an example use of your function and describes how you can verify that you've written it correctly.\n",
    "\n",
    "**Hint:** For the next couple of questions, you may find the [percentile function](https://numpy.org/doc/stable/reference/generated/numpy.percentile.html) useful."
   ]
  },
  {
   "cell_type": "code",
   "execution_count": null,
   "metadata": {},
   "outputs": [],
   "source": [
    "def simulate_estimates(original_table, sample_size, statistic, num_replications):\n",
    "    # Our implementation of this function took 4 to 5 short lines of code.\n",
    "    ...\n",
    "\n",
    "# This should generate an empirical histogram of twice-mean estimates\n",
    "# of N from samples of size 50 if N is 1000.  This should be a bell-shaped\n",
    "# curve centered at 1000 with most of its mass in [800, 1200].  To verify your\n",
    "# answer, make sure that's what you see!\n",
    "example_estimates = simulate_estimates(\n",
    "    bpd.DataFrame().assign(serial_number = np.arange(1, 1000+1)),\n",
    "    50,\n",
    "    mean_based_estimator,\n",
    "    10000)\n",
    "bpd.DataFrame().assign(mean_based_estimate = example_estimates).plot(kind = 'hist', bins=np.arange(0, 1500, 25))"
   ]
  },
  {
   "cell_type": "code",
   "execution_count": null,
   "metadata": {
    "deletable": false,
    "editable": false
   },
   "outputs": [],
   "source": [
    "grader.check(\"q51\")"
   ]
  },
  {
   "cell_type": "markdown",
   "metadata": {},
   "source": [
    "Now we can go back to the sample we actually observed (the table `observations`) and estimate how much our mean-based estimate of `N` would have varied from sample to sample."
   ]
  },
  {
   "cell_type": "markdown",
   "metadata": {},
   "source": [
    "#### Question 5.2\n",
    "Using the bootstrap and the sample `observations`, simulate the approximate distribution of *mean-based estimates* of `N`.  Use 5,000 replications.  \n",
    "We have provided code that plots a histogram, allowing you to visualize the simulated estimates."
   ]
  },
  {
   "cell_type": "code",
   "execution_count": null,
   "metadata": {},
   "outputs": [],
   "source": [
    "bootstrap_estimates = ...\n",
    "bpd.DataFrame().assign(mean_based_estimate = bootstrap_estimates).plot(kind = 'hist', bins=np.arange(0, 200, 4)) "
   ]
  },
  {
   "cell_type": "code",
   "execution_count": null,
   "metadata": {
    "deletable": false,
    "editable": false
   },
   "outputs": [],
   "source": [
    "grader.check(\"q52\")"
   ]
  },
  {
   "cell_type": "markdown",
   "metadata": {},
   "source": [
    "#### Question 5.3\n",
    "Compute an interval that covers the middle 95% of the bootstrap estimates.  Verify that your interval looks like it covers 95% of the area in the histogram above."
   ]
  },
  {
   "cell_type": "code",
   "execution_count": null,
   "metadata": {},
   "outputs": [],
   "source": [
    "left_end = ...\n",
    "right_end = ...\n",
    "print(\"Middle 95% of bootstrap estimates: [{:f}, {:f}]\".format(left_end, right_end))"
   ]
  },
  {
   "cell_type": "code",
   "execution_count": null,
   "metadata": {
    "deletable": false,
    "editable": false
   },
   "outputs": [],
   "source": [
    "grader.check(\"q53\")"
   ]
  },
  {
   "cell_type": "markdown",
   "metadata": {},
   "source": [
    "#### Question 5.4\n",
    "Let's say that `N` was actually 150!  Write code that simulates the sampling and bootstrapping process again, as follows:\n",
    "\n",
    "1. Generate a new set of random observations the Allies might have seen by sampling from the population table we have created for you below. Make your sample size something reasonable.\n",
    "2. Compute an estimate of `N` from these new observations, using `mean_based_estimator`.\n",
    "3. Using only the new observations, compute 5,000 bootstrap estimates of `N`.\n",
    "4. Plot these bootstrap estimates and compute an interval covering the middle 95%."
   ]
  },
  {
   "cell_type": "code",
   "execution_count": null,
   "metadata": {},
   "outputs": [],
   "source": [
    "population = bpd.DataFrame().assign(serial_number = np.arange(1, 150+1))\n",
    "new_observations = population.sample(70)\n",
    "...\n",
    "    \n",
    "new_left_end = ...\n",
    "new_right_end = ...\n",
    "\n",
    "print(\"Middle 95% of bootstrap estimates: [{:f}, {:f}]\".format(new_left_end, new_right_end))"
   ]
  },
  {
   "cell_type": "code",
   "execution_count": null,
   "metadata": {
    "deletable": false,
    "editable": false
   },
   "outputs": [],
   "source": [
    "grader.check(\"q54\")"
   ]
  },
  {
   "cell_type": "markdown",
   "metadata": {},
   "source": [
    "#### Question 5.5\n",
    "If you ran your cell above many, many times, approximately what percentage of your 95% confidence intervals will include `N`?  Assign either 1, 2, 3, or 4 to the variable `simulating_q5` below. \n",
    "1. 100%\n",
    "2. 95%\n",
    "3. 5%\n",
    "4. It's impossible to tell."
   ]
  },
  {
   "cell_type": "code",
   "execution_count": null,
   "metadata": {},
   "outputs": [],
   "source": [
    "simulating_q5 = ..."
   ]
  },
  {
   "cell_type": "code",
   "execution_count": null,
   "metadata": {
    "deletable": false,
    "editable": false
   },
   "outputs": [],
   "source": [
    "grader.check(\"q55\")"
   ]
  },
  {
   "cell_type": "markdown",
   "metadata": {},
   "source": [
    "# Finish Line\n",
    "\n",
    "Congratulations! You are done with Lab 6.\n",
    "\n",
    "To submit your assignment:\n",
    "\n",
    "1. Select `Kernel -> Restart & Run All` to ensure that you have executed all cells, including the test cells.\n",
    "2. Read through the notebook to make sure everything is fine and all tests passed.\n",
    "3. Run the cell below to run all tests, and make sure that they all pass.\n",
    "4. Download your notebook using `File -> Download as -> Notebook (.ipynb)`, then upload your notebook to Gradescope."
   ]
  },
  {
   "cell_type": "code",
   "execution_count": null,
   "metadata": {},
   "outputs": [],
   "source": [
    "# For your convenience, you can run this cell to run all the tests at once!\n",
    "grader.check_all()"
   ]
  },
  {
   "cell_type": "code",
   "execution_count": null,
   "metadata": {},
   "outputs": [],
   "source": []
  }
 ],
 "metadata": {
  "kernelspec": {
   "display_name": "Python 3",
   "language": "python",
   "name": "python3"
  },
  "language_info": {
   "codemirror_mode": {
    "name": "ipython",
    "version": 3
   },
   "file_extension": ".py",
   "mimetype": "text/x-python",
   "name": "python",
   "nbconvert_exporter": "python",
   "pygments_lexer": "ipython3",
   "version": "3.6.8"
  }
 },
 "nbformat": 4,
 "nbformat_minor": 4
}
