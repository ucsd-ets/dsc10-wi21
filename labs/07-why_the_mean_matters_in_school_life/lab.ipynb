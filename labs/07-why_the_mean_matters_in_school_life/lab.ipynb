{
 "cells": [
  {
   "cell_type": "markdown",
   "metadata": {},
   "source": [
    "# Lab 7:  Why The Mean Matters in School Life. "
   ]
  },
  {
   "cell_type": "markdown",
   "metadata": {},
   "source": [
    "Welcome to Lab 7! This lab is due **Tuesday 3/2 at 11:59pm**. In this lab you will practice calculating variance, calculating standard deviation, and converting values to standard units. You will use these skills to compare grades in a course and you will use Chebyshev’s bounds to predict how hard the students should work in order to rank in the top 5% of the class. Finally, you will use confidence intervals to help college administrators plan for next quarter by predicting the enrollment in a new course.\n",
    "\n",
    "\n",
    "Reading:\n",
    "* [Chapter 14.2](https://www.inferentialthinking.com/chapters/14/2/Variability.html): Variabilty, Standard Deviation, Standard units, Chebyshev's Bounds.\n",
    "* [Chapter 14.3](https://www.inferentialthinking.com/chapters/14/3/SD_and_the_Normal_Curve.html): The Standard Deviation (SD) and the Normal Curve \n",
    "* [Chapter 14.4](https://www.inferentialthinking.com/chapters/14/4/Central_Limit_Theorem.html): The Central Limit Theorem\n",
    "* [Chapter 14.5](https://www.inferentialthinking.com/chapters/14/5/Variability_of_the_Sample_Mean.html): The Variability of the Sample Mean"
   ]
  },
  {
   "cell_type": "markdown",
   "metadata": {},
   "source": [
    "As usual, **run the cell** below to prepare the lab and the automatic tests."
   ]
  },
  {
   "cell_type": "code",
   "execution_count": 1,
   "metadata": {},
   "outputs": [],
   "source": [
    "import numpy as np\n",
    "import babypandas as bpd\n",
    "import math\n",
    "\n",
    "# These lines set up graphing capabilities.\n",
    "import matplotlib\n",
    "import matplotlib.pyplot as plt\n",
    "plt.style.use('fivethirtyeight')\n",
    "%matplotlib inline\n",
    "\n",
    "import otter\n",
    "grader = otter.Notebook()"
   ]
  },
  {
   "cell_type": "markdown",
   "metadata": {},
   "source": [
    "### 0. Comparing Grades Using Standard Units. \n",
    "\n",
    "Two of your friends, Cathy and Sam, just took their midterms. Cathy took her circuits design midterm and Sam took his Spanish vocabulary midterm. Cathy received a **B+** on her midterm (87%) and Sam received an **A-** (92%). Cathy claims that while she recieved a lower grade on her midterm, she actually did better (relative to the rest of the class) than Sam. Sam disagrees. Knowing that you are taking DSC10, your two friends come to you to settle their argument. \n",
    "\n",
    "\n",
    "They show you two tables: `circuits_midterm` and `spanish_midterm` that represent the grades for their classes. Both exams are out of 100 points.  The tables have the columns `Student` which is the student number and `Score (name of midterm)` which is the midterm scores of all students."
   ]
  },
  {
   "cell_type": "markdown",
   "metadata": {},
   "source": [
    "**Note:** You do ***not*** need to make any changes to the below cell. It is for you to visualize your datasets"
   ]
  },
  {
   "cell_type": "code",
   "execution_count": 2,
   "metadata": {},
   "outputs": [
    {
     "name": "stdout",
     "output_type": "stream",
     "text": [
      "Cathy's Score: 87\n",
      "Sam's Score: 92\n"
     ]
    },
    {
     "data": {
      "image/png": "[encoded data removed]",
      "text/plain": [
       "<Figure size 432x288 with 1 Axes>"
      ]
     },
     "metadata": {
      "needs_background": "light"
     },
     "output_type": "display_data"
    },
    {
     "data": {
      "image/png": "[encoded data removed]",
      "text/plain": [
       "<Figure size 432x288 with 1 Axes>"
      ]
     },
     "metadata": {
      "needs_background": "light"
     },
     "output_type": "display_data"
    }
   ],
   "source": [
    "# Cathy's histogram\n",
    "circuits_midterm = bpd.read_csv(\"data/circuits_midterm.csv\")\n",
    "circuits_midterm.plot(y='Score (Circuits Midterm)', kind='hist', bins=range(0,101,1))\n",
    "cathy_score = 87\n",
    "print(\"Cathy's Score: \" + str(cathy_score))\n",
    "\n",
    "# Sam's histogram\n",
    "spanish_midterm = bpd.read_csv(\"data/spanish_midterm.csv\")\n",
    "spanish_midterm.plot(y='Score (Spanish Midterm)', kind='hist', bins=range(0,101,1))\n",
    "sam_score = 92\n",
    "print(\"Sam's Score: \" + str(sam_score))"
   ]
  },
  {
   "cell_type": "markdown",
   "metadata": {},
   "source": [
    "You know that instead of comparing their actual scores, you should first convert their scores into **standard units**. Standard units are often represented as $\\textbf{z}$.\n",
    "$$ z = \\frac{\\mbox{value - average}}{SD}$$"
   ]
  },
  {
   "cell_type": "markdown",
   "metadata": {},
   "source": [
    "To compute the midterm score in standard units for each friend, we need to:\n",
    "1. Compute the **average** grade for the entire class. We will use the `np.mean` method to do this.\n",
    "2. Compute the **standard deviation** (SD) of the midterm scores for the entire class. We *could* use `np.std`, but we will write our own function to do that. \n",
    "\n",
    "*Reminder 1*: Standard deviation is the square root of the variance.  Therefore let's make a function that computes the **variance** first. \n",
    "\n",
    "*Reminder 2*: Variance is the mean squared deviation from the average:"
   ]
  },
  {
   "cell_type": "markdown",
   "metadata": {},
   "source": [
    "$$ variance = \\frac{(value_1 - average)^2 + (value_2 - average)^2 +...+ (value_n - average)^2}{n},$$\n",
    "where `n` is the number of values (exam scores for our problem).\n"
   ]
  },
  {
   "cell_type": "markdown",
   "metadata": {},
   "source": [
    "**Question 0.1** Fill in the missing code to complete the function `compute_variance`. It takes as input an *array of numbers* (`data`) and returns the variance as a single number. "
   ]
  },
  {
   "cell_type": "code",
   "execution_count": 3,
   "metadata": {},
   "outputs": [],
   "source": [
    "def compute_variance(data):\n",
    "    average = ...\n",
    "    diff = ...\n",
    "    square_diff = ...\n",
    "    sum_square_diff = ...\n",
    "    variance = ...\n",
    "    return variance"
   ]
  },
  {
   "cell_type": "markdown",
   "metadata": {},
   "source": [
    "Then use the `compute_variance` function to compute the variance of the two samples. "
   ]
  },
  {
   "cell_type": "code",
   "execution_count": 4,
   "metadata": {},
   "outputs": [],
   "source": [
    "circuits_midterm_var = ...\n",
    "print(\"Variance of circuits midterm: \" + str(circuits_midterm_var))\n",
    "\n",
    "spanish_midterm_var = ...\n",
    "print(\"Variance of Spanish midterm: \" + str(spanish_midterm_var))"
   ]
  },
  {
   "cell_type": "code",
   "execution_count": null,
   "metadata": {
    "deletable": false,
    "editable": false
   },
   "outputs": [],
   "source": [
    "grader.check(\"q01\")"
   ]
  },
  {
   "cell_type": "markdown",
   "metadata": {},
   "source": [
    "\n",
    "**Question 0.2** After calculating the variance, we want to write a function that calculates the standard deviation. Fill in the missing code to complete the function `compute_sd`. It takes as *input an array of numbers* and returns the *standard deviation* as a single number. \n",
    "\n",
    "\n",
    "*Hint:* Your solution should only take ***one line*** (the one with `return`) and use method `compute_variance`."
   ]
  },
  {
   "cell_type": "code",
   "execution_count": 7,
   "metadata": {},
   "outputs": [],
   "source": [
    "def compute_sd(data):\n",
    "    ..."
   ]
  },
  {
   "cell_type": "markdown",
   "metadata": {},
   "source": [
    "Then use `compute_sd` function to compute the standard deviation of the two midterms."
   ]
  },
  {
   "cell_type": "code",
   "execution_count": 8,
   "metadata": {},
   "outputs": [],
   "source": [
    "circuits_midterm_sd = ...\n",
    "print(\"Standard Deviation of circuits midterm: \" + str(circuits_midterm_sd))\n",
    "\n",
    "spanish_midterm_sd = ...\n",
    "print(\"Standard Deviation of Spanish midterm: \" + str(spanish_midterm_sd))"
   ]
  },
  {
   "cell_type": "code",
   "execution_count": null,
   "metadata": {
    "deletable": false,
    "editable": false
   },
   "outputs": [],
   "source": [
    "grader.check(\"q02\")"
   ]
  },
  {
   "cell_type": "markdown",
   "metadata": {},
   "source": [
    "**Question 0.3** After writing a function that calculates the standard deviation, you are equipped to write a function that converts a given score to standard units. Fill in the missing code to complete the function `compute_su`. It takes a *score*, the *average score*, and the *standard deviation* and returns the score in standard units. \n",
    "\n",
    "**Warning**: Be careful with order of operations"
   ]
  },
  {
   "cell_type": "code",
   "execution_count": 11,
   "metadata": {},
   "outputs": [],
   "source": [
    "def compute_su(score, avg, sd):\n",
    "    standard_unit = ...\n",
    "    return standard_unit"
   ]
  },
  {
   "cell_type": "markdown",
   "metadata": {},
   "source": [
    "Then use `compute_su` function to transform the scores earned by each friend into standard units."
   ]
  },
  {
   "cell_type": "code",
   "execution_count": 12,
   "metadata": {},
   "outputs": [],
   "source": [
    "cathy_su = ...\n",
    "print(\"Standard Unit of Cathy's Score: \" + str(cathy_su))\n",
    "\n",
    "sam_su = ...\n",
    "print(\"Standard Unit of Sam's Score: \" + str(sam_su))"
   ]
  },
  {
   "cell_type": "code",
   "execution_count": null,
   "metadata": {
    "deletable": false,
    "editable": false
   },
   "outputs": [],
   "source": [
    "grader.check(\"q03\")"
   ]
  },
  {
   "cell_type": "markdown",
   "metadata": {},
   "source": [
    "**Question 0.4** Cathy's score *is* higher than Sam's score when we convert to standard units, which can be seen as evidence that she did better on her exam relative to her classmates than Sam did relative to his. \n",
    "\n",
    "Another way to measure their relative performances is directly from the tables `circuits_midterm` and `spanish_midterm`, by calculating, for each of Cathy and Sam, the proportion of students they scored higher than (or the same as). Comparing Cathy's proportion to Sam's proportion will give us an alternative way of measuring who did better relative to their classmates. Calculate Cathy's proportion and Sam's proportion below.\n",
    "\n"
   ]
  },
  {
   "cell_type": "code",
   "execution_count": 15,
   "metadata": {},
   "outputs": [],
   "source": [
    "cathy_proportion = ...\n",
    "print(\"Cathy's Percentage: \" + str(cathy_proportion))\n",
    "\n",
    "sam_proportion = ...\n",
    "print(\"Sam's Percentage: \" + str(sam_proportion))"
   ]
  },
  {
   "cell_type": "code",
   "execution_count": null,
   "metadata": {
    "deletable": false,
    "editable": false
   },
   "outputs": [],
   "source": [
    "grader.check(\"q04\")"
   ]
  },
  {
   "cell_type": "markdown",
   "metadata": {},
   "source": [
    "## 1. Chebyshev's Bounds and Normal Curves\n",
    "\n",
    "Lets look at the histograms of the two midterms again."
   ]
  },
  {
   "cell_type": "code",
   "execution_count": 18,
   "metadata": {},
   "outputs": [],
   "source": [
    "circuits_midterm.plot(y='Score (Circuits Midterm)', kind='hist', bins=range(0,101,1))\n",
    "spanish_midterm.plot(y='Score (Spanish Midterm)', kind='hist', bins=range(0,101,1))"
   ]
  },
  {
   "cell_type": "markdown",
   "metadata": {},
   "source": [
    "**Question 1.1**\n",
    "Which of the two graphs is a roughly normal curve?\n",
    "\n",
    "1. `Only the upper graph (Circuits Midterm)  is normal.`\n",
    "2. `Only the lower graph (Spanish Midterm) is normal. `\n",
    "3. `Both graphs are normal. `\n",
    "4. `Neither graph is normal.`\n",
    "\n",
    "Remember all normal curves have the following characteristics:\n",
    "\n",
    "* The mean (average) is always in the center of a normal curve.\n",
    "* A normal curve has only one mode (peak).\n",
    "\n",
    "Set variable `q1_1` to either 1, 2, 3 or 4 depending on your answer. "
   ]
  },
  {
   "cell_type": "code",
   "execution_count": 19,
   "metadata": {},
   "outputs": [],
   "source": [
    "q1_1 = ..."
   ]
  },
  {
   "cell_type": "code",
   "execution_count": null,
   "metadata": {
    "deletable": false,
    "editable": false
   },
   "outputs": [],
   "source": [
    "grader.check(\"q11\")"
   ]
  },
  {
   "cell_type": "markdown",
   "metadata": {},
   "source": [
    "**Question 1.2**\n",
    "From looking at the histogram of the Spanish exam above, rank the following values in order **from smallest to largest**.\n",
    "\n",
    "1. `The mean score.  `\n",
    "2. `The median score.`\n",
    "3. `The most common score (the mode).`\n",
    "\n",
    "Set variable `q1_2` to a list containing the numbers 1, 2, 3 **in the appropriate order**."
   ]
  },
  {
   "cell_type": "code",
   "execution_count": 24,
   "metadata": {},
   "outputs": [],
   "source": [
    "q1_2 = ..."
   ]
  },
  {
   "cell_type": "code",
   "execution_count": null,
   "metadata": {
    "deletable": false,
    "editable": false
   },
   "outputs": [],
   "source": [
    "grader.check(\"q12\")"
   ]
  },
  {
   "cell_type": "markdown",
   "metadata": {},
   "source": [
    "### Chebyshev's Bounds, recap"
   ]
  },
  {
   "cell_type": "markdown",
   "metadata": {},
   "source": [
    "Chebyshev's Bounds state that *no matter what the shape of the distribution*, some proportion of the values falls in the range\n",
    "\n",
    "$$average \\pm z \\mbox { Standard Deviations is } at \\space least \\space 1 - \\frac{1}{z^{2}}$$ \n",
    "\n",
    "**It's also important to note that these are lower bounds, not approximations:** 75% of the data is guaranteed to lie within plus or minus of 2 standard deviations of the mean, but 100% of the data might also lie within plus or minus 2 standard deviations of the mean. \n",
    "\n",
    "### On the other hand...\n",
    "**If we know that our data forms a normal curve**, the standard deviation is even more informative. \n",
    "<img src=\"data/chebyshev.png/\">\n",
    "\n",
    "**Note that for a normal distribution, the numbers in the last column of the table above are approximations, not lower bounds.**  \n",
    "* If the distribution is perfectly normal, then 68% of the data (not more, not less) will lie between plus and minus one standard deviation of the mean. \n",
    "* Additionally because a normal curve is symmetric, we know that 34% of the data lies between the average and the average plus one standard deviation. \n",
    " \n"
   ]
  },
  {
   "cell_type": "markdown",
   "metadata": {},
   "source": [
    "**Question 1.3**  Cathy, who is majoring in Engineering, really wanted to score in the top 5% of the class. But before taking the exam, she did not know if the scores would be normally distributed or not. \n",
    "\n",
    "Without making any assumptions about the distribution of scores, how many standard deviations above the mean would she have needed to score to **guarantee** that she fell in the top 5% of the the class? Set variable `q1_3` to either 1, 2, 3, or 4, depending on your answer. \n",
    "\n",
    "\n",
    "1. Cathy would need to score roughly 4.5 standard deviations above the average to guarantee being in the top five percent. Using Chebyshev's bounds, setting z = $\\sqrt{20} \\approx 4.5$  gives that 95% of the data will lie between plus or minus 4.5 SDs. If Cathy scores above 4.5 SDs, then he is guaranteed to have scored better than 95% of the other students. \n",
    "\n",
    "2. Cathy would need to score above 2 SDs. Since 95% of the data falls between plus or minus 2 SDs, if Cathy scores above 2 SDs, she is guaranteed to score above 95% of the class. \n",
    "\n",
    "3. Cathy would need to score slightly less than 2 SDs. 50% of the class will have scored below the average. Which means that if Cathy scores 2 standard deviations above the average she'll have scored higher than 50% + (95% / 2) = 97.5%. \n",
    "\n",
    "4. No matter how many standard deviations above the mean Cathy scores, there is no guarantee that she will score in the top 5% of the class. "
   ]
  },
  {
   "cell_type": "code",
   "execution_count": 29,
   "metadata": {},
   "outputs": [],
   "source": [
    "q1_3 = ..."
   ]
  },
  {
   "cell_type": "code",
   "execution_count": null,
   "metadata": {
    "deletable": false,
    "editable": false
   },
   "outputs": [],
   "source": [
    "grader.check(\"q13\")"
   ]
  },
  {
   "cell_type": "markdown",
   "metadata": {},
   "source": [
    "**Question 1.4** Now, assuming that the scores for the exam will be normally distributed (as many exams are), how many standard deviations above the mean would Cathy have needed to score to **guarantee** that she fell in the top 5% of the class? Set variable `q1_4` to either 1, 2, 3, or 4, depending on your answer. \n",
    "\n",
    "\n",
    "1. Cathy would need to score roughly 4.5 standard deviations above the average to guarantee being in the top five percent. Using Chebyshev bounds, setting z = $\\sqrt{20} \\approx 4.5 $ gives that 95% of the data will lie between plus or minus 4.5 SDs. If Cathy scores above 4.5 SDs, then she is guaranteed to have scored better than 95% of the other students. \n",
    "\n",
    "2. Cathy would need to score above 2 SDs. Since 95% of the data falls between plus or minus 2 SDs, if Cathy scores above 2 SDs she is guaranteed to score above 95% of the class. \n",
    "\n",
    "3. Cathy would need to score slightly less than 2 SDs. 50% of the class will have scored below the average. Which means that if Cathy scores 2 standard deviations above the average she'll have scored higher than 50% + (95% / 2) = 97.5%. \n",
    "\n",
    "4. No matter how many standard deviations above the mean she scores there is no guarantee that she will score in the top 5% of the class. "
   ]
  },
  {
   "cell_type": "code",
   "execution_count": 34,
   "metadata": {},
   "outputs": [],
   "source": [
    "q1_4 = ..."
   ]
  },
  {
   "cell_type": "code",
   "execution_count": null,
   "metadata": {
    "deletable": false,
    "editable": false
   },
   "outputs": [],
   "source": [
    "grader.check(\"q14\")"
   ]
  },
  {
   "cell_type": "markdown",
   "metadata": {},
   "source": [
    "# 2. Planning Class Size (Choosing Sample Size)\n",
    "\n",
    "For a recap on choosing sample sizes, please refer to this part of the [textbook](https://www.inferentialthinking.com/chapters/14/6/Choosing_a_Sample_Size.html)\n",
    "\n",
    "\n",
    "A new class is being offered and the administration wants to know how many students will be taking the class so they know how big of a classroom it will need. To take the class, a student must have satisfied the prerequisites first. \n",
    "\n",
    "The administration knows there are 900 students eligible to take the class, but they don't have the resources to ask each of them whether they are going to take the class. They decide to ask a sample of the students, but they don't know how many students to ask. They want the width of their confidence interval to be at most 10 students. \n",
    "\n",
    "For example, if the results of their sample concluded that with 95% confidence between 200 and 210 students would take the class, the adminstration would be happy with that sample. However if the results of the sample concluded that with 95% confidence between 200 and 300 students would take the class, the sample would not have been informative enough because that range is too wide. We are going to help determine how big of a sample the administration should take. \n",
    "\n",
    "The population parameter we are interested in measuring is the proportion of eligible students who will take the class. We will estimate this using a sample statistic, the proportion of eligible students in the sample who plan to take the class. \n",
    "\n",
    "So *where do we start*?\n",
    "\n",
    "We go to the professor and they tell us that regardless of the distribution of our population, the distribution of the sample statistic will always be normal. Let's run a simulation to see for ourselves. \n",
    "\n",
    "Below is the data for the whole population. (If the administration had the resources to ask every student whether they were going to take the class, this is what they would see. \"0\" means they won't take the class and \"1\" means they will.)"
   ]
  },
  {
   "cell_type": "code",
   "execution_count": 39,
   "metadata": {},
   "outputs": [],
   "source": [
    "population = bpd.read_csv(\"data/population.csv\")\n",
    "population.plot(y=\"Planning on taking\", kind='hist', bins=np.arange(0,3,1))\n",
    "population.loc[0:5]"
   ]
  },
  {
   "cell_type": "markdown",
   "metadata": {},
   "source": [
    "**Question 2.1** Below is partially implemented code to run a simulation. The simulation will repeatedly take samples (without replacement) from the population and calculate the proportion of students who plan on taking the class. Fill in the missing parts. "
   ]
  },
  {
   "cell_type": "code",
   "execution_count": 41,
   "metadata": {},
   "outputs": [],
   "source": [
    "def simulation(population, num_iterations, sample_size):\n",
    "    results = []\n",
    "    for i in np.arange(num_iterations):\n",
    "        sampled = ...\n",
    "        proportion_taking_class = ...\n",
    "        results= ...\n",
    "    bpd.DataFrame(data=results, columns=[\"Proportion\"]).plot(kind='hist', y='Proportion', bins=np.arange(-0.05, 1.05, 1/sample_size))"
   ]
  },
  {
   "cell_type": "code",
   "execution_count": 42,
   "metadata": {
    "scrolled": true
   },
   "outputs": [],
   "source": [
    "simulation(population, 10000, 40)"
   ]
  },
  {
   "cell_type": "markdown",
   "metadata": {},
   "source": [
    "Does the distribution of the sample statistic look more like a normal curve or more like the population distribution? \n",
    "\n",
    "1. `More like a normal curve.`\n",
    "\n",
    "2. `More like the original population. `"
   ]
  },
  {
   "cell_type": "code",
   "execution_count": 43,
   "metadata": {},
   "outputs": [],
   "source": [
    "q2_1 = ..."
   ]
  },
  {
   "cell_type": "code",
   "execution_count": null,
   "metadata": {
    "deletable": false,
    "editable": false
   },
   "outputs": [],
   "source": [
    "grader.check(\"q21\")"
   ]
  },
  {
   "cell_type": "markdown",
   "metadata": {},
   "source": [
    "The professor also tells us that as we increase the sample size, the standard deviation of our sample statistic distribution will decrease. Again we decide to run a simulation to double check. Run the following cell to see how the distribution of the sample statistic changes as we increase the size of our sample. **It might take a while to run.** "
   ]
  },
  {
   "cell_type": "code",
   "execution_count": 46,
   "metadata": {},
   "outputs": [],
   "source": [
    "simulation(population, 10000, 20)\n",
    "simulation(population, 10000, 50)\n",
    "simulation(population, 10000, 100)\n",
    "simulation(population, 10000, 850)"
   ]
  },
  {
   "cell_type": "markdown",
   "metadata": {},
   "source": [
    "This trend can actually be expressed in a formula\n",
    "$$ Sample \\space Statistic \\space SD = \\frac{Population\\space SD}{\\sqrt{sample\\space size}}$$"
   ]
  },
  {
   "cell_type": "markdown",
   "metadata": {},
   "source": [
    "We can use this formula to find the sample size we need to get a desired standard deviation of the sample statistic, and thus a certain confidence interval for that sample statistic. However, before taking our sample, we don't have any way of knowing the standard deviation of our population. The textbook and homework include some ways to get around this problem; here we will use the actual population standard deviation. "
   ]
  },
  {
   "cell_type": "markdown",
   "metadata": {},
   "source": [
    "**Question 2.2** The administration wants the *confidence interval* to have a *width* of **10 students**, but we have been calculating the proportion of students who are ***planning on taking the class*** that are also eligible. Let's calculate the confidence we would need to have as a proportion eligible students. In other words, from the number of students who are eligible to take the class, determine what proportion of that number equals 10 students."
   ]
  },
  {
   "cell_type": "code",
   "execution_count": 49,
   "metadata": {},
   "outputs": [],
   "source": [
    "num_eligible_students = ...\n",
    "print('Number of Eligible Students: ',num_eligible_students) \n",
    "width_as_proportion = ...\n",
    "print('Width:' ,width_as_proportion)"
   ]
  },
  {
   "cell_type": "code",
   "execution_count": null,
   "metadata": {
    "deletable": false,
    "editable": false
   },
   "outputs": [],
   "source": [
    "grader.check(\"q22\")"
   ]
  },
  {
   "cell_type": "markdown",
   "metadata": {},
   "source": [
    "**Question 2.3** Now let's calculate the sample standard deviation we would need for our 95% confidence interval to have a width of (your answer to q2_2). Remember that for a normal distribution, 95% of the data lies between *plus and minus* 2 SDs of the mean. Set the variable `target_sd` to equal the standard deviation we would need for our 95% confidence interval to have a width of (your answer to q2_2). "
   ]
  },
  {
   "cell_type": "code",
   "execution_count": 51,
   "metadata": {},
   "outputs": [],
   "source": [
    "target_sd = ...\n",
    "target_sd"
   ]
  },
  {
   "cell_type": "code",
   "execution_count": null,
   "metadata": {
    "deletable": false,
    "editable": false
   },
   "outputs": [],
   "source": [
    "grader.check(\"q23\")"
   ]
  },
  {
   "cell_type": "markdown",
   "metadata": {},
   "source": [
    "**Question 2.4** We also need to calculate the standard deviation of the total population. Calculate this value and store it in the variable `population_sd`. "
   ]
  },
  {
   "cell_type": "code",
   "execution_count": 53,
   "metadata": {},
   "outputs": [],
   "source": [
    "population_sd = ...\n",
    "population_sd"
   ]
  },
  {
   "cell_type": "code",
   "execution_count": null,
   "metadata": {
    "deletable": false,
    "editable": false
   },
   "outputs": [],
   "source": [
    "grader.check(\"q24\")"
   ]
  },
  {
   "cell_type": "markdown",
   "metadata": {},
   "source": [
    "**Question 2.5** Now calculate the required ***sample size*** and store your result as `req_sample_size`. Recall that\n",
    "$$ Sample \\space Statistics \\space SD = \\frac{Population\\space SD}{\\sqrt{sample\\space size}}$$"
   ]
  },
  {
   "cell_type": "code",
   "execution_count": 55,
   "metadata": {},
   "outputs": [],
   "source": [
    "req_sample_size = ...\n",
    "req_sample_size"
   ]
  },
  {
   "cell_type": "code",
   "execution_count": null,
   "metadata": {
    "deletable": false,
    "editable": false
   },
   "outputs": [],
   "source": [
    "grader.check(\"q25\")"
   ]
  },
  {
   "cell_type": "markdown",
   "metadata": {},
   "source": [
    "**Question 2.6** Our required sample size is bigger than our entire population. For each part, say whether it is `True` or `False`.\n",
    "\n",
    "1. The administration will have to settle for a wider interval to get 95% confidence.\n",
    "2. Sampling with replacement will be a feasible way to determine the information the administration needs.\n",
    "3. The administration will have to settle for a lower degree of confidence to get an interval of width 10.\n",
    "4. We should increase the size of the population until the sample size is smaller than the size of the population.\n",
    "\n",
    "Set each variable below to either `True` or `False`.\n"
   ]
  },
  {
   "cell_type": "code",
   "execution_count": 57,
   "metadata": {},
   "outputs": [],
   "source": [
    "statement_1 = ...\n",
    "statement_2 = ...\n",
    "statement_3 = ...\n",
    "statement_4 = ..."
   ]
  },
  {
   "cell_type": "code",
   "execution_count": null,
   "metadata": {
    "deletable": false,
    "editable": false
   },
   "outputs": [],
   "source": [
    "grader.check(\"q26\")"
   ]
  },
  {
   "cell_type": "markdown",
   "metadata": {},
   "source": [
    "# Finish Line\n",
    "\n",
    "Congratulations! You are done with lab07.\n",
    "\n",
    "To submit your assignment:\n",
    "\n",
    "1. Select `Kernel -> Restart & Run All` to ensure that you have executed all cells, including the test cells.\n",
    "2. Read through the notebook to make sure everything is fine and all tests passed.\n",
    "3. Run the cell below to run all tests, and make sure that they all pass.\n",
    "4. Download your notebook using `File -> Download as -> Notebook (.ipynb)`, then upload your notebook to Gradescope."
   ]
  },
  {
   "cell_type": "code",
   "execution_count": 62,
   "metadata": {},
   "outputs": [],
   "source": [
    "# For your convenience, you can run this cell to run all the tests at once!\n",
    "grader.check_all()"
   ]
  }
 ],
 "metadata": {
  "kernelspec": {
   "display_name": "Python 3",
   "language": "python",
   "name": "python3"
  },
  "language_info": {
   "codemirror_mode": {
    "name": "ipython",
    "version": 3
   },
   "file_extension": ".py",
   "mimetype": "text/x-python",
   "name": "python",
   "nbconvert_exporter": "python",
   "pygments_lexer": "ipython3",
   "version": "3.7.7"
  }
 },
 "nbformat": 4,
 "nbformat_minor": 4
}
