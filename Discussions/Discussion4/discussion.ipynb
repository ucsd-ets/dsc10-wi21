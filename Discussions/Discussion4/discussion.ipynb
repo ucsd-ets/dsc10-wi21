{
 "cells": [
  {
   "cell_type": "markdown",
   "metadata": {},
   "source": [
    "# Discussion 04: Plotting and Functions\n",
    "\n",
    "Welcome to Discussion 04! \n",
    "\n",
    "This week, we will go over plotting, writing functions, and utilizing the ```.apply()``` function to modify DataFrames.\n",
    "\n",
    "You can find additional help on these topics in the course [textbook](https://eldridgejm.github.io/dive_into_data_science/front.html).\n",
    "\n",
    "[Here](https://ucsd-ets.github.io/dsc10-2020-fa/published/default/reference/babypandas-reference.pdf) is a pointer to that reference sheet we saw last time.\n",
    "\n",
    "<img src=\"data/panda_lounging.jpeg\" width=\"1000\">"
   ]
  },
  {
   "cell_type": "code",
   "execution_count": null,
   "metadata": {},
   "outputs": [],
   "source": [
    "import babypandas as bpd\n",
    "import numpy as np\n",
    "\n",
    "import otter\n",
    "grader = otter.Notebook()\n",
    "\n",
    "calfire = bpd.read_csv('data/calfire-full.csv')\n",
    "calfire"
   ]
  },
  {
   "cell_type": "markdown",
   "metadata": {
    "slideshow": {
     "slide_type": "slide"
    }
   },
   "source": [
    "# Plotting\n",
    "\n",
    "We can visualize and plot our data directly from DataFrames! \n",
    "This can be very beneficial to help us draw conclusions that would be difficult to come up with otherwise.\n",
    "\n",
    "`df.plot(kind='...', x=..., y=...)`\n",
    "- `kind= ` \"scatter\", \"line\", \"bar\", \"barh\"\n",
    "\n",
    "`df.get(col_name).plot(kind='hist', bins=n_bins, density=True)`"
   ]
  },
  {
   "cell_type": "markdown",
   "metadata": {
    "slideshow": {
     "slide_type": "slide"
    }
   },
   "source": [
    "## Question 1: Is the number of fires increasing?\n",
    "\n",
    "*Create a plot to answer this question*"
   ]
  },
  {
   "cell_type": "code",
   "execution_count": null,
   "metadata": {},
   "outputs": [],
   "source": [
    "counts_by_year = ( \n",
    "    \n",
    ") \n",
    "\n",
    "counts_by_year.plot(kind=, x= y=) "
   ]
  },
  {
   "cell_type": "markdown",
   "metadata": {
    "slideshow": {
     "slide_type": "slide"
    }
   },
   "source": [
    "## Question 2: What about the median size of a fire? (is it also increasing?)\n",
    "*create a plot to answer this question*"
   ]
  },
  {
   "cell_type": "code",
   "execution_count": null,
   "metadata": {},
   "outputs": [],
   "source": [
    "median_by_year = ( \n",
    "\n",
    ")\n",
    "\n",
    "median_by_year.plot(kind=, x= y=) "
   ]
  },
  {
   "cell_type": "markdown",
   "metadata": {
    "slideshow": {
     "slide_type": "slide"
    }
   },
   "source": [
    "## Question 3: Is the largest fire per year increasing?\n",
    "*create a plot to answer this question*"
   ]
  },
  {
   "cell_type": "code",
   "execution_count": null,
   "metadata": {},
   "outputs": [],
   "source": [
    "max_by_year = (\n",
    ")\n",
    "\n",
    "max_by_year.plot(kind=, x= y=) "
   ]
  },
  {
   "cell_type": "markdown",
   "metadata": {
    "slideshow": {
     "slide_type": "slide"
    }
   },
   "source": [
    "## Question 4: Is there an association between latitude and fire size?\n",
    "*create a plot to answer this question*"
   ]
  },
  {
   "cell_type": "code",
   "execution_count": null,
   "metadata": {},
   "outputs": [],
   "source": [
    "lat_fire = ( \n",
    "\n",
    ") \n",
    "lat_fire.plot(kind=, x= y=) "
   ]
  },
  {
   "cell_type": "markdown",
   "metadata": {
    "slideshow": {
     "slide_type": "slide"
    }
   },
   "source": [
    "## Question 5: What is the distribution of fire sizes?\n",
    "*create a plot to answer this question*"
   ]
  },
  {
   "cell_type": "code",
   "execution_count": null,
   "metadata": {},
   "outputs": [],
   "source": [
    "acres_df = "
   ]
  },
  {
   "cell_type": "code",
   "execution_count": null,
   "metadata": {},
   "outputs": [],
   "source": [
    "small_fires = "
   ]
  },
  {
   "cell_type": "markdown",
   "metadata": {
    "slideshow": {
     "slide_type": "slide"
    }
   },
   "source": [
    "## Question 6: Plot the number of fires due to each cause."
   ]
  },
  {
   "cell_type": "code",
   "execution_count": null,
   "metadata": {},
   "outputs": [],
   "source": [
    "#plot code here"
   ]
  },
  {
   "cell_type": "markdown",
   "metadata": {
    "slideshow": {
     "slide_type": "slide"
    }
   },
   "source": [
    "## Question 7a: In what times of the year are fires most common?\n",
    "*create a plot to answer this question*"
   ]
  },
  {
   "cell_type": "code",
   "execution_count": null,
   "metadata": {},
   "outputs": [],
   "source": [
    "#plot code here"
   ]
  },
  {
   "cell_type": "markdown",
   "metadata": {
    "slideshow": {
     "slide_type": "slide"
    }
   },
   "source": [
    "## Question 7b: In what times of the year are *large* fires most common in *Southern California*?\n",
    "\n",
    "By large, say over 5,000 acres. By SoCal, we mean latitude < 37.\n",
    "*create a plot to answer this question*"
   ]
  },
  {
   "cell_type": "code",
   "execution_count": null,
   "metadata": {
    "scrolled": true
   },
   "outputs": [],
   "source": [
    "# plot code here"
   ]
  },
  {
   "cell_type": "markdown",
   "metadata": {
    "slideshow": {
     "slide_type": "slide"
    }
   },
   "source": [
    "What percent of large fires occur from July-October (inclusive)?\n",
    "\n",
    "- A. 0-20%\n",
    "- B. 21-40%\n",
    "- C. 41-60%\n",
    "- D. 61-80%\n",
    "- E. 81-100%"
   ]
  },
  {
   "cell_type": "markdown",
   "metadata": {
    "slideshow": {
     "slide_type": "slide"
    }
   },
   "source": [
    "## Question 8: On the same plot, show natural vs. human-caused over time.\n",
    "\n",
    "- That is, have one line for the number of fires caused by lightning over time.\n",
    "- Another line for all other causes over time."
   ]
  },
  {
   "cell_type": "code",
   "execution_count": null,
   "metadata": {},
   "outputs": [],
   "source": [
    "cause_only = calfire.drop(columns=[]) # drop other columns \n",
    "\n",
    "natural_fires = (\n",
    ") \n",
    "\n",
    "human_caused_fires = ( \n",
    ") \n",
    "\n",
    "#plot"
   ]
  },
  {
   "cell_type": "code",
   "execution_count": null,
   "metadata": {},
   "outputs": [],
   "source": [
    "calfire_binarized = \n",
    "#plot"
   ]
  },
  {
   "cell_type": "markdown",
   "metadata": {
    "slideshow": {
     "slide_type": "slide"
    }
   },
   "source": [
    "# Functions and Apply\n",
    "\n",
    "Now lets take a look at writing our own functions and then applying these functions to DataFrames."
   ]
  },
  {
   "cell_type": "markdown",
   "metadata": {
    "slideshow": {
     "slide_type": "slide"
    }
   },
   "source": [
    "## Question 9: Cause Codes\n",
    "\n",
    "- Currently, the causes are written as `<code> - <name>`. Like: `7 - Arson`.\n",
    "- Write a function which takes in the cause and outputs only the name."
   ]
  },
  {
   "cell_type": "code",
   "execution_count": null,
   "metadata": {},
   "outputs": [],
   "source": [
    "causes_old =  # visualize old causes \n",
    "causes_old # SOLUTION NO PROMPT"
   ]
  },
  {
   "cell_type": "code",
   "execution_count": null,
   "metadata": {},
   "outputs": [],
   "source": [
    "def convert_cause(cause): # SOLUTION NO PROMPT\n",
    "    '''Takes in cause of form [## - <name>] and returns name''' \n",
    "    return cause_name"
   ]
  },
  {
   "cell_type": "code",
   "execution_count": null,
   "metadata": {},
   "outputs": [],
   "source": [
    "# print out causes before and after # SOLUTION NO PROMPT"
   ]
  },
  {
   "cell_type": "markdown",
   "metadata": {
    "slideshow": {
     "slide_type": "slide"
    }
   },
   "source": [
    "## Question 10:  Replace the `cause` column with one containing only the names"
   ]
  },
  {
   "cell_type": "code",
   "execution_count": null,
   "metadata": {},
   "outputs": [],
   "source": [
    "cause_names =  # apply function to cause \n",
    "calfire =  # assign new column \n",
    "calfire # visualize "
   ]
  },
  {
   "cell_type": "markdown",
   "metadata": {
    "slideshow": {
     "slide_type": "slide"
    }
   },
   "source": [
    "## Question 11:  Convert months numbers to names.\n",
    "\n",
    "- Write a function that converts a month's number (1, 2, 3, ..., 12) to the word (January, ..., December)."
   ]
  },
  {
   "cell_type": "code",
   "execution_count": null,
   "metadata": {},
   "outputs": [],
   "source": [
    "def month_number_to_name(month_number):\n",
    "    import calendar\n",
    "    \n",
    "    return month_name"
   ]
  },
  {
   "cell_type": "code",
   "execution_count": null,
   "metadata": {},
   "outputs": [],
   "source": [
    "months = # visualize old causes \n",
    "months "
   ]
  },
  {
   "cell_type": "code",
   "execution_count": null,
   "metadata": {},
   "outputs": [],
   "source": [
    "# print out months before and after # SOLUTION NO PROMPT\n"
   ]
  },
  {
   "cell_type": "code",
   "execution_count": null,
   "metadata": {},
   "outputs": [],
   "source": [
    "month_names =  # apply function to month \n",
    "calfire =  # assign new column \n",
    "calfire # visualize "
   ]
  }
 ],
 "metadata": {
  "celltoolbar": "Slideshow",
  "kernelspec": {
   "display_name": "Python 3",
   "language": "python",
   "name": "python3"
  },
  "language_info": {
   "codemirror_mode": {
    "name": "ipython",
    "version": 3
   },
   "file_extension": ".py",
   "mimetype": "text/x-python",
   "name": "python",
   "nbconvert_exporter": "python",
   "pygments_lexer": "ipython3",
   "version": "3.8.3"
  }
 },
 "nbformat": 4,
 "nbformat_minor": 4
}
