{
 "cells": [
  {
   "cell_type": "markdown",
   "metadata": {},
   "source": [
    "# Discussion 01: Python Basics and Causality\n",
    "\n",
    "\n",
    "Welcome to Discussion 01! This week, we will go over some Python Basics. You can find additional help on these topics in the course [textbook](https://eldridgejm.github.io/dive_into_data_science/front.html).\n",
    "\n",
    "Additionally, [here](https://ucsd-ets.github.io/dsc10-2020-fa/published/default/reference/babypandas-reference.pdf) is a potentially useful reference sheet that contains several data wrangling tips.\n",
    "\n",
    "I also highly recommend checking out [this](https://nationalzoo.si.edu/webcams/panda-cam) baby pandas resource as well.\n",
    "\n",
    "<img src=\"data/panda.jpeg\" width=\"600\">"
   ]
  },
  {
   "cell_type": "markdown",
   "metadata": {},
   "source": [
    "Afterward, we will be talking about how to __establish causation__."
   ]
  },
  {
   "cell_type": "code",
   "execution_count": null,
   "metadata": {},
   "outputs": [],
   "source": [
    "# please don't change this cell, but do make sure to run it\n",
    "import babypandas as bpd\n",
    "import matplotlib.pyplot as plt\n",
    "import numpy as np \n",
    "import math\n",
    "import otter\n",
    "grader = otter.Notebook()\n",
    "\n",
    "from notebook.services.config import ConfigManager\n",
    "cm = ConfigManager()\n",
    "cm.update(\n",
    "    \"livereveal\", {\n",
    "        \"width\": \"90%\",\n",
    "        \"height\": \"90%\",\n",
    "        \"scroll\": True,\n",
    "})"
   ]
  },
  {
   "cell_type": "markdown",
   "metadata": {},
   "source": [
    "## Jupyter Notebook Shortcuts\n",
    "\n",
    "shift+enter: run cell and move focus to cell below <br>\n",
    "ctl+enter: run cell and keep focus on cell <br>\n",
    "\n",
    "Command Mode (cell is blue):<br>\n",
    "x: cut the cell, also quick way to delete<br>\n",
    "c: copy the cell<br>\n",
    "v: paste the cell<br>\n",
    "d+d: delete cell<br>\n",
    "a: make new cell above<br>\n",
    "b: make new cell below<br>\n",
    "y: change cell to code<br>\n",
    "m: change cell to markdown<br>\n",
    "enter: start editing cell<br>\n",
    "\n",
    "Editing Mode (cell is green):<br>\n",
    "esc: enter command mode<br>\n",
    "shift+tab: info about a function<br>"
   ]
  },
  {
   "cell_type": "markdown",
   "metadata": {},
   "source": [
    "# What we'll cover:\n",
    "---\n",
    "\n",
    "- What is Python?\n",
    "- Primitive Types"
   ]
  },
  {
   "cell_type": "markdown",
   "metadata": {},
   "source": [
    "# What is Python?\n",
    "---\n",
    "\n",
    "Python is a **high-level**, **interpreted** programming language invented by Guido Van Rossum in 1991.  It is a powerful language while remaining **dynamically-typed**, easily **readable**, and has plenty of **whitespace**."
   ]
  },
  {
   "cell_type": "markdown",
   "metadata": {},
   "source": [
    "- Interpreted:\n",
    "  - A file or cell can run instantly; does not need to compile to another file"
   ]
  },
  {
   "cell_type": "markdown",
   "metadata": {},
   "source": [
    "- Dynamically Typed:\n",
    "  - Python infers what type you want a variable to be; you don't tell it explicitly"
   ]
  },
  {
   "cell_type": "markdown",
   "metadata": {},
   "source": [
    "- Readable:\n",
    "  - Simply reading code aloud should largely reveal what's going on"
   ]
  },
  {
   "cell_type": "markdown",
   "metadata": {},
   "source": [
    "- Whitespace:\n",
    "  - You can *and should* use multiple lines to fit the `Python a e s t h e t i c`"
   ]
  },
  {
   "cell_type": "markdown",
   "metadata": {},
   "source": [
    "# Data Types in Python\n",
    "---\n",
    "\n",
    "Everything in Python has a type."
   ]
  },
  {
   "cell_type": "markdown",
   "metadata": {},
   "source": [
    "Some things are really simple—you could call them *\"primitive\"*.  \n",
    "These things have a specific value.\n",
    "\n",
    "There are four types of primitives:\n",
    "- Integers (ex. 1, 2, -12)\n",
    "- Floats (ex. 1.0, 3.5, -0.34)\n",
    "- Strings (\"this is a string\", \"a\", \"b\")\n",
    "- Booleans (True, False)"
   ]
  },
  {
   "cell_type": "markdown",
   "metadata": {},
   "source": [
    "Other things are a bit more complex.  \n",
    "These things act more like containers for values (or more containers).\n",
    "\n",
    "Some examples include:\n",
    "- Lists\n",
    "- Arrays\n",
    "- Tables\n",
    "- Dictionaries\n",
    "- Sets\n",
    "\n",
    "We will cover these next week"
   ]
  },
  {
   "cell_type": "markdown",
   "metadata": {},
   "source": [
    "### Primitive Types: integers, floats, strings, booleans"
   ]
  },
  {
   "cell_type": "code",
   "execution_count": null,
   "metadata": {},
   "outputs": [],
   "source": [
    "# Integers\n",
    "type(65)"
   ]
  },
  {
   "cell_type": "code",
   "execution_count": null,
   "metadata": {},
   "outputs": [],
   "source": [
    "# Floats\n",
    "type(1.0)"
   ]
  },
  {
   "cell_type": "code",
   "execution_count": null,
   "metadata": {},
   "outputs": [],
   "source": [
    "# Strings\n",
    "type(\"Hello\")"
   ]
  },
  {
   "cell_type": "code",
   "execution_count": null,
   "metadata": {},
   "outputs": [],
   "source": [
    "# Booleans (True or False)\n",
    "type(False) "
   ]
  },
  {
   "cell_type": "markdown",
   "metadata": {},
   "source": [
    "What are some things we can do with these primitive types?"
   ]
  },
  {
   "cell_type": "code",
   "execution_count": null,
   "metadata": {},
   "outputs": [],
   "source": [
    "# Let's do some testing together... here's a couple to start with:\n",
    "\n",
    "3 + 5 # Can we do this?"
   ]
  },
  {
   "cell_type": "code",
   "execution_count": null,
   "metadata": {},
   "outputs": [],
   "source": [
    "3 + 5.9876 # What about this?"
   ]
  },
  {
   "cell_type": "code",
   "execution_count": null,
   "metadata": {},
   "outputs": [],
   "source": [
    "# How about this?\n",
    "# 3 + \"string\""
   ]
  },
  {
   "cell_type": "code",
   "execution_count": null,
   "metadata": {},
   "outputs": [],
   "source": [
    "# or this?\n",
    "\"string\" + \"another string\""
   ]
  },
  {
   "cell_type": "code",
   "execution_count": null,
   "metadata": {},
   "outputs": [],
   "source": [
    "# Feel free to play around with different types and see what else is possible!"
   ]
  },
  {
   "cell_type": "markdown",
   "metadata": {},
   "source": [
    "# Causation"
   ]
  },
  {
   "cell_type": "markdown",
   "metadata": {},
   "source": [
    "## The story of John Snow"
   ]
  },
  {
   "cell_type": "markdown",
   "metadata": {},
   "source": [
    "In lecture, we started the story of John Snow ([chapter 2](https://www.inferentialthinking.com/chapters/02/causality-and-experiments.html)):\n",
    "\n",
    "- What would Snow need to do to prove his theory that the water was responsible for causing cholera? \n",
    "- Would this be ethical?"
   ]
  },
  {
   "cell_type": "markdown",
   "metadata": {},
   "source": [
    "## Observational Study vs. Randomized Controlled Trials"
   ]
  },
  {
   "cell_type": "markdown",
   "metadata": {},
   "source": [
    "In __observational studies, the treatment and control groups are observed rather than assigned__. Therefore we are not changing the behavior of the people in the study, only observing the way they behave. However in __randomized controlled trials, the subjects are randomly assigned to either the control or the treatment group__. For example, we randomly assign half of the subjects to take medicine, and half the subjects to take a sugar pill (placebo). \n"
   ]
  },
  {
   "cell_type": "markdown",
   "metadata": {},
   "source": [
    "## Causality in Observational Studies"
   ]
  },
  {
   "cell_type": "markdown",
   "metadata": {},
   "source": [
    "In an observational study, if the treatment and control groups differ in ways other than the treatment, it is difficult to make conclusions about causality. This is because these differences between the groups make it unclear if there are **confounding factors** or not. \n",
    "- **Confounding Factor**- the underlying difference between your two groups (other than the treatment) "
   ]
  },
  {
   "cell_type": "markdown",
   "metadata": {},
   "source": [
    "## Correlation and Causation Examples"
   ]
  },
  {
   "cell_type": "markdown",
   "metadata": {},
   "source": [
    "- Increase in Ice cream sales and More Sunburns\n",
    "- Increase in Covid Cases and Fewer Pregnancies\n",
    "- Restaurant Closure Increases and Weightloss"
   ]
  },
  {
   "cell_type": "markdown",
   "metadata": {},
   "source": [
    "## Discuss in Breakout Rooms"
   ]
  },
  {
   "cell_type": "markdown",
   "metadata": {},
   "source": [
    "### Question 1"
   ]
  },
  {
   "cell_type": "markdown",
   "metadata": {},
   "source": [
    "Suppose you want to see how being quarentined is related to married couples' happiness. In an [article](https://www.bloomberg.com/news/articles/2021-01-05/divorces-and-marriages-tumbled-in-u-s-during-covid-study-shows) from Bloomberg Wealth, they stated that divorce rates in the US have declined since lockdowns started. <br>\n",
    "\n",
    "Can we state that lockdown has **caused** these married couples to be happier? <br>\n",
    "\n",
    "If not, what are some counfounding causes to the link?"
   ]
  },
  {
   "cell_type": "markdown",
   "metadata": {},
   "source": [
    "### Question 2"
   ]
  },
  {
   "cell_type": "markdown",
   "metadata": {},
   "source": [
    "A new digital health study found that people who used health tracking devices had a relatively good year in 2020 despite lockdowns and limited social schedules. People who used fitness monitors from Withings got more sleep and were more successful with weight loss goals compared to 2019. \n",
    "\n",
    "The company found that people got about 10 minutes more sleep each night and were slightly more successful at hitting weight loss goals, despite an overall drop in physical activity.\n",
    "\n",
    "Withings conducted the study based on anonymous, aggregated data from a pool of 5 million users of Withings devices, including a smart scale, hybrid smartwatches, and smart thermometers. The company said it took steps to avoid re-identification of the data. ([article](https://www.techrepublic.com/article/study-people-got-more-sleep-not-less-in-2020/)) <br>\n",
    "\n",
    "What is the sample in this study? <br>\n",
    "\n",
    "What kind of study is this? <br>\n",
    "\n",
    "Are there clear treatment and control groups here? <br>\n",
    "\n",
    "Are there any clear causal relationships we can make here? If yes, explain them. If not, explain why not. <br>"
   ]
  },
  {
   "cell_type": "code",
   "execution_count": null,
   "metadata": {},
   "outputs": [],
   "source": []
  }
 ],
 "metadata": {
  "kernelspec": {
   "display_name": "Python 3",
   "language": "python",
   "name": "python3"
  },
  "language_info": {
   "codemirror_mode": {
    "name": "ipython",
    "version": 3
   },
   "file_extension": ".py",
   "mimetype": "text/x-python",
   "name": "python",
   "nbconvert_exporter": "python",
   "pygments_lexer": "ipython3",
   "version": "3.8.3"
  }
 },
 "nbformat": 4,
 "nbformat_minor": 1
}
