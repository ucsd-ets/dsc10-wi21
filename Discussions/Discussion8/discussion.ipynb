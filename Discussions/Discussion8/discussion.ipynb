{
 "cells": [
  {
   "cell_type": "markdown",
   "metadata": {},
   "source": [
    "# DSC 10 Discussion Week 8\n",
    "\n",
    "<img src=\"data/panda_tree.jpg\" width=\"500\">\n",
    "\n",
    "#### Extra\n",
    "- You can find additional help on these topics in the course [textbook](https://eldridgejm.github.io/dive_into_data_science/front.html).\n",
    "- [Here](https://ucsd-ets.github.io/dsc10-2020-fa/published/default/reference/babypandas-reference.pdf) is a pointer to that reference sheet we saw last time."
   ]
  },
  {
   "cell_type": "markdown",
   "metadata": {},
   "source": [
    "# Permutation Testing\n",
    "\n",
    "###  A/B testing through simulation\n",
    "- Decide whether two random samples come from the same distribution\n",
    "- Statistic : difference between means\n",
    "- Null hypothesis : the two groups are sampled from the same distribution\n",
    "    - *PROBLEM* : we don't know what that distribution is!\n",
    "    \n",
    "### Permutation tests\n",
    "- We can't draw samples from a distribution like we're used to because we don't know what the distribution is!\n",
    "- Instead : randomly shuffle (permute) group labels during simulation\n",
    "    - Compute the \"difference in means\" test statistic between groups of shuffled data\n",
    "\n",
    "### Causation\n",
    "- Observation study - rejecting the null hypothesis does not establish causality \n",
    "    - Correlation ≠ causation\n",
    "    - Confounding factors\n",
    "- Randomized Controlled Trial (RCT)\n",
    "    - A/B test in a RCT does support causality"
   ]
  },
  {
   "cell_type": "code",
   "execution_count": null,
   "metadata": {},
   "outputs": [],
   "source": [
    "import babypandas as bpd\n",
    "import numpy as np\n",
    "import matplotlib.pyplot as plt\n",
    "%matplotlib inline\n",
    "\n",
    "import otter\n",
    "grader = otter.Notebook()\n",
    "\n",
    "from notebook.services.config import ConfigManager\n",
    "\n",
    "cm = ConfigManager()\n",
    "cm.update(\n",
    "    \"livereveal\", {\n",
    "        'width': 1500,\n",
    "        'height': 700,\n",
    "        \"scroll\": True,\n",
    "})"
   ]
  },
  {
   "cell_type": "markdown",
   "metadata": {},
   "source": [
    "## Life expectancy data\n",
    "\n",
    "This data comes from the World Health Organization.  We can learn more about the meanings of the columns by looking here: https://www.kaggle.com/kumarajarshi/life-expectancy-who\n",
    "\n",
    "Let's travel back in time to the year 2015 and collect some data!  For the duration of this discussion, we're going to consider the following data to be our *\"population\"*.\n",
    "\n",
    "Let's take a look at it."
   ]
  },
  {
   "cell_type": "code",
   "execution_count": null,
   "metadata": {},
   "outputs": [],
   "source": [
    "# load in all the data\n",
    "life_expectancy = bpd.read_csv(\"data/Life Expectancy Data.csv\")\n",
    "life_expectancy"
   ]
  },
  {
   "cell_type": "code",
   "execution_count": null,
   "metadata": {},
   "outputs": [],
   "source": [
    "# choose only data from 2015\n",
    "recent_data = life_expectancy[life_expectancy.get(\"Year\") == 2015]\n",
    "recent_data"
   ]
  },
  {
   "cell_type": "markdown",
   "metadata": {},
   "source": [
    "## Sampling from the data\n",
    "\n",
    "From now on, the above data will be considered our population, so we will sample from this population to complete the following experiment.\n",
    "\n",
    "First let us therefore take a sample of 50 countries from the population."
   ]
  },
  {
   "cell_type": "code",
   "execution_count": null,
   "metadata": {},
   "outputs": [],
   "source": [
    "# grab a sample\n",
    "recent_sample = recent_data.sample(50,replace=False).get([\"Status\",\"Life expectancy \"])\n",
    "recent_sample"
   ]
  },
  {
   "cell_type": "markdown",
   "metadata": {},
   "source": [
    "## Life expectancy and country status\n",
    "\n",
    "Question : **Is life expectancy of people born in developing countries significantly shorter than that of peole born in developing countries?**"
   ]
  },
  {
   "cell_type": "markdown",
   "metadata": {},
   "source": [
    "### Question 1\n",
    "\n",
    "Set up the null and alterantive hypotheses for this experiment.\n",
    "\n",
    "\n",
    "**Null:** \n",
    "\n",
    "**Alternative:** "
   ]
  },
  {
   "cell_type": "markdown",
   "metadata": {},
   "source": [
    "### Question 2 \n",
    "\n",
    "How many countries in each group?"
   ]
  },
  {
   "cell_type": "code",
   "execution_count": null,
   "metadata": {},
   "outputs": [],
   "source": [
    "countries_per_group = \n",
    "countries_per_group"
   ]
  },
  {
   "cell_type": "markdown",
   "metadata": {},
   "source": [
    "### Question 3\n",
    "\n",
    "What is the average life expectancy in each group?"
   ]
  },
  {
   "cell_type": "code",
   "execution_count": null,
   "metadata": {},
   "outputs": [],
   "source": [
    "expectancy_per_group = \n",
    "expectancy_per_group"
   ]
  },
  {
   "cell_type": "markdown",
   "metadata": {},
   "source": [
    "### Question 4\n",
    "\n",
    "Visualize the distribution of life expectancy for each group in a histogram plot."
   ]
  },
  {
   "cell_type": "code",
   "execution_count": null,
   "metadata": {},
   "outputs": [],
   "source": [
    "# create a new dataframe for each group\n",
    "developed_expectancy = \n",
    "developing_expectancy = \n",
    "\n",
    "# check to make sure the counts match those from above\n",
    "print(f\"There are {developed_expectancy.shape[0]} developed countries\",end='')\n",
    "print(f\" and {developing_expectancy.shape[0]} developing countries\")"
   ]
  },
  {
   "cell_type": "code",
   "execution_count": null,
   "metadata": {},
   "outputs": [],
   "source": [
    "# plot on a histogram\n",
    "fig, ax = plt.subplots()\n",
    "\n",
    "# first plot developed \n",
    "\n",
    "\n",
    "# then plot developing\n",
    "\n",
    "plt.legend([\"Developed\", \"Developing\"])\n",
    "plt.xlabel(\"Life expectancy\")"
   ]
  },
  {
   "cell_type": "markdown",
   "metadata": {},
   "source": [
    "### Question 5\n",
    "\n",
    "What test statistic should we use to compare these two sample distributions? \n",
    "Decide on which test statistic is best then compute it for the observered sample.\n",
    "\n",
    "Hint (use ```expectancy_per_group``` from above)"
   ]
  },
  {
   "cell_type": "code",
   "execution_count": null,
   "metadata": {},
   "outputs": [],
   "source": [
    "expectancy_per_group"
   ]
  },
  {
   "cell_type": "code",
   "execution_count": null,
   "metadata": {},
   "outputs": [],
   "source": [
    "# observed test statistic\n",
    "test_statistic_name = \n",
    "\n",
    "means = \n",
    "observed_test_statistic = \n",
    "observed_test_statistic"
   ]
  },
  {
   "cell_type": "markdown",
   "metadata": {},
   "source": [
    "### Question 6\n",
    "\n",
    "Randomly permute the group labels and create a new dataframe based on ```recent_sample``` with an additional column."
   ]
  },
  {
   "cell_type": "code",
   "execution_count": null,
   "metadata": {},
   "outputs": [],
   "source": [
    "original_and_shuffled = \n",
    "original_and_shuffled"
   ]
  },
  {
   "cell_type": "markdown",
   "metadata": {},
   "source": [
    "### Question 7\n",
    "\n",
    "Compute the mean life expectancy for each group in the newly permuted data.\n",
    "\n",
    "What do you notice?"
   ]
  },
  {
   "cell_type": "code",
   "execution_count": null,
   "metadata": {},
   "outputs": [],
   "source": [
    "diff_between_means = \n",
    "diff_between_means"
   ]
  },
  {
   "cell_type": "markdown",
   "metadata": {},
   "source": [
    "### Question 8\n",
    "\n",
    "Is it not clear? Let's try taking the mean difference"
   ]
  },
  {
   "cell_type": "code",
   "execution_count": null,
   "metadata": {},
   "outputs": [],
   "source": [
    "obs_mean_difference = \n",
    "obs_mean_difference"
   ]
  },
  {
   "cell_type": "markdown",
   "metadata": {},
   "source": [
    "### Question 9\n",
    "Wow! That's a huge difference? Could it be chance? Let's repeat this 5000 times and store the shuffled difference in an array"
   ]
  },
  {
   "cell_type": "code",
   "execution_count": null,
   "metadata": {},
   "outputs": [],
   "source": [
    "simulated_stats = np.array([]) \n",
    "num_observations = 5000 \n",
    "\n",
    "for _ in range(num_observations):\n",
    "    original_and_shuffled = recent_sample.assign(\n",
    "        shuffled_life_expectancy = np.random.permutation(recent_sample.get(\"Life expectancy \")))\n",
    "    diff_between_means = original_and_shuffled.groupby(\"Status\").mean()\n",
    "    mean_difference = diff_between_means.loc['Developing'] - diff_between_means.loc['Developed']\n",
    "    shuffled_difference = mean_difference.get('shuffled_life_expectancy')\n",
    "    simulated_stats = np.append(simulated_stats, shuffled_difference)\n",
    "    \n",
    "simulated_stats\n",
    "    "
   ]
  },
  {
   "cell_type": "markdown",
   "metadata": {},
   "source": [
    "### Question 10\n",
    "\n",
    "Doesn't look like we can blame these differences on chance (assuming our null hypothesis is true). Let's see the likelihood of our observed difference given this result\n",
    "\n"
   ]
  },
  {
   "cell_type": "code",
   "execution_count": null,
   "metadata": {},
   "outputs": [],
   "source": [
    "p_val = \n",
    "p_val"
   ]
  },
  {
   "cell_type": "markdown",
   "metadata": {},
   "source": [
    "### Question 11\n",
    "\n",
    "Looks like our p value is pretty high. Should we reject the nullhypothesis with a 10% significance threshold?"
   ]
  },
  {
   "cell_type": "code",
   "execution_count": null,
   "metadata": {},
   "outputs": [],
   "source": [
    "reject_null_hypothesis = \n",
    "reject_null_hypothesis"
   ]
  },
  {
   "cell_type": "markdown",
   "metadata": {},
   "source": [
    "# Quick recap about sampling!\n",
    "\n",
    "Here we'll take a look at the same life expectancy data and do some sampling exercises."
   ]
  },
  {
   "cell_type": "code",
   "execution_count": null,
   "metadata": {},
   "outputs": [],
   "source": [
    "# Let's visualize our population distribution.\n",
    "\n",
    "# Defining a function to create bins easily\n",
    "def get_bins(array, bin_size=1):\n",
    "    smallestNum = int(array.min())\n",
    "    \n",
    "    largestNum = int(array.max())\n",
    "    upperLimit = largestNum + bin_size + 1\n",
    "    \n",
    "    return np.arange(smallestNum, upperLimit, bin_size)"
   ]
  },
  {
   "cell_type": "code",
   "execution_count": null,
   "metadata": {},
   "outputs": [],
   "source": [
    "measured = recent_data.get(\"Life expectancy \")\n",
    "\n",
    "#generate number of bins\n",
    "n_bins = get_bins(measured, 1) # <-- Try playing around with the bin size\n",
    "\n",
    "#lets plot the histogram\n",
    "recent_data.get('Life expectancy ').plot(kind='hist', bins=n_bins, density=True)"
   ]
  },
  {
   "cell_type": "code",
   "execution_count": null,
   "metadata": {},
   "outputs": [],
   "source": [
    "# This is our ... ?"
   ]
  },
  {
   "cell_type": "markdown",
   "metadata": {},
   "source": [
    "```\n",
    "POPULATION DISTRIBUTION\n",
    "```"
   ]
  },
  {
   "cell_type": "markdown",
   "metadata": {},
   "source": [
    "So, what is our aim?  \n",
    "\n",
    "We want to estimate the average life expectancy for the globe!  Let's say we don't have access to the entire population.  \n",
    "\n",
    "Flying around the world is pretty expensive, so we can only collect data from 15 countries.\n",
    "\n",
    "We can sample and use bootstrapping to find this.\n"
   ]
  },
  {
   "cell_type": "code",
   "execution_count": null,
   "metadata": {},
   "outputs": [],
   "source": [
    "# How do we create a representative sample?\n",
    "collected = recent_data.sample(n=15, replace=False)\n"
   ]
  },
  {
   "cell_type": "code",
   "execution_count": null,
   "metadata": {},
   "outputs": [],
   "source": [
    "collected"
   ]
  },
  {
   "cell_type": "code",
   "execution_count": null,
   "metadata": {},
   "outputs": [],
   "source": [
    "#we need new bin sizes\n",
    "n_bins = get_bins(collected.get('Life expectancy '),1)\n",
    "\n",
    "\n",
    "#lets plot the histogram\n",
    "collected.get('Life expectancy ').plot(kind='hist', bins=n_bins, density=True)"
   ]
  },
  {
   "cell_type": "code",
   "execution_count": null,
   "metadata": {},
   "outputs": [],
   "source": [
    "# This is our ...?"
   ]
  },
  {
   "cell_type": "markdown",
   "metadata": {},
   "source": [
    "```\n",
    "SAMPLE DISTRIBUTION\n",
    "```"
   ]
  },
  {
   "cell_type": "markdown",
   "metadata": {},
   "source": [
    "We're interested in estimating the mean life expectancy.  So, let's find the mean of our sample."
   ]
  },
  {
   "cell_type": "code",
   "execution_count": null,
   "metadata": {},
   "outputs": [],
   "source": [
    "sample_mean = collected.get('Life expectancy ').mean()\n",
    "sample_mean"
   ]
  },
  {
   "cell_type": "code",
   "execution_count": null,
   "metadata": {},
   "outputs": [],
   "source": [
    "# We can show our mean in relation to the sample:\n",
    "\n",
    "#plot the historgram again\n",
    "collected.get('Life expectancy ').plot(kind='hist', bins=n_bins, density=True)\n",
    "\n",
    "#draw the sample mean\n",
    "plt.axvline(sample_mean, c='r')"
   ]
  },
  {
   "cell_type": "code",
   "execution_count": null,
   "metadata": {},
   "outputs": [],
   "source": [
    "# This is our ... ?"
   ]
  },
  {
   "cell_type": "markdown",
   "metadata": {},
   "source": [
    "```\n",
    "SAMPLE MEAN\n",
    "```"
   ]
  },
  {
   "cell_type": "markdown",
   "metadata": {},
   "source": [
    "What happens when we resample?"
   ]
  },
  {
   "cell_type": "code",
   "execution_count": null,
   "metadata": {},
   "outputs": [],
   "source": [
    "# Run this multiple time to see what changes.\n",
    "\n",
    "resampled = collected.sample(15,replace=True)\n",
    "resampled_mean = resampled.get('Life expectancy ').mean()\n",
    "n_bins = get_bins(collected.get('Life expectancy '), 1)\n",
    "\n",
    "print(\"The resampled mean is:\\t\\t\", resampled_mean, \"\\nCompared to the original:\\t\", sample_mean)\n",
    "\n",
    "#plot the historgram again\n",
    "resampled.get('Life expectancy ').plot(kind='hist', bins=n_bins, density=True)\n",
    "\n",
    "#lets show the sampled_mean and resampled_mean\n",
    "plt.axvline(resampled_mean, c='r')\n",
    "plt.axvline(sample_mean, c='b')"
   ]
  },
  {
   "cell_type": "code",
   "execution_count": null,
   "metadata": {},
   "outputs": [],
   "source": [
    "# This is our ... ?"
   ]
  },
  {
   "cell_type": "markdown",
   "metadata": {},
   "source": [
    "```\n",
    "RESAMPLED MEAN\n",
    "```"
   ]
  },
  {
   "cell_type": "markdown",
   "metadata": {},
   "source": [
    "Now, let's run the bootstrap so we can create a distribution!"
   ]
  },
  {
   "cell_type": "code",
   "execution_count": null,
   "metadata": {},
   "outputs": [],
   "source": [
    "sample_means = np.array([])\n",
    "\n",
    "for i in range(5000):\n",
    "    bootstrapped = collected.sample(15,replace=True)\n",
    "    boot_mean = bootstrapped.get('Life expectancy ').mean()\n",
    "    sample_means = np.append(sample_means, boot_mean)\n",
    "    \n",
    "\n",
    "plt.hist(sample_means, bins=get_bins(sample_means, 0.5))"
   ]
  },
  {
   "cell_type": "code",
   "execution_count": null,
   "metadata": {},
   "outputs": [],
   "source": [
    "# This is our ... ?"
   ]
  },
  {
   "cell_type": "markdown",
   "metadata": {},
   "source": [
    "```\n",
    "DISTRIBUTION OF SAMPLE MEANS\n",
    "```"
   ]
  },
  {
   "cell_type": "code",
   "execution_count": null,
   "metadata": {},
   "outputs": [],
   "source": []
  }
 ],
 "metadata": {
  "kernelspec": {
   "display_name": "Python 3",
   "language": "python",
   "name": "python3"
  },
  "language_info": {
   "codemirror_mode": {
    "name": "ipython",
    "version": 3
   },
   "file_extension": ".py",
   "mimetype": "text/x-python",
   "name": "python",
   "nbconvert_exporter": "python",
   "pygments_lexer": "ipython3",
   "version": "3.8.3"
  }
 },
 "nbformat": 4,
 "nbformat_minor": 2
}
