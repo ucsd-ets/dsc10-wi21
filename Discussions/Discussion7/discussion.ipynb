{
 "cells": [
  {
   "cell_type": "markdown",
   "metadata": {
    "slideshow": {
     "slide_type": "slide"
    }
   },
   "source": [
    "# DSC 10 Discussion Week 7\n",
    "---\n",
    "\n",
    "Welcome to Discussion 7!\n",
    "\n",
    "<img src=\"data/panda_smile.jpg\" width=\"500\">"
   ]
  },
  {
   "cell_type": "markdown",
   "metadata": {},
   "source": [
    "## $\\underline{Lecture\\ 15 : Models\\ and\\ Statistics}$\n",
    "\n",
    "### Model\n",
    "- a set of assumptions about data\n",
    "- assessing the quality of models $\\rightarrow$ statistical inference!\n",
    "\n",
    "### Terminology\n",
    "- **Parameter** : a number associated with the *population* $\\rightarrow$ rarely known exactly\n",
    "- **Statistic** : a number calculated from the *sample* $\\rightarrow$ estimate of a parameter\n",
    "\n",
    "### Bias-Variance trade-off\n",
    "- **Bias** : systematic error in one direction (too high or too low) $\\rightarrow$ good estimates have *LOW bias*\n",
    "- **Variance** : degree to which the value of an estimate varies $\\rightarrow$ good estimates have *LOW variance*\n",
    "\n",
    "### Simulation\n",
    "- **Single experiment** : ```np.random.multinomial(sample_size, pop_distribution)```\n",
    "- **A bunch of experiments** : iteration!\n",
    "- **Visualize** : plot! $\\rightarrow$ often *histogram* to show distribution\n",
    "\n",
    "## $\\underline{Lecture\\ 16 : Hypothesis\\ Testing}$\n",
    "\n",
    "### Two Viewpoints\n",
    "- **Null Hypothesis** : default view $\\rightarrow$ must be simulatable\n",
    "- **Alternate Hypothesis** : opposite of Null Hypothesis \n",
    "\n",
    "### Computing statistics under Null Hypothesis\n",
    "- Choose a relevant *test statistic*\n",
    "    - counts, ratios, differences, absolute differences, etc. depending on problem\n",
    "    - **Total Variation Difference** : difference between two distributions  \n",
    "    - be careful with use of ```abs()```!\n",
    "- Track experiment outcomes and compute the **empirical distribution of the statistic under the null hypothesis**\n",
    "\n",
    "### Drawing conclusions\n",
    "- Compare the following : \n",
    "    - **observed test statistic** (red dot/line from class) \n",
    "    - **empirical distribution under the null hypothesis** (histograms from experiments)\n",
    "- Determine if observed value is consistent\n",
    "    - by visualization or some other conventional quantitative measure\n",
    "    - **p-value** : probability that a result *at least* as extreme as the observation holds under the null hypothesis\n",
    "        - common cutoff is 5% for statistical significance\n",
    "\n",
    "#### Extra\n",
    "- You can find additional help on these topics in the course [textbook](https://eldridgejm.github.io/dive_into_data_science/front.html).\n",
    "- [Here](https://ucsd-ets.github.io/dsc10-2020-fa/published/default/reference/babypandas-reference.pdf) is a pointer to that reference sheet we saw last time."
   ]
  },
  {
   "cell_type": "code",
   "execution_count": null,
   "metadata": {},
   "outputs": [],
   "source": [
    "import babypandas as bpd\n",
    "import numpy as np\n",
    "import matplotlib.pyplot as plt\n",
    "%matplotlib inline"
   ]
  },
  {
   "cell_type": "markdown",
   "metadata": {
    "slideshow": {
     "slide_type": "slide"
    }
   },
   "source": [
    "# Example 1: Fighting Professors"
   ]
  },
  {
   "cell_type": "markdown",
   "metadata": {
    "slideshow": {
     "slide_type": "slide"
    }
   },
   "source": [
    "Two professors are fighting about who is a better teacher. To settle the matter, they decide to give each of their classes the same exam. Whoever's class performs better will be considered the best teacher."
   ]
  },
  {
   "cell_type": "markdown",
   "metadata": {
    "slideshow": {
     "slide_type": "slide"
    }
   },
   "source": [
    "## The Data"
   ]
  },
  {
   "cell_type": "code",
   "execution_count": null,
   "metadata": {},
   "outputs": [],
   "source": [
    "scores = bpd.read_csv('data/scores.csv')\n",
    "scores"
   ]
  },
  {
   "cell_type": "markdown",
   "metadata": {
    "slideshow": {
     "slide_type": "slide"
    }
   },
   "source": [
    "## Exploration"
   ]
  },
  {
   "cell_type": "markdown",
   "metadata": {},
   "source": [
    "### Which professor (A or B) appears to have \"won\"?"
   ]
  },
  {
   "cell_type": "code",
   "execution_count": null,
   "metadata": {},
   "outputs": [],
   "source": [
    "\n",
    "won_prof = "
   ]
  },
  {
   "cell_type": "markdown",
   "metadata": {
    "slideshow": {
     "slide_type": "slide"
    }
   },
   "source": [
    "## Question 1\n",
    "The winning professor claims that they are significantly better than the other professor -- and it isn't just due to random chance. What technique can we use to evaluate their claim?"
   ]
  },
  {
   "cell_type": "markdown",
   "metadata": {},
   "source": [
    "**Answer**: "
   ]
  },
  {
   "cell_type": "markdown",
   "metadata": {
    "slideshow": {
     "slide_type": "slide"
    }
   },
   "source": [
    "## Question 2\n",
    "\n",
    "What are the null and alternative hypotheses?"
   ]
  },
  {
   "cell_type": "markdown",
   "metadata": {},
   "source": [
    "- **Null**:\n",
    "- **Alternative**:"
   ]
  },
  {
   "cell_type": "markdown",
   "metadata": {
    "slideshow": {
     "slide_type": "slide"
    }
   },
   "source": [
    "## Question 3\n",
    "\n",
    "What test statistic can we use? Remember: it is usually better for *large* values of the test statistic to point towards the alternative hypothesis."
   ]
  },
  {
   "cell_type": "markdown",
   "metadata": {},
   "source": [
    "**Answer**:"
   ]
  },
  {
   "cell_type": "markdown",
   "metadata": {},
   "source": [
    "## Question 4\n",
    "\n",
    "What was the *observed value* of your test statistic?"
   ]
  },
  {
   "cell_type": "code",
   "execution_count": null,
   "metadata": {},
   "outputs": [],
   "source": [
    "obs = \n",
    "obs"
   ]
  },
  {
   "cell_type": "code",
   "execution_count": null,
   "metadata": {},
   "outputs": [],
   "source": [
    "import math\n",
    "math.isclose(obs, 4.7411054460319235, rel_tol=1e-4)"
   ]
  },
  {
   "cell_type": "markdown",
   "metadata": {
    "slideshow": {
     "slide_type": "slide"
    }
   },
   "source": [
    "## Question 5\n",
    "\n",
    "Implement your chosen technique to test whether the null hypothesis should be rejected."
   ]
  },
  {
   "cell_type": "code",
   "execution_count": null,
   "metadata": {},
   "outputs": [],
   "source": [
    "num_simulations = 1000\n",
    "simulated_stats = \n",
    "\n",
    "\n",
    "simulated_stats"
   ]
  },
  {
   "cell_type": "markdown",
   "metadata": {
    "slideshow": {
     "slide_type": "slide"
    }
   },
   "source": [
    "## Question 6\n",
    "\n",
    "What is the probability that we see our observed value of the test statistic if the null hypothesis is true?"
   ]
  },
  {
   "cell_type": "code",
   "execution_count": null,
   "metadata": {},
   "outputs": [],
   "source": [
    "p_val = \n",
    "p_val"
   ]
  },
  {
   "cell_type": "code",
   "execution_count": null,
   "metadata": {},
   "outputs": [],
   "source": [
    "p_val < .05"
   ]
  },
  {
   "cell_type": "markdown",
   "metadata": {
    "slideshow": {
     "slide_type": "slide"
    }
   },
   "source": [
    "## Question 7\n",
    "\n",
    "The \"winning\" professor claims that the results show that they are the better teacher. Is this correct?"
   ]
  },
  {
   "cell_type": "code",
   "execution_count": null,
   "metadata": {},
   "outputs": [],
   "source": [
    "claim_true_or_false = \n",
    "claim_true_or_false"
   ]
  },
  {
   "cell_type": "markdown",
   "metadata": {
    "slideshow": {
     "slide_type": "slide"
    }
   },
   "source": [
    "# Example 2: Fun with Test Statistics"
   ]
  },
  {
   "cell_type": "markdown",
   "metadata": {
    "slideshow": {
     "slide_type": "slide"
    }
   },
   "source": [
    "## Question 8\n",
    "\n",
    "You want to test whether a coin is fair. Your hypotheses are:\n",
    "\n",
    "- **Null**: the coin is fair\n",
    "- **Alternative**: the coin is not fair\n",
    "\n",
    "You'll flip the coin 100 times. What test statistic should you use to assess your claim?"
   ]
  },
  {
   "cell_type": "code",
   "execution_count": null,
   "metadata": {},
   "outputs": [],
   "source": [
    "# fill out the following code to set up this experiment\n",
    "\n",
    "num_flips = \n",
    "\n",
    "# model the probability of our coin\n",
    "model = \n",
    "\n",
    "# flip our coin ... times\n",
    "flip_outcomes = \n",
    "\n",
    "# flip_outcomes = [num_heads, num_tails]\n",
    "num_heads = flip_outcomes[0]\n",
    "\n",
    "# What is our test statistic?\n",
    "def test_statistic(num_heads):\n",
    "    return \n",
    "\n",
    "# compute test statistic\n",
    "print(f\"Test statistic result : {test_statistic(num_heads)}\")"
   ]
  },
  {
   "cell_type": "markdown",
   "metadata": {
    "slideshow": {
     "slide_type": "slide"
    }
   },
   "source": [
    "## Question 9\n",
    "\n",
    "In your experiment, you saw 61 heads. What is the observed value of your test statistic?"
   ]
  },
  {
   "cell_type": "code",
   "execution_count": null,
   "metadata": {},
   "outputs": [],
   "source": [
    "num_heads_experiment = 61\n",
    "\n",
    "observed_test_statistic = \n",
    "\n",
    "print(f\"Test statistic result : {observed_test_statistic}\")"
   ]
  },
  {
   "cell_type": "markdown",
   "metadata": {
    "slideshow": {
     "slide_type": "slide"
    }
   },
   "source": [
    "## Question 10\n",
    "\n",
    "You want to test whether an *n*-sided die is fair. Your hypotheses are:\n",
    "\n",
    "- **Null**: the die is fair\n",
    "- **Alternative**: the die is not fair\n",
    "\n",
    "You'll roll the die 100 times. What test statistic should you use to assess your claim?"
   ]
  },
  {
   "cell_type": "code",
   "execution_count": null,
   "metadata": {},
   "outputs": [],
   "source": [
    "# fill out the following code to set up this experiment\n",
    "\n",
    "\n",
    "# specify number of sides\n",
    "N = 20\n",
    "num_rolls = \n",
    "\n",
    "# model the probability of our die\n",
    "model_die = \n",
    "\n",
    "# roll our die ... times\n",
    "roll_outcomes = \n",
    "\n",
    "# roll_outcomes = [count_num_side_1 ,..., ..., count_num_side_N]\n",
    "# roll_outcomes_prob = [perc_num_side_1 ,..., ..., perc_num_side_N]\n",
    "\n",
    "roll_outcomes_prob = \n",
    "\n",
    "\n",
    "# What is our test statistic?\n",
    "def test_statistic_die(roll_outcomes_prob, model_die):\n",
    "    return \n",
    "\n",
    "# compute test statistic\n",
    "print(f\"Test statistic result : {test_statistic_die(roll_outcomes_prob, model_die)}\")"
   ]
  },
  {
   "cell_type": "markdown",
   "metadata": {
    "slideshow": {
     "slide_type": "slide"
    }
   },
   "source": [
    "## Question 11\n",
    "\n",
    "You rolled a 4-sided side 100 times and got \"one\" 20 times, \"two\" 30 times, \"three\" 40 times, and \"four\" 10 times. What is the observed value of your test statistic?"
   ]
  },
  {
   "cell_type": "code",
   "execution_count": null,
   "metadata": {},
   "outputs": [],
   "source": [
    "# specify number of sides\n",
    "N = 4\n",
    "num_rolls = \n",
    "\n",
    "# Given roll outcomes\n",
    "roll_outcomes = np.array([20, 30, 40, 10]) \n",
    "roll_outcomes_prob = \n",
    "\n",
    "# model the probability of our die\n",
    "model_die = \n",
    "\n",
    "# compute the test statistic\n",
    "test_statistic = \n",
    "\n",
    "# display results\n",
    "print(f\"Test statistic result : {test_statistic_die(roll_outcomes_prob, model_die)}\")"
   ]
  },
  {
   "cell_type": "markdown",
   "metadata": {
    "slideshow": {
     "slide_type": "slide"
    }
   },
   "source": [
    "## Question 12\n",
    "\n",
    "You rolled a 2-sided die 100 times and got \"one\" 61 times and \"two\" 39 times. What is the observed value of your test statistic?"
   ]
  },
  {
   "cell_type": "code",
   "execution_count": null,
   "metadata": {},
   "outputs": [],
   "source": [
    "# specify number of sides\n",
    "N = 2\n",
    "num_rolls = \n",
    "\n",
    "# Given roll outcomes\n",
    "roll_outcomes = np.array([61, 39]) \n",
    "roll_outcomes_prob = \n",
    "\n",
    "# model the probability of our die\n",
    "model_die = \n",
    "\n",
    "# compute the test statistic\n",
    "test_statistic = \n",
    "\n",
    "# display results\n",
    "print(f\"Test statistic result : {test_statistic_die(roll_outcomes_prob, model_die)}\")"
   ]
  },
  {
   "cell_type": "code",
   "execution_count": null,
   "metadata": {},
   "outputs": [],
   "source": []
  }
 ],
 "metadata": {
  "celltoolbar": "Slideshow",
  "kernelspec": {
   "display_name": "Python 3",
   "language": "python",
   "name": "python3"
  },
  "language_info": {
   "codemirror_mode": {
    "name": "ipython",
    "version": 3
   },
   "file_extension": ".py",
   "mimetype": "text/x-python",
   "name": "python",
   "nbconvert_exporter": "python",
   "pygments_lexer": "ipython3",
   "version": "3.8.3"
  }
 },
 "nbformat": 4,
 "nbformat_minor": 2
}
