{
 "cells": [
  {
   "cell_type": "markdown",
   "metadata": {},
   "source": [
    "# MIDTERM REVIEW\n",
    "\n",
    "## Midterm : \n",
    "\n",
    "Exam Timing and Logistics: \n",
    "- Exam window is Wednesday, February 10 at 11:59pm PST through Thursday, February 11 at 11:59pm PST\n",
    "- Once started, you'll have 1.5 hours to complete it\n",
    "- The exam is taken on Gradescope\n",
    "- multiple choice, true/false, filling in a numerical answer, and long answer questions\n",
    "- Open-book, open-notes, open-internet (BUT NO STUDENT COLLABORATION)\n",
    "\n",
    "Best way to study:\n",
    "- do the project! (great for studying, plus it's due Saturday, February 13th)\n",
    "- Old homeworks, labs, discussions, review lectures (the exam covers lectures 1-14)\n",
    "\n",
    "*Check out the post on campuswire for more details!*\n",
    "\n",
    "Here are links to the course [textbook](https://eldridgejm.github.io/dive_into_data_science/front.html) or the helpful [reference sheet](https://ucsd-ets.github.io/dsc10-2020-fa/published/default/reference/babypandas-reference.pdf) we often use.\n",
    "\n",
    "<img src=\"data/panda_relax.jpg\" width=\"500\">"
   ]
  },
  {
   "cell_type": "markdown",
   "metadata": {},
   "source": [
    "## Some Topics to study for the exam \n",
    "#### (this list is not exhuastive)\n",
    "\n",
    "- News articles and randomized controlled trials (similar to HW1)\n",
    "- Understanding and working with the index of a table\n",
    "- Strategies for extracting information from a table (knowing how to combine different table functions to get out the desired information)\n",
    "- Interpreting the output of code, including table manipulations\n",
    "- Knowing when to use different types of visualizations\n",
    "- Density histograms (calculating height, area, count, and percent)\n",
    "- Galton’s method for prediction\n",
    "- Probability (similar to Lecture 12)\n",
    "- Sampling schemes (deterministic, probabilistic, sample of convenience)\n",
    "- Empirical distributions and probability distributions"
   ]
  },
  {
   "cell_type": "code",
   "execution_count": null,
   "metadata": {},
   "outputs": [],
   "source": [
    "import babypandas as bpd\n",
    "import numpy as np\n",
    "import matplotlib.pyplot as plt\n",
    "plt.style.use('fivethirtyeight')"
   ]
  },
  {
   "cell_type": "markdown",
   "metadata": {},
   "source": [
    "## Law of Averages and Estimating Probabilities\n",
    "\n",
    "### Rolling a die $N$ times"
   ]
  },
  {
   "cell_type": "markdown",
   "metadata": {},
   "source": [
    "### Discussion Question\n",
    "\n",
    "If you roll a die 4 times. What's P(at least one 6)?\n",
    "\n",
    "|Option|Answer|\n",
    "|---|---|\n",
    "|A| $5/6$|\n",
    "|B| $1-5/6$|\n",
    "|C| $1-(5/6)^4$|\n",
    "|D| $1-(1/6)^4$|\n",
    "|E| None of the above|\n"
   ]
  },
  {
   "cell_type": "markdown",
   "metadata": {},
   "source": [
    "### Answer for 4 rolls\n",
    "* P(at least one 6) = "
   ]
  },
  {
   "cell_type": "markdown",
   "metadata": {},
   "source": [
    "### Answer for N rolls\n",
    "* P(at least one 6) = "
   ]
  },
  {
   "cell_type": "markdown",
   "metadata": {},
   "source": [
    "### Plot the true distribution for each N"
   ]
  },
  {
   "cell_type": "code",
   "execution_count": null,
   "metadata": {},
   "outputs": [],
   "source": [
    "# chance of getting at least one six \n",
    "rolls = np.arange(1, 51)\n",
    "at_least_one = bpd.DataFrame().assign(n_rolls=rolls, chance=1-(5/6)**rolls)\n",
    "at_least_one.plot(kind='scatter', x='n_rolls', y='chance')"
   ]
  },
  {
   "cell_type": "markdown",
   "metadata": {},
   "source": [
    "### Simulate the probability for N=20\n",
    "* What is the chance of getting at least one 6 in 20 rolls?"
   ]
  },
  {
   "cell_type": "code",
   "execution_count": null,
   "metadata": {},
   "outputs": [],
   "source": [
    "faces = \n",
    "outcomes =  # pick random number from faces, 20 times\n",
    "outcomes"
   ]
  },
  {
   "cell_type": "code",
   "execution_count": null,
   "metadata": {},
   "outputs": [],
   "source": [
    "# number of positive outcomes\n"
   ]
  },
  {
   "cell_type": "markdown",
   "metadata": {},
   "source": [
    "### Run this simulation 100,000 times"
   ]
  },
  {
   "cell_type": "code",
   "execution_count": null,
   "metadata": {},
   "outputs": [],
   "source": [
    "rolled6 = 0\n",
    "trials = 100000\n",
    "\n",
    "        \n",
    "#estimate the probability\n",
    "rolled6/trials"
   ]
  },
  {
   "cell_type": "markdown",
   "metadata": {},
   "source": [
    "### Simulate the probability for N=20\n",
    "* wrap the experiment in a function that takes the number of trials as the input\n",
    "* run the experiment many times"
   ]
  },
  {
   "cell_type": "code",
   "execution_count": null,
   "metadata": {},
   "outputs": [],
   "source": [
    "def roll_20(trials):\n",
    "    rolled6 = 0\n",
    "    for i in np.arange(trials):\n",
    "        outcomes = np.random.choice(faces, 20)\n",
    "        if np.count_nonzero(outcomes == 6) >=1:\n",
    "            rolled6 = rolled6 + 1\n",
    "\n",
    "    return rolled6/trials\n",
    "\n",
    "roll_20(1000)"
   ]
  },
  {
   "cell_type": "code",
   "execution_count": null,
   "metadata": {},
   "outputs": [],
   "source": [
    "estimates = np.array([])\n",
    "for i in np.arange(500):\n",
    "    estimates = np.append(roll_20(1000), estimates)\n",
    "    \n",
    "probs = bpd.DataFrame().assign(estimates=estimates)"
   ]
  },
  {
   "cell_type": "code",
   "execution_count": null,
   "metadata": {
    "scrolled": true
   },
   "outputs": [],
   "source": [
    "probs.plot(kind='hist', density=True, bins=np.linspace(.95, .99, 15))\n",
    "true_prob = 1 - (5/6)**20\n",
    "\n",
    "plt.axvline(x=true_prob, c='r');"
   ]
  },
  {
   "cell_type": "markdown",
   "metadata": {},
   "source": [
    "## Approximately what number of trials had the probability between .965 and .970?"
   ]
  },
  {
   "cell_type": "code",
   "execution_count": null,
   "metadata": {
    "scrolled": false
   },
   "outputs": [],
   "source": [
    "probs.plot(kind = 'hist', density = True, bins = 5)"
   ]
  },
  {
   "cell_type": "markdown",
   "metadata": {},
   "source": [
    "## MBA Player Data"
   ]
  },
  {
   "cell_type": "code",
   "execution_count": null,
   "metadata": {
    "scrolled": false
   },
   "outputs": [],
   "source": [
    "df = bpd.read_csv('data/player_data.csv')\n",
    "df"
   ]
  },
  {
   "cell_type": "markdown",
   "metadata": {},
   "source": [
    "---"
   ]
  },
  {
   "cell_type": "markdown",
   "metadata": {},
   "source": [
    "# Top Ten Table Patterns\n",
    "\n",
    "## And some variations"
   ]
  },
  {
   "cell_type": "markdown",
   "metadata": {},
   "source": [
    "Let's look at the most common patterns we have been using on tables. They are quite simple when you have a computer. \n",
    "\n",
    "However, for the exam, you really need to get familiar with them.\n",
    "\n",
    "Best way to study: Study by writing code with pen and paper. Learn to check your code for logical and syntax errors, without the help of Python!"
   ]
  },
  {
   "cell_type": "markdown",
   "metadata": {},
   "source": [
    "# 0) Get and Drop Columns\n",
    "\n",
    "**Pattern**: `df.get(column_name)`\n",
    "\n",
    "**Pattern**: `df.drop(columns = column_name)`\n",
    "\n",
    "Where column_name is a string"
   ]
  },
  {
   "cell_type": "markdown",
   "metadata": {},
   "source": [
    "### What is the output type of the following line of code?"
   ]
  },
  {
   "cell_type": "code",
   "execution_count": null,
   "metadata": {},
   "outputs": [],
   "source": [
    "df.get('Points')"
   ]
  },
  {
   "cell_type": "code",
   "execution_count": null,
   "metadata": {},
   "outputs": [],
   "source": [
    "df.get('Age')"
   ]
  },
  {
   "cell_type": "markdown",
   "metadata": {},
   "source": [
    "### What will the variable df_modified contain after running the following line of code?"
   ]
  },
  {
   "cell_type": "markdown",
   "metadata": {},
   "source": [
    "### Drop column \"Age\""
   ]
  },
  {
   "cell_type": "code",
   "execution_count": null,
   "metadata": {},
   "outputs": [],
   "source": [
    "df_modified = df.drop(\"Age\")"
   ]
  },
  {
   "cell_type": "code",
   "execution_count": null,
   "metadata": {},
   "outputs": [],
   "source": [
    "help(bpd.DataFrame.drop)"
   ]
  },
  {
   "cell_type": "code",
   "execution_count": null,
   "metadata": {},
   "outputs": [],
   "source": [
    "df_modified = df.drop(columns = \"Age\")\n",
    "df_modified"
   ]
  },
  {
   "cell_type": "code",
   "execution_count": null,
   "metadata": {},
   "outputs": [],
   "source": [
    "df_modified = df.drop(columns = [\"Age\", \"Team\", \"Games\"])\n",
    "df_modified"
   ]
  },
  {
   "cell_type": "markdown",
   "metadata": {},
   "source": [
    "# 1) Get something by its label & index\n",
    "**Pattern**: `df.get(column_name).loc[row_label].`"
   ]
  },
  {
   "cell_type": "markdown",
   "metadata": {},
   "source": [
    "### Getting data by its label"
   ]
  },
  {
   "cell_type": "code",
   "execution_count": null,
   "metadata": {},
   "outputs": [],
   "source": [
    "df = df.set_index('Name')"
   ]
  },
  {
   "cell_type": "markdown",
   "metadata": {},
   "source": [
    "### What does the following line of code return?"
   ]
  },
  {
   "cell_type": "code",
   "execution_count": null,
   "metadata": {},
   "outputs": [],
   "source": [
    "df.get('Points').loc['LeBron James']"
   ]
  },
  {
   "cell_type": "markdown",
   "metadata": {},
   "source": [
    "### What does the following line of code return?"
   ]
  },
  {
   "cell_type": "code",
   "execution_count": null,
   "metadata": {},
   "outputs": [],
   "source": [
    "df.get('Games').loc['Chris Paul']"
   ]
  },
  {
   "cell_type": "markdown",
   "metadata": {},
   "source": [
    "### Getting Multiple datapoints by their labels"
   ]
  },
  {
   "cell_type": "markdown",
   "metadata": {},
   "source": [
    "Get the points of players James Harden, Stephen Curry, Adreian Payne"
   ]
  },
  {
   "cell_type": "markdown",
   "metadata": {},
   "source": [
    "### What is the output type of the last line of code?"
   ]
  },
  {
   "cell_type": "code",
   "execution_count": null,
   "metadata": {},
   "outputs": [],
   "source": [
    "query_players = [\"James Harden\", \"Stephen Curry\", \"Adreian Payne\"]\n",
    "df.get('Points').loc[query_players]"
   ]
  },
  {
   "cell_type": "markdown",
   "metadata": {},
   "source": [
    "# 2) Find the label with the largest/smallest value.\n",
    "\n",
    "**Pattern**: `df.sort_values(by = \"Points\").iloc[-1]`\n",
    "\n",
    "**Pattern**: `df.sort_values(by = \"Points\", ascending = False).iloc[0]`"
   ]
  },
  {
   "cell_type": "markdown",
   "metadata": {},
   "source": [
    "### According to score, get the point and name of best player"
   ]
  },
  {
   "cell_type": "code",
   "execution_count": null,
   "metadata": {},
   "outputs": [],
   "source": [
    "df.get(\"Points\").sort_values()"
   ]
  },
  {
   "cell_type": "markdown",
   "metadata": {},
   "source": [
    "### What will occur when running the line of code below?\n",
    "- A. df will be a dataframe containing the sorted values of the original dataframe df in **ascending order**\n",
    "- B. df will be a dataframe containing the sorted values of the original dataframe df in **descending order**\n",
    "- C. df will be a NoneType\n",
    "- D. df will not get set because an error will occur"
   ]
  },
  {
   "cell_type": "code",
   "execution_count": null,
   "metadata": {},
   "outputs": [],
   "source": [
    "df = df.sort_values()"
   ]
  },
  {
   "cell_type": "code",
   "execution_count": null,
   "metadata": {},
   "outputs": [],
   "source": [
    "df = df.sort_values(by = \"Points\")"
   ]
  },
  {
   "cell_type": "markdown",
   "metadata": {},
   "source": [
    "### What information does the following line of code give us?"
   ]
  },
  {
   "cell_type": "code",
   "execution_count": null,
   "metadata": {},
   "outputs": [],
   "source": [
    "df.get('Points').iloc[0]"
   ]
  },
  {
   "cell_type": "markdown",
   "metadata": {},
   "source": [
    "### What information do the following lines of code give us?"
   ]
  },
  {
   "cell_type": "code",
   "execution_count": null,
   "metadata": {},
   "outputs": [],
   "source": [
    "df.get('Points').iloc[-1]"
   ]
  },
  {
   "cell_type": "code",
   "execution_count": null,
   "metadata": {},
   "outputs": [],
   "source": [
    "df.index[-1]"
   ]
  },
  {
   "cell_type": "markdown",
   "metadata": {},
   "source": [
    "## Current state of the dataframe"
   ]
  },
  {
   "cell_type": "code",
   "execution_count": null,
   "metadata": {},
   "outputs": [],
   "source": [
    "df"
   ]
  },
  {
   "cell_type": "markdown",
   "metadata": {},
   "source": [
    "### What information is output below?"
   ]
  },
  {
   "cell_type": "code",
   "execution_count": null,
   "metadata": {},
   "outputs": [],
   "source": [
    "df = df.sort_values(by = \"Age\", ascending = False)\n",
    "df.get(\"Age\").iloc[4]"
   ]
  },
  {
   "cell_type": "code",
   "execution_count": null,
   "metadata": {},
   "outputs": [],
   "source": [
    "df.index[4]"
   ]
  },
  {
   "cell_type": "markdown",
   "metadata": {},
   "source": [
    "### What is the type of the following output, and what information does it contain?"
   ]
  },
  {
   "cell_type": "code",
   "execution_count": null,
   "metadata": {},
   "outputs": [],
   "source": [
    "query_range = np.arange(0, 6)\n",
    "\n",
    "(df\n",
    "    .get('Age')\n",
    "    .sort_values(ascending = True)\n",
    "    .iloc[query_range]\n",
    ")"
   ]
  },
  {
   "cell_type": "markdown",
   "metadata": {},
   "source": [
    "### What is the output below?"
   ]
  },
  {
   "cell_type": "code",
   "execution_count": null,
   "metadata": {},
   "outputs": [],
   "source": [
    "df = df.sort_values(by = [\"Age\", \"Points\"]) \n",
    "df.index[-1]"
   ]
  },
  {
   "cell_type": "markdown",
   "metadata": {},
   "source": [
    "### Get the age and points of this player"
   ]
  },
  {
   "cell_type": "code",
   "execution_count": null,
   "metadata": {},
   "outputs": [],
   "source": [
    "df.get(\"Age\").iloc[-1]"
   ]
  },
  {
   "cell_type": "code",
   "execution_count": null,
   "metadata": {},
   "outputs": [],
   "source": [
    "df.get(\"Points\").iloc[-1]"
   ]
  },
  {
   "cell_type": "markdown",
   "metadata": {},
   "source": [
    "---"
   ]
  },
  {
   "cell_type": "markdown",
   "metadata": {},
   "source": [
    "# 3) Compute a statistic for a subset. Filter to get the subset.\n",
    "\n",
    "**Example**: Players info for players with age >= 30\n",
    "\n",
    "**Pattern**:\n",
    "\n",
    "`bool_mask = df.get('Age') >= 30\n",
    "df[bool_mask]\n",
    "`"
   ]
  },
  {
   "cell_type": "markdown",
   "metadata": {},
   "source": [
    "### Return a table containing entries for players with age >= 30"
   ]
  },
  {
   "cell_type": "code",
   "execution_count": null,
   "metadata": {},
   "outputs": [],
   "source": [
    "bool_mask = df.get('Age') >= 30\n",
    "df[bool_mask]"
   ]
  },
  {
   "cell_type": "markdown",
   "metadata": {},
   "source": [
    "### What is the output of the last line of code below?"
   ]
  },
  {
   "cell_type": "code",
   "execution_count": null,
   "metadata": {},
   "outputs": [],
   "source": [
    "bool_mask = df.get('Age') >= 30\n",
    "df[bool_mask].get('Points').mean()"
   ]
  },
  {
   "cell_type": "markdown",
   "metadata": {},
   "source": [
    "### What is the output of the last line of code below?"
   ]
  },
  {
   "cell_type": "code",
   "execution_count": null,
   "metadata": {},
   "outputs": [],
   "source": [
    "mean_points = df.get('Points').mean()\n",
    "bool_mask = df.get('Points') >= mean_points\n",
    "df[bool_mask].get('Age').mean()"
   ]
  },
  {
   "cell_type": "markdown",
   "metadata": {},
   "source": [
    "# 4) Combining Conditions, Filtering and Getting Statistics\n",
    "\n",
    "**Pattern**:\n",
    "\n",
    "`bool1 = df.get('col1') > num1\n",
    "bool2 = df.get('col2') == num2\n",
    "bool_condition = bool1 & bool2\n",
    "df[bool_condition]\n",
    "`\n",
    "\n",
    "**Pattern**: Don't forget the parantheses if you write it like below:\n",
    "\n",
    "`\n",
    "df[(...) & (...) & (...)]\n",
    "df[(df.get('col1') > num1) & (df.get('col2') == num2)]\n",
    "`"
   ]
  },
  {
   "cell_type": "markdown",
   "metadata": {},
   "source": [
    "### Filter the table, players who have more than 600 assists and more than 100 steals"
   ]
  },
  {
   "cell_type": "code",
   "execution_count": null,
   "metadata": {},
   "outputs": [],
   "source": [
    "mask1 = df.get('Assists') > 600\n",
    "mask2 = df.get('Steals') > 100\n",
    "bool_mask = mask1 & mask2\n",
    "df[bool_mask]"
   ]
  },
  {
   "cell_type": "markdown",
   "metadata": {},
   "source": [
    "### What information do we obtain from the following lines of code?"
   ]
  },
  {
   "cell_type": "code",
   "execution_count": null,
   "metadata": {},
   "outputs": [],
   "source": [
    "mask1 = df.get('Rebounds') > 1000\n",
    "mask2 = df.get('Blocks') > 100\n",
    "bool_mask = mask1 & mask2\n",
    "df[bool_mask].shape[0]"
   ]
  },
  {
   "cell_type": "markdown",
   "metadata": {},
   "source": [
    "### What information do we obtain from the following lines of code?"
   ]
  },
  {
   "cell_type": "code",
   "execution_count": null,
   "metadata": {},
   "outputs": [],
   "source": [
    "mean_points = df.get('Points').mean()\n",
    "mask1 = df.get('Points') >= mean_points\n",
    "mask2 = df.get('Games') > 40\n",
    "bool_mask = mask1 & mask2\n",
    "df[bool_mask].get('Age').median()"
   ]
  },
  {
   "cell_type": "markdown",
   "metadata": {},
   "source": [
    "# 5) Compute statistics for a group. \n",
    "\n",
    "**Pattern**:\n",
    "\n",
    "`df.groupby(column_name).func()\n",
    "`\n",
    "Where func is the aggrageting function"
   ]
  },
  {
   "cell_type": "code",
   "execution_count": null,
   "metadata": {},
   "outputs": [],
   "source": [
    "df = df.reset_index()"
   ]
  },
  {
   "cell_type": "code",
   "execution_count": null,
   "metadata": {},
   "outputs": [],
   "source": [
    "df.groupby('Team').min()"
   ]
  },
  {
   "cell_type": "markdown",
   "metadata": {},
   "source": [
    "### AI Horford is the youngest player on ATL? True or False"
   ]
  },
  {
   "cell_type": "markdown",
   "metadata": {},
   "source": [
    "### What does the following line of code return and what is its output type?"
   ]
  },
  {
   "cell_type": "code",
   "execution_count": null,
   "metadata": {},
   "outputs": [],
   "source": [
    "df.groupby('Team').count().get([\"Points\"])"
   ]
  },
  {
   "cell_type": "markdown",
   "metadata": {},
   "source": [
    "### What does the following line of code output?"
   ]
  },
  {
   "cell_type": "code",
   "execution_count": null,
   "metadata": {},
   "outputs": [],
   "source": [
    "df.groupby('Team').mean().get([\"Games\", \"Points\"])"
   ]
  },
  {
   "cell_type": "markdown",
   "metadata": {},
   "source": [
    "### What do the values contain in the new column that was created, and what is the name of that column?"
   ]
  },
  {
   "cell_type": "code",
   "execution_count": null,
   "metadata": {},
   "outputs": [],
   "source": [
    "new_col = df.get(\"Points\") / df.get(\"Games\")\n",
    "df_new = (df\n",
    "    .assign(Points_Per_Game = new_col)\n",
    "    .sort_values(by = \"Points_Per_Game\",ascending = False)\n",
    ")\n",
    "df_new"
   ]
  },
  {
   "cell_type": "markdown",
   "metadata": {},
   "source": [
    "# 6) Apply function & Conditionals\n",
    "\n",
    "**Pattern**: `df.get(a_column).apply(a_function)`"
   ]
  },
  {
   "cell_type": "markdown",
   "metadata": {},
   "source": [
    "### Given a full name, write a function that finds how many words it has"
   ]
  },
  {
   "cell_type": "code",
   "execution_count": null,
   "metadata": {},
   "outputs": [],
   "source": [
    "def find_name_len(string):\n",
    "    \"\"\" Finds how many words the name contains \"\"\"\n",
    "    return len(string.split())"
   ]
  },
  {
   "cell_type": "code",
   "execution_count": null,
   "metadata": {},
   "outputs": [],
   "source": [
    "find_name_len(\"Frank Lloyd Wright\")"
   ]
  },
  {
   "cell_type": "code",
   "execution_count": null,
   "metadata": {},
   "outputs": [],
   "source": [
    "find_name_len(\"Tony Montana\")"
   ]
  },
  {
   "cell_type": "markdown",
   "metadata": {},
   "source": [
    "### What does the following line of code output?"
   ]
  },
  {
   "cell_type": "code",
   "execution_count": null,
   "metadata": {},
   "outputs": [],
   "source": [
    "df.get(\"Name\").apply(find_name_len)"
   ]
  },
  {
   "cell_type": "markdown",
   "metadata": {},
   "source": [
    "### What information does this code output?"
   ]
  },
  {
   "cell_type": "code",
   "execution_count": null,
   "metadata": {},
   "outputs": [],
   "source": [
    "( df\n",
    " .reset_index()\n",
    " .get(\"Name\")\n",
    " .apply(find_name_len)\n",
    " .max()\n",
    ")"
   ]
  },
  {
   "cell_type": "code",
   "execution_count": null,
   "metadata": {},
   "outputs": [],
   "source": [
    "def assign_age_group(age):\n",
    "    if age < 21:\n",
    "        return \"young\"\n",
    "    elif age < 31:\n",
    "        return \"mid\"\n",
    "    else:\n",
    "        return \"old\""
   ]
  },
  {
   "cell_type": "markdown",
   "metadata": {},
   "source": [
    "### What will the line of code below output?"
   ]
  },
  {
   "cell_type": "code",
   "execution_count": null,
   "metadata": {},
   "outputs": [],
   "source": [
    "assign_age_group(21)"
   ]
  },
  {
   "cell_type": "code",
   "execution_count": null,
   "metadata": {},
   "outputs": [],
   "source": [
    "assign_age_group(35)"
   ]
  },
  {
   "cell_type": "markdown",
   "metadata": {},
   "source": [
    "### Add a new column to the table, which shows the age group of each player"
   ]
  },
  {
   "cell_type": "code",
   "execution_count": null,
   "metadata": {},
   "outputs": [],
   "source": [
    "new_col = df.get(\"Age\").apply(assign_age_group)\n",
    "df_new = df.assign(Age_Group = new_col)\n",
    "df_new"
   ]
  },
  {
   "cell_type": "markdown",
   "metadata": {},
   "source": [
    "# 7) Groupby Multiple Columns and look at statistics\n",
    "\n",
    "\n",
    "**Pattern**:\n",
    "\n",
    "`df.groupby([column_name1, column_name2]).func()\n",
    "`\n",
    "Where func is the aggrageting function\n",
    "\n",
    "* There should always be an aggregating function. Otherwise we just get a groupby object."
   ]
  },
  {
   "cell_type": "markdown",
   "metadata": {},
   "source": [
    "### What does the following line of code output?"
   ]
  },
  {
   "cell_type": "code",
   "execution_count": null,
   "metadata": {},
   "outputs": [],
   "source": [
    "df_new.groupby([\"Team\", \"Age_Group\"])"
   ]
  },
  {
   "cell_type": "markdown",
   "metadata": {},
   "source": [
    "### What does the following line of code output?"
   ]
  },
  {
   "cell_type": "code",
   "execution_count": null,
   "metadata": {},
   "outputs": [],
   "source": [
    "df_groups = (df_new\n",
    " .groupby([\"Team\", \"Age_Group\"]).count()\n",
    " .get([\"Team\", \"Age_Group\", \"Games\"])\n",
    ")"
   ]
  },
  {
   "cell_type": "code",
   "execution_count": null,
   "metadata": {
    "scrolled": true
   },
   "outputs": [],
   "source": [
    "df_groups = (df_new\n",
    " .groupby([\"Team\", \"Age_Group\"])\n",
    " .count()\n",
    " .reset_index() # critical change here bc Age_Group was the old index!\n",
    " .get([\"Team\", \"Age_Group\", \"Games\"])\n",
    ")\n",
    "df_groups"
   ]
  },
  {
   "cell_type": "markdown",
   "metadata": {},
   "source": [
    "# 8) Rename a column\n",
    "\n",
    "**Pattern**: Store the column to be renamed, assign it to with a new column name, drop the column with the old name.\n",
    "\n",
    "`new_col = df.get(old_column_name)\n",
    "df = (df.assign(new_col_name = new_col).drop(columns = old_column_name))`"
   ]
  },
  {
   "cell_type": "code",
   "execution_count": null,
   "metadata": {},
   "outputs": [],
   "source": [
    "df_groups"
   ]
  },
  {
   "cell_type": "markdown",
   "metadata": {},
   "source": [
    "### What are the columns in the output?"
   ]
  },
  {
   "cell_type": "code",
   "execution_count": null,
   "metadata": {},
   "outputs": [],
   "source": [
    "new_col = df_groups.get(\"Games\")\n",
    "df_groups = (df_groups\n",
    "             .assign(Player_Count = new_col)\n",
    "             .drop(columns = \"Games\")\n",
    "            )\n",
    "df_groups"
   ]
  },
  {
   "cell_type": "markdown",
   "metadata": {},
   "source": [
    "# 9) Get all rows containing a string.\n",
    "\n",
    "**Pattern**\n",
    "\n",
    "`bool_mask = df.get(column_of_strings).str.contains('James')\n",
    "df[bool_mask]\n",
    "`"
   ]
  },
  {
   "cell_type": "markdown",
   "metadata": {},
   "source": [
    "### What does the outputted dataframe contain?"
   ]
  },
  {
   "cell_type": "code",
   "execution_count": null,
   "metadata": {},
   "outputs": [],
   "source": [
    "bool_mask = df.get(\"Name\").str.contains(\"James\")\n",
    "df[bool_mask]"
   ]
  },
  {
   "cell_type": "markdown",
   "metadata": {},
   "source": [
    "### Only players with the substring \"Reg\" and substring \"ie\" in their full name remain."
   ]
  },
  {
   "cell_type": "code",
   "execution_count": null,
   "metadata": {},
   "outputs": [],
   "source": [
    "mask1 = df.get(\"Name\").str.contains(\"ie\")\n",
    "mask2 = df.get(\"Name\").str.contains(\"Reg\")\n",
    "df[mask1 & mask2]"
   ]
  },
  {
   "cell_type": "markdown",
   "metadata": {},
   "source": [
    "# Top 8 Possible Pitfalls & Things to Keep in Mind"
   ]
  },
  {
   "cell_type": "markdown",
   "metadata": {},
   "source": [
    "## 0) Difference between & and \"and\"\n",
    "\n",
    "Always use \"and\" with conditionals, always use & with boolean arrays."
   ]
  },
  {
   "cell_type": "code",
   "execution_count": null,
   "metadata": {},
   "outputs": [],
   "source": [
    "True and False"
   ]
  },
  {
   "cell_type": "code",
   "execution_count": null,
   "metadata": {},
   "outputs": [],
   "source": [
    "np.array([True, False, True]) & np.array([False, False, False])"
   ]
  },
  {
   "cell_type": "code",
   "execution_count": null,
   "metadata": {},
   "outputs": [],
   "source": [
    "np.array([True, False, True]) and np.array([False, False, False]) # don't do this!"
   ]
  },
  {
   "cell_type": "markdown",
   "metadata": {},
   "source": [
    "## 1) Parentheses when combining conditionals:"
   ]
  },
  {
   "cell_type": "code",
   "execution_count": null,
   "metadata": {},
   "outputs": [],
   "source": [
    "df[df.get(\"Age\") >= 25 & df.get(\"Points\") >= 2000]"
   ]
  },
  {
   "cell_type": "code",
   "execution_count": null,
   "metadata": {},
   "outputs": [],
   "source": [
    "df[(df.get(\"Age\") >= 25) & (df.get(\"Points\") >= 1800)]"
   ]
  },
  {
   "cell_type": "markdown",
   "metadata": {},
   "source": [
    "## 2) Column names are meaningless after a `groupby` and count!"
   ]
  },
  {
   "cell_type": "code",
   "execution_count": null,
   "metadata": {
    "scrolled": true
   },
   "outputs": [],
   "source": [
    "df.groupby(\"Team\").count()"
   ]
  },
  {
   "cell_type": "code",
   "execution_count": null,
   "metadata": {},
   "outputs": [],
   "source": [
    "# Has no relation to the actual \"Steals\" and \"Blocks\" columns\n",
    "df.groupby(\"Team\").count().get([\"Steals\", \"Blocks\"])"
   ]
  },
  {
   "cell_type": "markdown",
   "metadata": {},
   "source": [
    "## 3) Reset index, especially after grouping with multiple columns."
   ]
  },
  {
   "cell_type": "code",
   "execution_count": null,
   "metadata": {},
   "outputs": [],
   "source": [
    "(df_new\n",
    " .groupby([\"Team\", \"Age_Group\"])\n",
    " .count()\n",
    " .reset_index()\n",
    ")"
   ]
  },
  {
   "cell_type": "markdown",
   "metadata": {},
   "source": [
    "## 4) `iloc[]` vs `loc[]` vs array indexing`[]`"
   ]
  },
  {
   "cell_type": "code",
   "execution_count": null,
   "metadata": {},
   "outputs": [],
   "source": [
    "# Before using loc, make sure of what type of index you have:\n",
    "df.index"
   ]
  },
  {
   "cell_type": "code",
   "execution_count": null,
   "metadata": {},
   "outputs": [],
   "source": [
    "df = df.set_index(\"Name\")"
   ]
  },
  {
   "cell_type": "code",
   "execution_count": null,
   "metadata": {},
   "outputs": [],
   "source": [
    "df.get(\"Age\").loc[\"Stephen Curry\"]"
   ]
  },
  {
   "cell_type": "code",
   "execution_count": null,
   "metadata": {},
   "outputs": [],
   "source": [
    "df.get(\"Age\").iloc[2]"
   ]
  },
  {
   "cell_type": "code",
   "execution_count": null,
   "metadata": {},
   "outputs": [],
   "source": [
    "df.index[2]"
   ]
  },
  {
   "cell_type": "markdown",
   "metadata": {},
   "source": [
    "## 5) Not specifying column while sorting table\n",
    "\n",
    "Wrong: `df = df.sort_values(ascending = False)` \n",
    "\n",
    "Correct: `df = df.sort_values(by = column_name, ascending = False)` "
   ]
  },
  {
   "cell_type": "markdown",
   "metadata": {},
   "source": [
    "## 6) Trying to get the index using .get() instead of .index"
   ]
  },
  {
   "cell_type": "code",
   "execution_count": null,
   "metadata": {
    "scrolled": true
   },
   "outputs": [],
   "source": [
    "# df.get(\"Name\")\n",
    "df.index"
   ]
  },
  {
   "cell_type": "markdown",
   "metadata": {},
   "source": [
    "# 7) Using df.drop with missing argument"
   ]
  },
  {
   "cell_type": "markdown",
   "metadata": {},
   "source": [
    "`df.drop(columns = column_name)` without columns, for example `df.drop(column_name)` is wrong."
   ]
  },
  {
   "cell_type": "code",
   "execution_count": null,
   "metadata": {},
   "outputs": [],
   "source": [
    "# df.drop(\"Points\")\n",
    "df.drop(columns = \"Points\")"
   ]
  },
  {
   "cell_type": "code",
   "execution_count": null,
   "metadata": {},
   "outputs": [],
   "source": []
  }
 ],
 "metadata": {
  "kernelspec": {
   "display_name": "Python 3",
   "language": "python",
   "name": "python3"
  },
  "language_info": {
   "codemirror_mode": {
    "name": "ipython",
    "version": 3
   },
   "file_extension": ".py",
   "mimetype": "text/x-python",
   "name": "python",
   "nbconvert_exporter": "python",
   "pygments_lexer": "ipython3",
   "version": "3.8.3"
  }
 },
 "nbformat": 4,
 "nbformat_minor": 4
}
