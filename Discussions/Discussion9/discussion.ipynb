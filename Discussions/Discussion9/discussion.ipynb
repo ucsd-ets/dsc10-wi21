{
 "cells": [
  {
   "cell_type": "markdown",
   "metadata": {},
   "source": [
    "# DSC 10 Discussion Week 9\n",
    "\n",
    "<img src=\"data/panda_baby.jpg\" width=\"500\">"
   ]
  },
  {
   "cell_type": "markdown",
   "metadata": {},
   "source": [
    "# Bootstrapping - sampling within a sample\n",
    "- Problem : statistics about the data population are often unavailable, costly to acquire, unknown, etc.\n",
    "- Solution : utilize random sampling (and re-sampling) of available data to estimate population statistics\n",
    "    - The result of bootstrapping will be a distribution over sample statistics!\n",
    "    - Hopefully we'll see that these *sample statistics* $\\approx$ *population statistics*\n",
    "    \n",
    "### Bootstrapping basic procedure\n",
    "- Sample from the population\n",
    "- Re-sample from that same sample (make sure to have replace=True!)\n",
    "- Repeat\n",
    "- **Note** - after re-sampling, we will likely see duplicate data entries within a single sample, but that's okay! \n",
    "    - If we didn't have duplicates, then we would have the same exact data in every single sample (this would be bad!)\n",
    "\n",
    "# Bootstrapped Confidence Intervals\n",
    "- Goal : return a range of values that we are confident contain the true population statistic \n",
    "    - Bootstrapping gives us a distribution of sample statistics\n",
    "    - The true population statistic often lies within the bulk of that distribution \n",
    "- $X$% confidence interval \n",
    "    - Interpretation\n",
    "        - **YES**: $X$% of all bootstrapped sample statistics fall within that interval\n",
    "        - **YES**: ~$X$% of the time, the interval will capture the correct population statistic\n",
    "        - **YES**: I'm $X$% confident that the true population statistic is in the interval\n",
    "        - **NO**: the true population statistic has an $X$% chance of being in the interval\n",
    "    - Computation\n",
    "        - Use $\\frac{100-X}{2}$ and $100-\\frac{100-X}{2}$ for lower and upper percentiles\n",
    "        \n",
    "### CIs for testing\n",
    "- Given P-value $p$ and null hypothesis \"population statistic = $a$\":\n",
    "    - Construct $(100-p)$ CI for populatiton statistic\n",
    "    - Reject null hypothesis if $a$ is not in the interval\n",
    "\n",
    "# Describing a Distribution : Mean and Spread\n",
    "- Center of a distribution \n",
    "    - *Mean* : balance point\n",
    "    - *Median* : half-way point (robust to outliers) \n",
    "- Spread of distribution \n",
    "    - *Range* : biggest - smallest\n",
    "    - *Standard deviation* : variability around the mean\n",
    "- Chebyshev's Inequality\n",
    "    - Proportion of values in the range \"average $\\pm\\ z$ SDs\" is ≥ $1-\\frac{1}{z^2}$\n",
    "- Looking forward\n",
    "    - We'll look at other types of distributions and ones that can be parameterized "
   ]
  },
  {
   "cell_type": "markdown",
   "metadata": {},
   "source": [
    "#### Extra\n",
    "- You can find additional help on these topics in the course [textbook](https://eldridgejm.github.io/dive_into_data_science/front.html).\n",
    "- [Here](https://ucsd-ets.github.io/dsc10-2020-fa/published/default/reference/babypandas-reference.pdf) is a pointer to that reference sheet we saw last time."
   ]
  },
  {
   "cell_type": "code",
   "execution_count": null,
   "metadata": {},
   "outputs": [],
   "source": [
    "import babypandas as bpd\n",
    "import numpy as np\n",
    "import matplotlib.pyplot as plt\n",
    "%matplotlib inline\n",
    "\n",
    "import otter\n",
    "grader = otter.Notebook()\n",
    "\n",
    "from notebook.services.config import ConfigManager\n",
    "\n",
    "cm = ConfigManager()\n",
    "cm.update(\n",
    "    \"livereveal\", {\n",
    "        'width': 1500,\n",
    "        'height': 700,\n",
    "        \"scroll\": True,\n",
    "})"
   ]
  },
  {
   "cell_type": "markdown",
   "metadata": {},
   "source": [
    "<div style=\"padding: 15px; border: 1px solid transparent; border-color: transparent; margin-bottom: 20px; border-radius: 4px; color: #3c763d; background-color: #dff0d8; border-color: #d6e9c6;\">\n",
    "\n",
    "# RECALL FROM LAST WEEK\n",
    "    \n",
    "Quick outline\n",
    "- data : life expectancy \n",
    "- population : all countries\n",
    "- sample : smaller random selection of countries\n",
    "- visualizations : histograms of life expectancy data and mean\n",
    "    \n",
    "</div>"
   ]
  },
  {
   "cell_type": "markdown",
   "metadata": {},
   "source": [
    "## Life expectancy data\n",
    "\n",
    "This data comes from the World Health Organization.  We can learn more about the meanings of the columns by looking here: https://www.kaggle.com/kumarajarshi/life-expectancy-who\n",
    "\n",
    "Let's travel back in time to the year 2015 and collect some data!  For the duration of this discussion, we're going to consider the following data to be our *\"population\"*.\n",
    "\n",
    "Let's take a look at it."
   ]
  },
  {
   "cell_type": "code",
   "execution_count": null,
   "metadata": {},
   "outputs": [],
   "source": [
    "# load in all the data\n",
    "life_expectancy = bpd.read_csv(\"data/Life Expectancy Data.csv\")\n",
    "\n",
    "# choose only data from 2015\n",
    "recent_data = life_expectancy[life_expectancy.get(\"Year\") == 2015]\n",
    "\n",
    "recent_data"
   ]
  },
  {
   "cell_type": "code",
   "execution_count": null,
   "metadata": {},
   "outputs": [],
   "source": [
    "# compute population mean to compare\n",
    "\n",
    "pop_mean = recent_data.get('Life expectancy ').mean()\n",
    "pop_mean"
   ]
  },
  {
   "cell_type": "markdown",
   "metadata": {},
   "source": [
    "# Quick recap about sampling!\n",
    "\n",
    "Here we'll take a look at the same life expectancy data and do some sampling exercises."
   ]
  },
  {
   "cell_type": "code",
   "execution_count": null,
   "metadata": {},
   "outputs": [],
   "source": [
    "# Let's visualize our population distribution.\n",
    "\n",
    "# Defining a function to create bins easily\n",
    "def get_bins(array, bin_size=1):\n",
    "    smallestNum = int(array.min())\n",
    "    \n",
    "    largestNum = int(array.max())\n",
    "    upperLimit = largestNum + bin_size + 1\n",
    "    \n",
    "    return np.arange(smallestNum, upperLimit, bin_size)"
   ]
  },
  {
   "cell_type": "code",
   "execution_count": null,
   "metadata": {},
   "outputs": [],
   "source": [
    "measured = recent_data.get(\"Life expectancy \")\n",
    "\n",
    "#generate number of bins\n",
    "n_bins = get_bins(measured, 1) # <-- Try playing around with the bin size\n",
    "\n",
    "#lets plot the histogram\n",
    "recent_data.get('Life expectancy ').plot(kind='hist', bins=n_bins, density=True)"
   ]
  },
  {
   "cell_type": "markdown",
   "metadata": {},
   "source": [
    "## POPULATION DISTRIBUTION\n",
    "- life expectancy of all countries in our POPULATION (entire dataset)"
   ]
  },
  {
   "cell_type": "code",
   "execution_count": null,
   "metadata": {},
   "outputs": [],
   "source": [
    "# different sample sizes\n",
    "\n",
    "num_samples = 50\n",
    "\n",
    "#num_samples = 40"
   ]
  },
  {
   "cell_type": "code",
   "execution_count": null,
   "metadata": {},
   "outputs": [],
   "source": [
    "# How do we create a representative sample?\n",
    "collected = recent_data.sample(n=num_samples, replace=False)\n",
    "\n",
    "#we need new bin sizes\n",
    "n_bins = get_bins(collected.get('Life expectancy '),1)\n",
    "\n",
    "\n",
    "#lets plot the histogram\n",
    "plt.title(\"Sample Distribution\")\n",
    "collected.get('Life expectancy ').plot(kind='hist', bins=n_bins, density=True)\n",
    "# plt.show()"
   ]
  },
  {
   "cell_type": "markdown",
   "metadata": {},
   "source": [
    "## SAMPLE DISTRIBUTION\n",
    "- life expectancy of all countries in our SAMPLE (random selection of 50 countries)"
   ]
  },
  {
   "cell_type": "code",
   "execution_count": null,
   "metadata": {},
   "outputs": [],
   "source": [
    "sample_mean = collected.get('Life expectancy ').mean()\n",
    "sample_mean\n",
    "\n",
    "# We can show our mean in relation to the sample:\n",
    "\n",
    "#plot the historgram again\n",
    "collected.get('Life expectancy ').plot(kind='hist', bins=n_bins, density=True)\n",
    "\n",
    "#draw the sample mean\n",
    "plt.title(\"Sample Mean\")\n",
    "plt.axvline(sample_mean, c='r')\n",
    "# plt.show()"
   ]
  },
  {
   "cell_type": "markdown",
   "metadata": {},
   "source": [
    "## SAMPLE MEAN\n",
    "- **mean** life expectancy of all countries in our SAMPLE (random selection of 40 countries)"
   ]
  },
  {
   "cell_type": "code",
   "execution_count": null,
   "metadata": {},
   "outputs": [],
   "source": [
    "# Run this multiple time to see what changes.\n",
    "\n",
    "resampled = collected.sample(num_samples,replace=True)\n",
    "resampled_mean = resampled.get('Life expectancy ').mean()\n",
    "n_bins = get_bins(collected.get('Life expectancy '), 1)\n",
    "\n",
    "print(\"The resampled mean is:\\t\\t\", resampled_mean, \"\\nCompared to the original:\\t\", sample_mean)\n",
    "\n",
    "#plot the historgram again\n",
    "resampled.get('Life expectancy ').plot(kind='hist', bins=n_bins, density=True)\n",
    "\n",
    "#lets show the sampled_mean and resampled_mean\n",
    "plt.title(\"Resampled mean\")\n",
    "plt.axvline(resampled_mean, c='r')\n",
    "plt.axvline(sample_mean, c='b')\n",
    "# plt.show()"
   ]
  },
  {
   "cell_type": "markdown",
   "metadata": {},
   "source": [
    "## RESAMPLED MEAN\n",
    "- **mean** life expectancy of all countries in our NEW SAMPLE"
   ]
  },
  {
   "cell_type": "code",
   "execution_count": null,
   "metadata": {},
   "outputs": [],
   "source": [
    "# bootstrapping loop\n",
    "\n",
    "sample_means = np.array([])\n",
    "\n",
    "for i in range(1000):\n",
    "    bootstrapped = collected.sample(num_samples,replace=True)\n",
    "    boot_mean = bootstrapped.get('Life expectancy ').mean()\n",
    "    sample_means = np.append(sample_means, boot_mean)"
   ]
  },
  {
   "cell_type": "code",
   "execution_count": null,
   "metadata": {},
   "outputs": [],
   "source": [
    "plt.title(\"Distribution of Sample Means\")\n",
    "plt.hist(sample_means, bins=get_bins(sample_means, 0.5))\n",
    "# plt.show()"
   ]
  },
  {
   "cell_type": "markdown",
   "metadata": {},
   "source": [
    "## DISTRIBUTION OF SAMPLE MEANS\n",
    "- distribution of **mean** life expectancy from 1000 different samples (bootstrapping!)"
   ]
  },
  {
   "cell_type": "code",
   "execution_count": null,
   "metadata": {},
   "outputs": [],
   "source": [
    "plt.hist(sample_means, bins=get_bins(sample_means, 0.5))\n",
    "plt.scatter(pop_mean, 0, color='red', s=80).set_zorder(2)"
   ]
  },
  {
   "cell_type": "markdown",
   "metadata": {},
   "source": [
    "## POPULATION MEAN TOO\n",
    "- comparing population mean to the distribution of sample means"
   ]
  },
  {
   "cell_type": "markdown",
   "metadata": {},
   "source": [
    "<div style=\"padding: 15px; border: 1px solid transparent; border-color: transparent; margin-bottom: 20px; border-radius: 4px; color: #3c763d; background-color: #dff0d8; border-color: #d6e9c6;\">\n",
    "\n",
    "### Everything above should hopefully be familiar from last week\n",
    "- if not [here](https://ucsd.zoom.us/rec/play/FNbiilaGa1BNkSAKGdIAIuBtvTMnua2wyZGWCKZ7SEj1l426mV18AkgUHnFTMypCepd5t5mm8cD85Ukp.dSsb2q67ubzlcB55?startTime=1605664878000&_x_zm_rtaid=0Oagfxv1TH6w3vwvZqPTbQ.1606170859635.ea29f4b90ffe94632dd6376dbf87eb23&_x_zm_rhtaid=235) is a link to last week's discussion!\n",
    "\n",
    "</div>"
   ]
  },
  {
   "cell_type": "markdown",
   "metadata": {},
   "source": [
    "# So now what? \n",
    "\n",
    "- What conclusions can we make about the **population mean** based on our distribution of sample means?"
   ]
  },
  {
   "cell_type": "markdown",
   "metadata": {},
   "source": [
    "# Confidence Intervals\n",
    "\n",
    "- We would like to come up with a range of values that contain X% of all bootstrapped sample means. \n",
    "- This interval corresponds to an X% confidence interval\n",
    "\n",
    "### How to do this?\n",
    "- We need our array of sample means and we need to compute a few percentiles based on what X% confidence interval we'd like to return"
   ]
  },
  {
   "cell_type": "markdown",
   "metadata": {},
   "source": [
    "# Question 1 \n",
    "Suppose we'd like to construct 90% and 82% Confidence Intervals over some statistic.\n",
    "\n",
    "What are the upper and lower percentiles we need in each case?"
   ]
  },
  {
   "cell_type": "code",
   "execution_count": null,
   "metadata": {},
   "outputs": [],
   "source": [
    "# compute the lower percentile given a confidence interval\n",
    "def compute_lower_percentile(perc_conf):\n",
    "    \n",
    "    lower_perc = \n",
    "    \n",
    "    return lower_perc\n",
    "\n",
    "# compute the upper percentile given a confidence interval\n",
    "def compute_upper_percentile(perc_conf):\n",
    "    \n",
    "    upper_perc = \n",
    "    \n",
    "    return upper_perc"
   ]
  },
  {
   "cell_type": "code",
   "execution_count": null,
   "metadata": {},
   "outputs": [],
   "source": [
    "lower_perc_90 = \n",
    "print(f\"Lower percentile for 90% C.I. : {lower_perc_90}\")\n",
    "\n",
    "upper_perc_90 = \n",
    "print(f\"Upper percentile for 90% C.I. : {upper_perc_90}\")"
   ]
  },
  {
   "cell_type": "code",
   "execution_count": null,
   "metadata": {},
   "outputs": [],
   "source": [
    "lower_perc_82 = \n",
    "print(f\"Lower percentile for 82% C.I. : {lower_perc_82}\")\n",
    "\n",
    "upper_perc_82 = \n",
    "print(f\"Upper percentile for 82% C.I. : {upper_perc_82}\")"
   ]
  },
  {
   "cell_type": "markdown",
   "metadata": {},
   "source": [
    "# Question 2 \n",
    "\n",
    "Which of the two confidence intervals (90% or 82%) is larger? Why?"
   ]
  },
  {
   "cell_type": "code",
   "execution_count": null,
   "metadata": {},
   "outputs": [],
   "source": [
    "# choose 90 or 82\n",
    " \n",
    "larger_ci = \n",
    "\n"
   ]
  },
  {
   "cell_type": "markdown",
   "metadata": {},
   "source": [
    "# Question 3\n",
    "\n",
    "Compute the upper and lower bounds of a 95% confidence interval for our ```sample_means``` data from above."
   ]
  },
  {
   "cell_type": "code",
   "execution_count": null,
   "metadata": {},
   "outputs": [],
   "source": [
    "def compute_ci(confidence_level, sample_means):\n",
    "\n",
    "    # What is the mean we're estimating?\n",
    "    mean = \n",
    "\n",
    "    # What are the percentiles?\n",
    "    # Use the functions we made above\n",
    "    lower_perc = \n",
    "    upper_perc = \n",
    "\n",
    "    # And then our lower and upper bounds?\n",
    "    lower_bound = \n",
    "    upper_bound = \n",
    "\n",
    "    # Printing it out so we can easily see our results.\n",
    "    print(\"\"\"\n",
    "    Mean:\\t{}\n",
    "\n",
    "    Lower Percentile:\\t{}\n",
    "    Upper Percentile:\\t{}\n",
    "\n",
    "    Lower Bound:\\t{}\n",
    "    Upper Bound:\\t{}\n",
    "\n",
    "    Confidence Level:\\t{}%\n",
    "    \"\"\".format(mean, lower_perc, upper_perc, lower_bound, upper_bound, confidence_level))\n",
    "    \n",
    "    return lower_bound, upper_bound"
   ]
  },
  {
   "cell_type": "code",
   "execution_count": null,
   "metadata": {},
   "outputs": [],
   "source": [
    "confidence_level = \n",
    "\n",
    "# compute the ci\n",
    "lower_bound, upper_bound = "
   ]
  },
  {
   "cell_type": "markdown",
   "metadata": {},
   "source": [
    "### Lets visualize the confidence interval on the histogram from earlier"
   ]
  },
  {
   "cell_type": "code",
   "execution_count": null,
   "metadata": {},
   "outputs": [],
   "source": [
    "def plot_ci(ci, lower_bound, upper_bound, sample_means, pop_mean):\n",
    "    plt.title(f\"{ci}% confidence interval\")\n",
    "    plt.hist(sample_means, bins=get_bins(sample_means, 0.5))\n",
    "    plt.scatter(pop_mean, 0, color='red', s=80).set_zorder(3)\n",
    "    plt.plot([lower_bound, upper_bound], [0,0], color='lime', linewidth=4, zorder=2)"
   ]
  },
  {
   "cell_type": "code",
   "execution_count": null,
   "metadata": {},
   "outputs": [],
   "source": [
    "plot_ci(confidence_level, lower_bound, upper_bound, sample_means, pop_mean)"
   ]
  },
  {
   "cell_type": "markdown",
   "metadata": {},
   "source": [
    "# Question 4\n",
    "\n",
    "Interpret what the confidence interval means in the context of this problem. "
   ]
  },
  {
   "cell_type": "markdown",
   "metadata": {},
   "source": [
    "Answer: "
   ]
  },
  {
   "cell_type": "code",
   "execution_count": null,
   "metadata": {},
   "outputs": [],
   "source": [
    "lower_bound"
   ]
  },
  {
   "cell_type": "code",
   "execution_count": null,
   "metadata": {},
   "outputs": [],
   "source": [
    "upper_bound"
   ]
  },
  {
   "cell_type": "markdown",
   "metadata": {},
   "source": [
    "# Question 5\n",
    "\n",
    "Compute 100%, 80%, and 50% confidence intervals using the same ```sample_means``` and visualize the results of each."
   ]
  },
  {
   "cell_type": "code",
   "execution_count": null,
   "metadata": {},
   "outputs": [],
   "source": [
    "# compute the bounds\n",
    "print(\"100% CI\")\n",
    "lower_100, upper_100 = \n",
    "\n",
    "print(\"80% CI\")\n",
    "lower_80, upper_80 = \n",
    "\n",
    "print(\"50% CI\")\n",
    "lower_50, upper_50 = "
   ]
  },
  {
   "cell_type": "code",
   "execution_count": null,
   "metadata": {},
   "outputs": [],
   "source": [
    "# visualize the results\n",
    "plot_ci(100, lower_100, upper_100, sample_means, pop_mean)\n",
    "plot_ci(80, lower_80, upper_80, sample_means, pop_mean)\n",
    "plot_ci(50, lower_50, upper_50, sample_means, pop_mean)"
   ]
  },
  {
   "cell_type": "markdown",
   "metadata": {},
   "source": [
    "# Question 6\n",
    "\n",
    "Do any of the above confidence intervals (100%, 95%, 80%, 50%) NOT contain the true population mean?"
   ]
  },
  {
   "cell_type": "code",
   "execution_count": null,
   "metadata": {},
   "outputs": [],
   "source": [
    "pop_mean"
   ]
  },
  {
   "cell_type": "code",
   "execution_count": null,
   "metadata": {},
   "outputs": [],
   "source": [
    "# answer True or False\n",
    "exists_interval = \n",
    "exists_interval"
   ]
  },
  {
   "cell_type": "markdown",
   "metadata": {},
   "source": [
    "# Question 7\n",
    "\n",
    "Is it possible for the 80% confidence interval to contain the true population mean while the 95% confidence interval does not?"
   ]
  },
  {
   "cell_type": "code",
   "execution_count": null,
   "metadata": {},
   "outputs": [],
   "source": [
    "# answer True or False\n",
    "possible = \n",
    "possible"
   ]
  },
  {
   "cell_type": "code",
   "execution_count": null,
   "metadata": {},
   "outputs": [],
   "source": []
  }
 ],
 "metadata": {
  "kernelspec": {
   "display_name": "Python 3",
   "language": "python",
   "name": "python3"
  },
  "language_info": {
   "codemirror_mode": {
    "name": "ipython",
    "version": 3
   },
   "file_extension": ".py",
   "mimetype": "text/x-python",
   "name": "python",
   "nbconvert_exporter": "python",
   "pygments_lexer": "ipython3",
   "version": "3.8.3"
  }
 },
 "nbformat": 4,
 "nbformat_minor": 2
}
