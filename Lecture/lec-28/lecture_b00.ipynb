{
 "cells": [
  {
   "cell_type": "code",
   "execution_count": null,
   "metadata": {},
   "outputs": [],
   "source": [
    "#: the usual imports\n",
    "import babypandas as bpd\n",
    "import numpy as np\n",
    "\n",
    "%matplotlib inline\n",
    "import matplotlib.pyplot as plt\n",
    "import warnings; warnings.simplefilter('ignore')\n",
    "\n",
    "plt.style.use('fivethirtyeight')\n",
    "\n",
    "from notebook.services.config import ConfigManager\n",
    "\n",
    "cm = ConfigManager()\n",
    "cm.update(\n",
    "   \"livereveal\", {\n",
    "       'width': 1200,\n",
    "       'height': 700,\n",
    "       \"scroll\": True,\n",
    "})"
   ]
  },
  {
   "cell_type": "markdown",
   "metadata": {},
   "source": [
    "## Announcements\n",
    "\n",
    "* CAPE evaluations\n",
    "* Final exam released tomorrow 3pm PST, due Sunday 11:59pm PDT\n",
    "    - Note the time change"
   ]
  },
  {
   "cell_type": "markdown",
   "metadata": {},
   "source": [
    "Which topic do you **most** want to cover?\n",
    "\n",
    "A. hypothesis testing  \n",
    "B. permutation testing  \n",
    "C. central limit theorem and sample means  \n",
    "D. bootstrapping  \n",
    "E. histograms  \n",
    "F. percentiles  \n",
    "\n"
   ]
  },
  {
   "cell_type": "markdown",
   "metadata": {},
   "source": [
    "Which topic do you **least** want to cover?\n",
    "\n",
    "A. hypothesis testing  \n",
    "B. permutation testing  \n",
    "C. central limit theorem and sample means  \n",
    "D. bootstrapping  \n",
    "E. histograms  \n",
    "F. percentiles  \n",
    "\n"
   ]
  },
  {
   "cell_type": "markdown",
   "metadata": {},
   "source": [
    "## Hypothesis Testing and Permutation Testing"
   ]
  },
  {
   "cell_type": "code",
   "execution_count": null,
   "metadata": {
    "scrolled": false
   },
   "outputs": [],
   "source": [
    "restaurants = bpd.read_csv('data/restaurants.csv')\n",
    "restaurants.columns"
   ]
  },
  {
   "cell_type": "code",
   "execution_count": null,
   "metadata": {},
   "outputs": [],
   "source": [
    "restaurants = restaurants.get(['business_name', 'inspection_date', 'inspection_score', 'risk_category', 'Neighborhoods', 'Zip Codes'])\n",
    "restaurants "
   ]
  },
  {
   "cell_type": "code",
   "execution_count": null,
   "metadata": {
    "scrolled": true
   },
   "outputs": [],
   "source": [
    "at_risk = restaurants[(restaurants.get('inspection_score')>-1)&\n",
    "                      ((restaurants.get('risk_category')==\"High Risk\")|(restaurants.get('risk_category')==\"Low Risk\")|\n",
    "                       (restaurants.get('risk_category')==\"Moderate Risk\"))]\n",
    "at_risk"
   ]
  },
  {
   "cell_type": "code",
   "execution_count": null,
   "metadata": {},
   "outputs": [],
   "source": [
    "(\n",
    "    at_risk[at_risk.get('risk_category') == 'High Risk']\n",
    "    .get('inspection_score')\n",
    "    .plot(kind='hist', label='High Risk', color='green', alpha = 0.6, bins = 25, density = True)\n",
    ")\n",
    "(\n",
    "    at_risk[at_risk.get('risk_category') == 'Low Risk']\n",
    "    .get('inspection_score').plot(kind='hist', label='Low Risk', color='red', alpha = 0.5, bins = 25, density = True)\n",
    ")\n",
    "plt.xlabel('Inspection Score')\n",
    "\n",
    "plt.legend(['High Risk', 'Low Risk'])"
   ]
  },
  {
   "cell_type": "markdown",
   "metadata": {},
   "source": [
    "We want to compare high risk restaurants to low risk restaurants and see if their inspection scores are different. What technique should we use?\n",
    "\n",
    "A. A/B testing  \n",
    "B. Standard hypothesis testing  \n",
    "C. Bootstrapping  \n",
    "D. Confidence intervals"
   ]
  },
  {
   "cell_type": "markdown",
   "metadata": {},
   "source": [
    "Can you state the null and alternative hypotheses?\n",
    "\n",
    "Null: The inspection scores of low-risk and high-risk restaurants are drawn from the same distribution.\n",
    "\n",
    "Alternative: The inspection scores of low-risk and high-risk restaurants are NOT drawn from the same distribution."
   ]
  },
  {
   "cell_type": "markdown",
   "metadata": {},
   "source": [
    "It looks like the high risk and low risk groups have pretty different histograms.\n",
    "What test statistic(s) can we use to quantify the difference between the two groups displayed in a given histogram?\n",
    "\n",
    "A. total variation distance  \n",
    "B. difference in the means  \n",
    "C. either of the above"
   ]
  },
  {
   "cell_type": "code",
   "execution_count": null,
   "metadata": {},
   "outputs": [],
   "source": [
    "at_risk"
   ]
  },
  {
   "cell_type": "code",
   "execution_count": null,
   "metadata": {
    "scrolled": true
   },
   "outputs": [],
   "source": [
    "high_low = at_risk[(at_risk.get('risk_category')==\"High Risk\")|(at_risk.get('risk_category')==\"Low Risk\")]\n",
    "high_low = high_low.get(['inspection_score', 'risk_category'])\n",
    "high_low"
   ]
  },
  {
   "cell_type": "code",
   "execution_count": null,
   "metadata": {},
   "outputs": [],
   "source": [
    "high_low_shuffled = high_low.assign(shuffled_label=np.random.permutation(high_low.get('risk_category')))\n",
    "high_low_shuffled"
   ]
  },
  {
   "cell_type": "markdown",
   "metadata": {},
   "source": [
    "Does the next cell calculated the observed value of the test statistic or a simulated value of the test statistic?\n",
    "\n",
    "A. observed  \n",
    "B. simulated\n",
    "\n",
    "How would you calculate the other?"
   ]
  },
  {
   "cell_type": "code",
   "execution_count": null,
   "metadata": {},
   "outputs": [],
   "source": [
    "grouped = high_low_shuffled.groupby('risk_category').mean().get('inspection_score')\n",
    "grouped.loc[\"Low Risk\"] - grouped.loc[\"High Risk\"]"
   ]
  },
  {
   "cell_type": "code",
   "execution_count": null,
   "metadata": {},
   "outputs": [],
   "source": [
    "grouped = high_low_shuffled.groupby('shuffled_label').mean().get('inspection_score')\n",
    "grouped.loc[\"Low Risk\"] - grouped.loc[\"High Risk\"]"
   ]
  },
  {
   "cell_type": "code",
   "execution_count": null,
   "metadata": {},
   "outputs": [],
   "source": [
    "def calculate_test_statistic():\n",
    "    high_low_shuffled = high_low.assign(shuffled_label=np.random.permutation(high_low.get('risk_category')))\n",
    "    grouped = high_low_shuffled.groupby('shuffled_label').mean().get('inspection_score')\n",
    "    return grouped.loc[\"Low Risk\"] - grouped.loc[\"High Risk\"]"
   ]
  },
  {
   "cell_type": "code",
   "execution_count": null,
   "metadata": {},
   "outputs": [],
   "source": [
    "calculate_test_statistic()"
   ]
  },
  {
   "cell_type": "code",
   "execution_count": null,
   "metadata": {},
   "outputs": [],
   "source": [
    "simulated_stats = np.array([])\n",
    "\n",
    "for i in np.arange(1000):\n",
    "    sim_stat = calculate_test_statistic()\n",
    "    simulated_stats = np.append(simulated_stats, sim_stat)"
   ]
  },
  {
   "cell_type": "code",
   "execution_count": null,
   "metadata": {},
   "outputs": [],
   "source": [
    "np.count_nonzero(simulated_stats>0)"
   ]
  },
  {
   "cell_type": "code",
   "execution_count": null,
   "metadata": {},
   "outputs": [],
   "source": [
    "grouped = high_low_shuffled.groupby('risk_category').mean().get('inspection_score')\n",
    "observed = grouped.loc[\"Low Risk\"] - grouped.loc[\"High Risk\"]\n",
    "\n",
    "bpd.DataFrame().assign(DifferenceInMeans=simulated_stats).plot(kind='hist', density=True)\n",
    "plt.axvline(observed, color='red')"
   ]
  },
  {
   "cell_type": "markdown",
   "metadata": {},
   "source": [
    "What's the p-value?"
   ]
  },
  {
   "cell_type": "code",
   "execution_count": null,
   "metadata": {},
   "outputs": [],
   "source": [
    "np.count_nonzero(simulated_stats>=observed)/100"
   ]
  },
  {
   "cell_type": "markdown",
   "metadata": {},
   "source": [
    "You work as a family physician and you want to test the following hypotheses:\n",
    "\n",
    "Null Hypothesis: Family physicians see an equal number of children and adults.\n",
    "\n",
    "Alternative Hypothesis: Family physicians see an unequal number of children and adults.\n",
    "\n",
    "You collect data and you find that in 6354 patients, 3115 were children and 3239 were adults."
   ]
  },
  {
   "cell_type": "markdown",
   "metadata": {},
   "source": [
    "Which test statistic(s) could be used for this hypothesis test? Which values of the test statistic point towards the alternative?\n",
    "\n",
    "A. proportion of children seen   \n",
    "B. number of children seen  \n",
    "C. number of children minus number of adults seen  \n",
    "D. absolute value of number of children minus number of adults seen  "
   ]
  },
  {
   "cell_type": "markdown",
   "metadata": {},
   "source": [
    "What if we used a different alternative hypothesis? Which test statistics would work then? \n",
    "\n",
    "Null Hypothesis: Family physicians see an equal number of children and adults.\n",
    "\n",
    "Alternative Hypothesis: Family physicians see more adults than children."
   ]
  },
  {
   "cell_type": "markdown",
   "metadata": {},
   "source": [
    "How do you generate one value of the test statistic? Let's use number of children seen, in 6354 patients."
   ]
  },
  {
   "cell_type": "code",
   "execution_count": null,
   "metadata": {},
   "outputs": [],
   "source": [
    "np.random.multinomial(6354, [0.5, 0.5])[0]"
   ]
  },
  {
   "cell_type": "markdown",
   "metadata": {},
   "source": [
    "Can you do it without using `np.random.multinomial`?"
   ]
  },
  {
   "cell_type": "code",
   "execution_count": null,
   "metadata": {},
   "outputs": [],
   "source": [
    "patients = bpd.DataFrame().assign(Patient=['Adult', 'Child'])"
   ]
  },
  {
   "cell_type": "code",
   "execution_count": null,
   "metadata": {},
   "outputs": [],
   "source": [
    "many_patients = patients.sample(6354, replace=True)\n",
    "many_patients"
   ]
  },
  {
   "cell_type": "code",
   "execution_count": null,
   "metadata": {},
   "outputs": [],
   "source": [
    "np.count_nonzero(many_patients.get('Patient')=='Child')"
   ]
  },
  {
   "cell_type": "markdown",
   "metadata": {},
   "source": [
    "Is this an example of bootstrapping?  \n",
    "A. Yes, because we are sampling with replacment.  \n",
    "B. No, this is not bootstrapping."
   ]
  },
  {
   "cell_type": "code",
   "execution_count": null,
   "metadata": {},
   "outputs": [],
   "source": [
    "test_stats = np.array([])\n",
    "\n",
    "for i in np.arange(10000):\n",
    "    stat = np.random.multinomial(6354, [0.5, 0.5])[0]\n",
    "    test_stats = np.append(test_stats, stat)"
   ]
  },
  {
   "cell_type": "code",
   "execution_count": null,
   "metadata": {},
   "outputs": [],
   "source": [
    "bpd.DataFrame().assign(NumChildren=test_stats).plot(kind='hist', density=True)\n"
   ]
  },
  {
   "cell_type": "markdown",
   "metadata": {},
   "source": [
    "Observed data: You collect data and you find that in 6354 patients, 3115 were children and 3239 were adults.\n",
    "\n",
    "Null Hypothesis: Family physicians see an equal number of children and adults.\n",
    "\n",
    "Alternative Hypothesis: Family physicians see more adults than children.\n",
    "\n",
    "A. reject the null  \n",
    "B. fail to reject the null  \n",
    "C. not sure  "
   ]
  },
  {
   "cell_type": "markdown",
   "metadata": {},
   "source": [
    "How do we calculate a p-value?\n",
    "\n",
    "A. `np.count_nonzero(test_stats<3115)/10000`  \n",
    "B. `np.count_nonzero(test_stats<=3115)/10000`  \n",
    "C. `np.count_nonzero(test_stats>3115)/10000`  \n",
    "D. `np.count_nonzero(test_stats>=3115)/10000`  "
   ]
  },
  {
   "cell_type": "markdown",
   "metadata": {},
   "source": [
    "## The Central Limit Theorem\n",
    "\n",
    "> The distribution of sums (and averages) of large random samples (w/ replacement) are roughly normal, regardless of the distribution of the population from which the sample was drawn"
   ]
  },
  {
   "cell_type": "code",
   "execution_count": null,
   "metadata": {
    "scrolled": false
   },
   "outputs": [],
   "source": [
    "bakeries = restaurants[(restaurants.get('business_name').str.contains('Bake'))&(restaurants.get('inspection_score')>-1)]\n",
    "bakeries"
   ]
  },
  {
   "cell_type": "code",
   "execution_count": null,
   "metadata": {
    "scrolled": true
   },
   "outputs": [],
   "source": [
    "bakeries.sample(200, replace=True)"
   ]
  },
  {
   "cell_type": "code",
   "execution_count": null,
   "metadata": {},
   "outputs": [],
   "source": [
    "bakeries.sample(200, replace=True).get('inspection_score').mean()"
   ]
  },
  {
   "cell_type": "code",
   "execution_count": null,
   "metadata": {},
   "outputs": [],
   "source": [
    "sample_means = np.array([])\n",
    "\n",
    "for i in np.arange(10000):\n",
    "    sample_mean = bakeries.sample(200, replace=True).get('inspection_score').mean()\n",
    "    sample_means = np.append(sample_means, sample_mean)"
   ]
  },
  {
   "cell_type": "markdown",
   "metadata": {},
   "source": [
    "## Distribution of the Sample Mean (aka, Sampling Distribution of Mean)"
   ]
  },
  {
   "cell_type": "code",
   "execution_count": null,
   "metadata": {
    "scrolled": true
   },
   "outputs": [],
   "source": [
    "bpd.DataFrame().assign(SampleMean=sample_means).plot(kind='hist', density=True)"
   ]
  },
  {
   "cell_type": "markdown",
   "metadata": {},
   "source": [
    "Is this a probability histogram or an empirical histogram?  \n",
    "A. probability histogram  \n",
    "B. empirical histogram  "
   ]
  },
  {
   "cell_type": "code",
   "execution_count": null,
   "metadata": {},
   "outputs": [],
   "source": [
    "np.mean(sample_means), np.std(sample_means)"
   ]
  },
  {
   "cell_type": "markdown",
   "metadata": {},
   "source": [
    "Based on this distribution, which of the following represents the standard deviation of inspection scores for all bakeries?\n",
    "\n",
    "A. `0.6`  \n",
    "B. `0.6/(200)**0.5`  \n",
    "C. `0.6*(200)**0.5`"
   ]
  },
  {
   "cell_type": "code",
   "execution_count": null,
   "metadata": {
    "scrolled": true
   },
   "outputs": [],
   "source": [
    "np.std(bakeries.get('inspection_score'))"
   ]
  },
  {
   "cell_type": "code",
   "execution_count": null,
   "metadata": {},
   "outputs": [],
   "source": []
  },
  {
   "cell_type": "markdown",
   "metadata": {},
   "source": [
    "### Sample: A random 200 bakeries"
   ]
  },
  {
   "cell_type": "code",
   "execution_count": null,
   "metadata": {
    "scrolled": false
   },
   "outputs": [],
   "source": [
    "one_sample = bakeries.sample(200, replace=True)\n",
    "one_sample.plot(kind='hist', y='inspection_score', density=True)"
   ]
  },
  {
   "cell_type": "code",
   "execution_count": null,
   "metadata": {},
   "outputs": [],
   "source": [
    "np.mean(one_sample.get('inspection_score').values), np.std(one_sample.get('inspection_score'))"
   ]
  },
  {
   "cell_type": "markdown",
   "metadata": {},
   "source": [
    "### Population: All bakeries in San Francisco with an inspection score"
   ]
  },
  {
   "cell_type": "code",
   "execution_count": null,
   "metadata": {
    "scrolled": true
   },
   "outputs": [],
   "source": [
    "bakeries.plot(kind='hist', y='inspection_score')"
   ]
  },
  {
   "cell_type": "code",
   "execution_count": null,
   "metadata": {
    "scrolled": true
   },
   "outputs": [],
   "source": [
    "np.mean(bakeries.get('inspection_score').values), np.std(bakeries.get('inspection_score'))"
   ]
  },
  {
   "cell_type": "markdown",
   "metadata": {},
   "source": [
    "### According to the Central Limit Theorem, the SD of the distribution of the sample mean"
   ]
  },
  {
   "cell_type": "code",
   "execution_count": null,
   "metadata": {},
   "outputs": [],
   "source": [
    "np.std(bakeries.get('inspection_score'))/np.sqrt(200) #if you don't have access to population SD, use sample SD"
   ]
  },
  {
   "cell_type": "code",
   "execution_count": null,
   "metadata": {},
   "outputs": [],
   "source": [
    "np.std(sample_means)"
   ]
  },
  {
   "cell_type": "code",
   "execution_count": null,
   "metadata": {},
   "outputs": [],
   "source": [
    "one_sample"
   ]
  },
  {
   "cell_type": "markdown",
   "metadata": {},
   "source": [
    "Based on my one sample of 200 bakeries, how can we estimate the median inspection score of all bakeries in San Francisco with an inspection score? What technique should we use?\n",
    "\n",
    "A. A/B testing  \n",
    "B. Standard hypothesis testing  \n",
    "C. Bootstrapping  \n",
    "D. Confidence intervals"
   ]
  },
  {
   "cell_type": "markdown",
   "metadata": {},
   "source": [
    "Can I use a normal confidence interval? Take the mean and stepping out 2 SDs in either direction to get 95% CI.  \n",
    "A.  Yes  \n",
    "B.  No  "
   ]
  },
  {
   "cell_type": "code",
   "execution_count": null,
   "metadata": {},
   "outputs": [],
   "source": [
    "one_sample"
   ]
  },
  {
   "cell_type": "code",
   "execution_count": null,
   "metadata": {},
   "outputs": [],
   "source": [
    "np.median(one_sample.get('inspection_score'))"
   ]
  },
  {
   "cell_type": "code",
   "execution_count": null,
   "metadata": {},
   "outputs": [],
   "source": [
    "resample_median = np.median(bakeries.sample(bakeries.shape[0], replace=True).get('inspection_score'))\n",
    "resample_median"
   ]
  },
  {
   "cell_type": "code",
   "execution_count": null,
   "metadata": {},
   "outputs": [],
   "source": [
    "boot_medians = np.array([])\n",
    "\n",
    "for i in np.arange(5000):\n",
    "    resample_median = np.median(bakeries.sample(bakeries.shape[0], replace=True).get('inspection_score'))\n",
    "    boot_medians = np.append(boot_medians,resample_median)"
   ]
  },
  {
   "cell_type": "code",
   "execution_count": null,
   "metadata": {},
   "outputs": [],
   "source": [
    "bpd.DataFrame().assign(BootstrappedMedians=boot_medians).plot(kind='hist', density=True)"
   ]
  },
  {
   "cell_type": "code",
   "execution_count": null,
   "metadata": {},
   "outputs": [],
   "source": [
    "np.percentile(boot_medians, 2.5)"
   ]
  },
  {
   "cell_type": "code",
   "execution_count": null,
   "metadata": {},
   "outputs": [],
   "source": [
    "np.percentile(boot_medians, 97.5)"
   ]
  },
  {
   "cell_type": "markdown",
   "metadata": {},
   "source": [
    "Which of the following interpretations of this confidence interval is valid?  \n",
    "\n",
    "1. 95% of SF bakeries have an inspection score between 84 and 86.  \n",
    "2. 95% of the resamples have a median inspection score between 84 and 86.  \n",
    "3. There is a 95% chance that our sample has a median inspection score between 84 and 86.  \n",
    "4. There is a 95% chance that the median inspecition score of all SF bakeries is between 84 and 86.  \n",
    "5.  If we had taken 100 samples from the same population, about 95 of these samples would have a median inspection score between 84 and 86.  \n",
    "6.  If we had taken 100 samples from the same population, about 95 of the confidence intervals created would contain the median inspection score of all SF bakeries.  "
   ]
  },
  {
   "cell_type": "markdown",
   "metadata": {},
   "source": [
    "## Histograms"
   ]
  },
  {
   "cell_type": "code",
   "execution_count": null,
   "metadata": {
    "scrolled": true
   },
   "outputs": [],
   "source": [
    "happy_donuts = restaurants[(restaurants.get('business_name').str.contains('Happy Donuts'))&(restaurants.get('inspection_score')>-1)]\n",
    "happy_donuts"
   ]
  },
  {
   "cell_type": "code",
   "execution_count": null,
   "metadata": {},
   "outputs": [],
   "source": [
    "happy_donuts.plot(kind='hist', y='inspection_score', density=True, bins=np.arange(70, 100, 4))                                           "
   ]
  },
  {
   "cell_type": "markdown",
   "metadata": {},
   "source": [
    "How many Happy Donut restaurants had an inspection score of at least 90?\n",
    "\n",
    "A. 3  \n",
    "B. 5  \n",
    "C. 8  \n",
    "D. 9  "
   ]
  },
  {
   "cell_type": "code",
   "execution_count": null,
   "metadata": {},
   "outputs": [],
   "source": []
  },
  {
   "cell_type": "code",
   "execution_count": null,
   "metadata": {},
   "outputs": [],
   "source": []
  },
  {
   "cell_type": "code",
   "execution_count": null,
   "metadata": {},
   "outputs": [],
   "source": []
  }
 ],
 "metadata": {
  "celltoolbar": "Slideshow",
  "kernelspec": {
   "display_name": "Python 3",
   "language": "python",
   "name": "python3"
  },
  "language_info": {
   "codemirror_mode": {
    "name": "ipython",
    "version": 3
   },
   "file_extension": ".py",
   "mimetype": "text/x-python",
   "name": "python",
   "nbconvert_exporter": "python",
   "pygments_lexer": "ipython3",
   "version": "3.6.8"
  },
  "livereveal": {
   "scroll": true,
   "transition": "none"
  }
 },
 "nbformat": 4,
 "nbformat_minor": 2
}
