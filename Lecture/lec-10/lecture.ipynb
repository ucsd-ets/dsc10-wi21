{
 "cells": [
  {
   "cell_type": "code",
   "execution_count": null,
   "metadata": {},
   "outputs": [],
   "source": [
    "#: imports!\n",
    "\n",
    "import numpy as np\n",
    "import babypandas as bpd\n",
    "\n",
    "import matplotlib.pyplot as plt\n",
    "plt.style.use('fivethirtyeight')\n",
    "%matplotlib inline"
   ]
  },
  {
   "cell_type": "markdown",
   "metadata": {
    "slideshow": {
     "slide_type": "slide"
    }
   },
   "source": [
    "# Lecture 10\n",
    "\n",
    "## Grouping with Subgroups, Merge"
   ]
  },
  {
   "cell_type": "markdown",
   "metadata": {
    "slideshow": {
     "slide_type": "slide"
    }
   },
   "source": [
    "## Prediction"
   ]
  },
  {
   "cell_type": "code",
   "execution_count": null,
   "metadata": {},
   "outputs": [],
   "source": [
    "galton = bpd.read_csv('data/galton.csv')\n",
    "galton = (\n",
    "    galton.assign(\n",
    "        midparent=galton.get('midparentHeight'),\n",
    "        child=galton.get('childHeight')\n",
    "    )\n",
    "    .drop(columns=['midparentHeight', 'childHeight'])\n",
    ")\n",
    "galton"
   ]
  },
  {
   "cell_type": "markdown",
   "metadata": {
    "slideshow": {
     "slide_type": "slide"
    }
   },
   "source": [
    "### Can we predict the height of a child, given the midparent height?\n",
    "\n",
    "* Given the midparent height, restrict to nearby examples in the dataset (within 0.5 in).\n",
    "* Take the average child height within these nearby examples.\n",
    "* This average is our guess!"
   ]
  },
  {
   "cell_type": "code",
   "execution_count": null,
   "metadata": {
    "slideshow": {
     "slide_type": "-"
    }
   },
   "outputs": [],
   "source": [
    "galton.plot(kind='scatter', x='midparent', y='child')\n",
    "_ = plt.plot([67.5, 67.5], [50, 85], color='red', lw=2)\n",
    "_ = plt.plot([68.5, 68.5], [50, 85], color='red', lw=2)\n",
    "_ = plt.scatter(68, 66.24, color='gold', s=40)"
   ]
  },
  {
   "cell_type": "markdown",
   "metadata": {
    "slideshow": {
     "slide_type": "slide"
    }
   },
   "source": [
    "### Can we predict the height of a child, given the midparent height?"
   ]
  },
  {
   "cell_type": "code",
   "execution_count": null,
   "metadata": {
    "slideshow": {
     "slide_type": "-"
    }
   },
   "outputs": [],
   "source": [
    "def predict_child(mp):\n",
    "    '''returns a childs predicted height, given the midparent height, mp.'''\n",
    "\n",
    "predict_child(68)"
   ]
  },
  {
   "cell_type": "markdown",
   "metadata": {
    "slideshow": {
     "slide_type": "slide"
    }
   },
   "source": [
    "### Can we predict the height of a child, given the midparent height?\n",
    "* Apply our function to all our examples\n",
    "* Create a new column called `prediction` and plot the output "
   ]
  },
  {
   "cell_type": "code",
   "execution_count": null,
   "metadata": {},
   "outputs": [],
   "source": [
    "predictions = galton.get('midparent').apply(predict_child)\n",
    "predictions"
   ]
  },
  {
   "cell_type": "code",
   "execution_count": null,
   "metadata": {},
   "outputs": [],
   "source": [
    "with_predictions = galton.assign(prediction=predictions)\n",
    "with_predictions"
   ]
  },
  {
   "cell_type": "code",
   "execution_count": null,
   "metadata": {
    "slideshow": {
     "slide_type": "slide"
    }
   },
   "outputs": [],
   "source": [
    "ax = with_predictions.plot(kind='scatter', x='midparent', y='child')\n",
    "with_predictions.plot(kind='scatter', x='midparent', y='prediction', ax=ax, color='C2')"
   ]
  },
  {
   "cell_type": "markdown",
   "metadata": {
    "slideshow": {
     "slide_type": "slide"
    }
   },
   "source": [
    "# Grouping with Subgroups"
   ]
  },
  {
   "cell_type": "markdown",
   "metadata": {
    "slideshow": {
     "slide_type": "slide"
    }
   },
   "source": [
    "## Our familiar NBA data..."
   ]
  },
  {
   "cell_type": "code",
   "execution_count": null,
   "metadata": {},
   "outputs": [],
   "source": [
    "#: read from csv and relabel\n",
    "nba = bpd.read_csv('data/nba_salaries.csv').set_index('PLAYER')\n",
    "nba = nba.assign(SALARY=nba.get(\"'15-'16 SALARY\")).drop(columns=\"'15-'16 SALARY\")\n",
    "nba"
   ]
  },
  {
   "cell_type": "markdown",
   "metadata": {
    "slideshow": {
     "slide_type": "slide"
    }
   },
   "source": [
    "## How big is each team?\n",
    "\n",
    "- We know how to do this: `.groupby()`.\n",
    "- **Notice**: team names become the row labels."
   ]
  },
  {
   "cell_type": "code",
   "execution_count": null,
   "metadata": {},
   "outputs": [],
   "source": []
  },
  {
   "cell_type": "markdown",
   "metadata": {
    "slideshow": {
     "slide_type": "slide"
    }
   },
   "source": [
    "## How much does each team pay in payroll?\n",
    "\n",
    "- Instead of counting, we want to sum the `SALARY` column."
   ]
  },
  {
   "cell_type": "code",
   "execution_count": null,
   "metadata": {},
   "outputs": [],
   "source": []
  },
  {
   "cell_type": "markdown",
   "metadata": {
    "slideshow": {
     "slide_type": "slide"
    }
   },
   "source": [
    "## How many of each position does each team have?\n",
    "\n",
    "- We want to count...\n",
    "    - but sizes of groups within groups.\n",
    "- i.e., sizes of position groups within team groups."
   ]
  },
  {
   "cell_type": "code",
   "execution_count": null,
   "metadata": {},
   "outputs": [],
   "source": []
  },
  {
   "cell_type": "markdown",
   "metadata": {
    "slideshow": {
     "slide_type": "slide"
    }
   },
   "source": [
    "## `.groupby()` with subgroups\n",
    "\n",
    "- To make groups within groups (within groups, etc.)...\n",
    "- Pass a list of column names to `.groupby()`:\n",
    "\n",
    "```\n",
    "table.groupby([col_1, col_2, col_3])\n",
    "```\n",
    "- Groups by `col_1` first.\n",
    "- Within each group, groups by `col_2`.\n",
    "- And so on."
   ]
  },
  {
   "cell_type": "markdown",
   "metadata": {
    "slideshow": {
     "slide_type": "slide"
    }
   },
   "source": [
    "## Notice the index...\n",
    "\n",
    "- This is called a \"[MultiIndex](https://pandas.pydata.org/pandas-docs/stable/user_guide/advanced.html)\"\n",
    "- We won't worry about those...\n",
    "- Use `.reset_index()` to move index back to columns."
   ]
  },
  {
   "cell_type": "code",
   "execution_count": null,
   "metadata": {
    "scrolled": true
   },
   "outputs": [],
   "source": [
    "nba.groupby(['TEAM', 'POSITION']).count()"
   ]
  },
  {
   "cell_type": "markdown",
   "metadata": {
    "slideshow": {
     "slide_type": "slide"
    }
   },
   "source": [
    "## Does order matter?"
   ]
  },
  {
   "cell_type": "code",
   "execution_count": null,
   "metadata": {
    "scrolled": true
   },
   "outputs": [],
   "source": [
    "nba.groupby(['POSITION', 'TEAM']).count()"
   ]
  },
  {
   "cell_type": "markdown",
   "metadata": {
    "slideshow": {
     "slide_type": "slide"
    }
   },
   "source": [
    "## Which team has the most centers?"
   ]
  },
  {
   "cell_type": "code",
   "execution_count": null,
   "metadata": {},
   "outputs": [],
   "source": [
    "position_counts = ...\n",
    "position_counts"
   ]
  },
  {
   "cell_type": "code",
   "execution_count": null,
   "metadata": {},
   "outputs": [],
   "source": [
    "# select only the centers\n"
   ]
  },
  {
   "cell_type": "markdown",
   "metadata": {
    "slideshow": {
     "slide_type": "slide"
    }
   },
   "source": [
    "## Example: Sea Temperatures\n",
    "\n",
    "- The sea surface temperature in La Jolla, every day from August 22, 1916 to May 31, 2019"
   ]
  },
  {
   "cell_type": "code",
   "execution_count": null,
   "metadata": {},
   "outputs": [],
   "source": [
    "sea_temp = bpd.read_csv('data/sea_temp.csv')\n",
    "sea_temp"
   ]
  },
  {
   "cell_type": "markdown",
   "metadata": {
    "slideshow": {
     "slide_type": "slide"
    }
   },
   "source": [
    "## Discussion question: Which month had the highest average temperature?\n",
    "\n",
    "What kind of grouping should we do here?\n",
    "\n",
    "- A) `sea_temp.groupby(['SURFACE_TEMP'])`\n",
    "- B) `sea_temp.groupby(['MONTH'])`\n",
    "- C) `sea_temp.groupby(['YEAR', 'MONTH'])`\n",
    "- D) `sea_temp.groupby(['MONTH', 'DAY'])`\n",
    "- E) `sea_temp.groupby(['MONTH', 'SURFACE_TEMP'])`\n"
   ]
  },
  {
   "cell_type": "code",
   "execution_count": null,
   "metadata": {},
   "outputs": [],
   "source": [
    "# define table `hottest` using `sea_temp`, in descending order by temp\n",
    "\n",
    "hottest = (\n",
    "    sea_temp\n",
    "    .groupby(['YEAR', 'MONTH'])\n",
    "    .mean()\n",
    "    .reset_index()\n",
    "    .sort_values('SURFACE_TEMP', ascending=False)\n",
    ")\n",
    "\n",
    "hottest"
   ]
  },
  {
   "cell_type": "code",
   "execution_count": null,
   "metadata": {},
   "outputs": [],
   "source": [
    "hottest.get('YEAR').iloc[0]"
   ]
  },
  {
   "cell_type": "code",
   "execution_count": null,
   "metadata": {},
   "outputs": [],
   "source": [
    "hottest.get('MONTH').iloc[0]"
   ]
  },
  {
   "cell_type": "markdown",
   "metadata": {
    "slideshow": {
     "slide_type": "slide"
    }
   },
   "source": [
    "## Bonus Plot\n",
    "\n",
    "- Yearly average surface temperature"
   ]
  },
  {
   "cell_type": "code",
   "execution_count": null,
   "metadata": {},
   "outputs": [],
   "source": [
    "sea_temp.groupby(['YEAR']).mean().plot(y='SURFACE_TEMP') #why not group by ['YEAR', 'MONTH']?"
   ]
  },
  {
   "cell_type": "markdown",
   "metadata": {
    "slideshow": {
     "slide_type": "slide"
    }
   },
   "source": [
    "## Summary: `.groupby`\n",
    "\n",
    "- Pass a list of columns to make subgroups.\n",
    "- *Always* use `.reset_index()` after to move index to columns."
   ]
  },
  {
   "cell_type": "markdown",
   "metadata": {
    "slideshow": {
     "slide_type": "slide"
    }
   },
   "source": [
    "# Merge\n",
    "\n",
    "Combining columns from two different tables"
   ]
  },
  {
   "cell_type": "markdown",
   "metadata": {
    "slideshow": {
     "slide_type": "slide"
    }
   },
   "source": [
    "## Example"
   ]
  },
  {
   "cell_type": "code",
   "execution_count": null,
   "metadata": {},
   "outputs": [],
   "source": [
    "products = bpd.DataFrame().assign(\n",
    "    Location=['Cups', 'Cups', 'Cups', 'Art of Espresso', 'Art of Espresso', 'Perks', 'Perks'],\n",
    "    Product=['Green Tea', 'Latte', 'Drip Coffee', 'Espresso', 'Latte', 'Drip Coffee', 'Green Tea'],\n",
    "    Price=[1.25, 2.50, 1.00, 2.00, 3.00, 1.25, 1.50]\n",
    ")\n",
    "products"
   ]
  },
  {
   "cell_type": "markdown",
   "metadata": {
    "slideshow": {
     "slide_type": "slide"
    }
   },
   "source": [
    "## Example"
   ]
  },
  {
   "cell_type": "code",
   "execution_count": null,
   "metadata": {},
   "outputs": [],
   "source": [
    "coupons = bpd.DataFrame().assign(\n",
    "    Location=['Cups', 'Art of Espresso'],\n",
    "    Discount=[.25, .10]\n",
    ")\n",
    "coupons"
   ]
  },
  {
   "cell_type": "markdown",
   "metadata": {
    "slideshow": {
     "slide_type": "slide"
    }
   },
   "source": [
    "## How do we calculate discounted price of each product?\n",
    "\n",
    "- Idea: \"cross-reference\" tables.\n",
    "- I.e., for each row in `products`, find discount in `coupons` for that row's `Location`.\n",
    "- This is what `.merge()` does:"
   ]
  },
  {
   "cell_type": "code",
   "execution_count": null,
   "metadata": {},
   "outputs": [],
   "source": [
    "with_discounts = products.merge(coupons, left_on='Location', right_on='Location')\n",
    "with_discounts"
   ]
  },
  {
   "cell_type": "code",
   "execution_count": null,
   "metadata": {},
   "outputs": [],
   "source": [
    "with_discounts.assign(\n",
    "    DiscountedPrice=with_discounts.get('Price') *(1 - with_discounts.get('Discount'))\n",
    ")"
   ]
  },
  {
   "cell_type": "markdown",
   "metadata": {
    "slideshow": {
     "slide_type": "slide"
    }
   },
   "source": [
    "## Merging\n",
    "\n",
    "- Pick a \"left\" table and a \"right\" table.\n",
    "- Choose a column from each to \"merge on\"."
   ]
  },
  {
   "cell_type": "markdown",
   "metadata": {},
   "source": [
    "<img src=\"data/merge.png\" />"
   ]
  },
  {
   "cell_type": "markdown",
   "metadata": {
    "slideshow": {
     "slide_type": "slide"
    }
   },
   "source": [
    "## `.merge()` method\n",
    "\n",
    "```python\n",
    "left_table.merge(\n",
    "    right_table, \n",
    "    left_on=left_column_name,\n",
    "    right_on=right_column_name\n",
    ")\n",
    "```\n",
    "- `left_on` and `right_on` should be column names (don't have to be the same)\n",
    "- One row for every match\n",
    "- Deletes rows that don't match!"
   ]
  },
  {
   "cell_type": "markdown",
   "metadata": {
    "slideshow": {
     "slide_type": "slide"
    }
   },
   "source": [
    "## What if column names don't match?"
   ]
  },
  {
   "cell_type": "code",
   "execution_count": null,
   "metadata": {},
   "outputs": [],
   "source": [
    "cafes = coupons.assign(\n",
    "    Cafe=coupons.get('Location')\n",
    ").drop(columns='Location')\n",
    "cafes"
   ]
  },
  {
   "cell_type": "code",
   "execution_count": null,
   "metadata": {},
   "outputs": [],
   "source": [
    "products.merge(cafes, left_on='Location', right_on='Cafe')"
   ]
  },
  {
   "cell_type": "markdown",
   "metadata": {
    "slideshow": {
     "slide_type": "slide"
    }
   },
   "source": [
    "## Does order matter?"
   ]
  },
  {
   "cell_type": "code",
   "execution_count": null,
   "metadata": {},
   "outputs": [],
   "source": [
    "cafes.merge(products, left_on=\"Cafe\", right_on='Location')"
   ]
  },
  {
   "cell_type": "markdown",
   "metadata": {
    "slideshow": {
     "slide_type": "slide"
    }
   },
   "source": [
    "## What if we want to \"merge on\" an index?\n",
    "\n",
    "- Instead of using `left_on` or `right_on`, use `left_index=True` or `right_index=True`"
   ]
  },
  {
   "cell_type": "code",
   "execution_count": null,
   "metadata": {},
   "outputs": [],
   "source": [
    "coupons_by_location = coupons.set_index('Location')\n",
    "coupons_by_location"
   ]
  },
  {
   "cell_type": "code",
   "execution_count": null,
   "metadata": {},
   "outputs": [],
   "source": [
    "products.merge(\n",
    "    coupons_by_location, \n",
    "    left_on='Location', \n",
    "    right_index=True\n",
    ")"
   ]
  }
 ],
 "metadata": {
  "celltoolbar": "Slideshow",
  "kernelspec": {
   "display_name": "Python 3",
   "language": "python",
   "name": "python3"
  },
  "language_info": {
   "codemirror_mode": {
    "name": "ipython",
    "version": 3
   },
   "file_extension": ".py",
   "mimetype": "text/x-python",
   "name": "python",
   "nbconvert_exporter": "python",
   "pygments_lexer": "ipython3",
   "version": "3.6.8"
  },
  "livereveal": {
   "scroll": true,
   "transition": "none"
  }
 },
 "nbformat": 4,
 "nbformat_minor": 2
}
