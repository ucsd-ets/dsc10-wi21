{
 "cells": [
  {
   "cell_type": "code",
   "execution_count": null,
   "metadata": {},
   "outputs": [],
   "source": [
    "#: the usual imports\n",
    "import babypandas as bpd\n",
    "import numpy as np\n",
    "\n",
    "%matplotlib inline\n",
    "import matplotlib.pyplot as plt\n",
    "import warnings; warnings.simplefilter('ignore')\n",
    "\n",
    "def normal_curve(x, mu=0, sigma=1):\n",
    "    return 1 / np.sqrt(2*np.pi) * np.exp(-(x - mu)**2/(2 * sigma**2))\n",
    "\n",
    "def plot_sample_mean(sample_size):\n",
    "    sample = flights.sample(sample_size).get('Delay')\n",
    "\n",
    "    fig, ax1 = plt.subplots()\n",
    "    plt.xlim([-10, 80])\n",
    "    plt.grid('off')\n",
    "    ax1.hist(sample, density=True, bins=np.arange(0, 200, 5), label='Sample')\n",
    "    ax2 = ax1.twinx()\n",
    "    plot_clt_curve(sample_size)\n",
    "    ax1.set_ylim([-.0, .055])\n",
    "    ax2.set_ylim([-.01, .5])\n",
    "\n",
    "    plt.scatter(sample.mean(), 0, marker='^', color='C1', s=200, label='Sample Mean')\n",
    "    plt.legend(loc='upper right')\n",
    "\n",
    "plt.style.use('fivethirtyeight')"
   ]
  },
  {
   "cell_type": "markdown",
   "metadata": {
    "slideshow": {
     "slide_type": "slide"
    }
   },
   "source": [
    "# Lecture 23\n",
    "\n",
    "## Central Limit Theorem and Normal Confidence Intervals"
   ]
  },
  {
   "cell_type": "markdown",
   "metadata": {
    "slideshow": {
     "slide_type": "slide"
    }
   },
   "source": [
    "## The Central Limit Theorem\n",
    "\n",
    "> The distribution of sums (and averages) of large random samples (w/ replacement) are roughly normal, regardless of the distribution of the population from which the sample was drawn."
   ]
  },
  {
   "cell_type": "markdown",
   "metadata": {
    "slideshow": {
     "slide_type": "slide"
    }
   },
   "source": [
    "## Example: Scratch-off lottery tickets\n",
    "\n",
    "- Table below shows the odds of each prize amount for a lottery ticket"
   ]
  },
  {
   "cell_type": "code",
   "execution_count": null,
   "metadata": {},
   "outputs": [],
   "source": [
    "lottery = bpd.DataFrame().assign(\n",
    "    Prize=[0, 1, 5, 20, 50],\n",
    "    Odds=[.4, .3, .2, .05, .05]\n",
    ")\n",
    "lottery"
   ]
  },
  {
   "cell_type": "markdown",
   "metadata": {
    "slideshow": {
     "slide_type": "slide"
    }
   },
   "source": [
    "## Calculate Gain or Loss\n",
    "\n",
    "- Each ticket costs $5; subtract from Prize\n",
    "- Very non-normal distribution"
   ]
  },
  {
   "cell_type": "code",
   "execution_count": null,
   "metadata": {},
   "outputs": [],
   "source": [
    "payout = lottery.assign(GainLoss=lottery.get('Prize') - 5)\n",
    "payout"
   ]
  },
  {
   "cell_type": "markdown",
   "metadata": {
    "slideshow": {
     "slide_type": "slide"
    }
   },
   "source": [
    "## Simulating one lottery ticket\n",
    "\n",
    "- Choose a payout according to odds.\n",
    "- `np.random.choice` accepts an array of probabilities."
   ]
  },
  {
   "cell_type": "code",
   "execution_count": null,
   "metadata": {},
   "outputs": [],
   "source": [
    "# randomly choose a payout according to odds\n",
    "np.random.choice(payout.get('GainLoss'), p=payout.get('Odds'))"
   ]
  },
  {
   "cell_type": "markdown",
   "metadata": {
    "slideshow": {
     "slide_type": "slide"
    }
   },
   "source": [
    "## Simulating 100 tickets\n",
    "\n",
    "- How much do you win/lose after buying 100 tickets?"
   ]
  },
  {
   "cell_type": "code",
   "execution_count": null,
   "metadata": {},
   "outputs": [],
   "source": [
    "gl = np.array(payout.get('GainLoss'))\n",
    "odds = np.array(payout.get('Odds'))\n",
    "\n",
    "def buy_k_tickets(k):\n",
    "    winnings = np.array([])\n",
    "\n",
    "    for i in np.arange(k):\n",
    "        won = np.random.choice(gl, p = odds)\n",
    "        winnings = np.append(winnings, won)\n",
    "        \n",
    "    return winnings"
   ]
  },
  {
   "cell_type": "code",
   "execution_count": null,
   "metadata": {},
   "outputs": [],
   "source": [
    "buy_k_tickets(100).sum()"
   ]
  },
  {
   "cell_type": "markdown",
   "metadata": {
    "slideshow": {
     "slide_type": "slide"
    }
   },
   "source": [
    "## Repeating the experiment\n",
    "\n",
    "- After purchasing 100 tickets, your total winnings are a number.\n",
    "- But it could have been different...\n",
    "- Total winnings come from some distribution.\n",
    "- We can approximate it through simulation."
   ]
  },
  {
   "cell_type": "markdown",
   "metadata": {
    "slideshow": {
     "slide_type": "slide"
    }
   },
   "source": [
    "## Repeating the experiment"
   ]
  },
  {
   "cell_type": "code",
   "execution_count": null,
   "metadata": {
    "slideshow": {
     "slide_type": "-"
    }
   },
   "outputs": [],
   "source": [
    "distribution = np.array([])\n",
    "n_repetitions = 1000\n",
    "\n",
    "for i in np.arange(n_repetitions):\n",
    "    winnings = buy_k_tickets(100).sum()\n",
    "    distribution = np.append(distribution, winnings)"
   ]
  },
  {
   "cell_type": "markdown",
   "metadata": {
    "slideshow": {
     "slide_type": "slide"
    }
   },
   "source": [
    "## Visualizing"
   ]
  },
  {
   "cell_type": "code",
   "execution_count": null,
   "metadata": {
    "slideshow": {
     "slide_type": ""
    }
   },
   "outputs": [],
   "source": [
    "#: does it look normal?\n",
    "bpd.DataFrame().assign(TotalWinnings=distribution).plot(kind='hist', density=True)"
   ]
  },
  {
   "cell_type": "markdown",
   "metadata": {},
   "source": [
    "## Discussion question\n",
    "\n",
    "Is the shape of this distribution explained by the Central Limit Theorem?\n",
    "\n",
    "- A) Yes, because it is the distribution of a sample mean.\n",
    "- B) Yes, because it is the distribution of a sample sum.\n",
    "- C) No, because it is the distribution of money won.\n",
    "- D) No, because we're not sampling from a population."
   ]
  },
  {
   "cell_type": "markdown",
   "metadata": {
    "slideshow": {
     "slide_type": "slide"
    }
   },
   "source": [
    "## Discussion question\n",
    "\n",
    "How will the distribution change if the experiment were repeated, but with 400 tickets instead of 100?\n",
    "\n",
    "- A) It will get narrower.\n",
    "- B) It will get wider.\n",
    "- C) It will stay the same.\n",
    "- D) It will turn red."
   ]
  },
  {
   "cell_type": "markdown",
   "metadata": {
    "slideshow": {
     "slide_type": "slide"
    }
   },
   "source": [
    "## Answer"
   ]
  },
  {
   "cell_type": "code",
   "execution_count": null,
   "metadata": {
    "slideshow": {
     "slide_type": ""
    }
   },
   "outputs": [],
   "source": [
    "distribution_400 = np.array([])\n",
    "n_repetitions = 1000\n",
    "\n",
    "for i in np.arange(n_repetitions):\n",
    "    winnings = buy_k_tickets(400).sum()\n",
    "    distribution_400 = np.append(distribution_400, winnings)"
   ]
  },
  {
   "cell_type": "markdown",
   "metadata": {
    "slideshow": {
     "slide_type": "slide"
    }
   },
   "source": [
    "## Answer"
   ]
  },
  {
   "cell_type": "code",
   "execution_count": null,
   "metadata": {
    "scrolled": true
   },
   "outputs": [],
   "source": [
    "#: does it look normal?\n",
    "bins = np.arange(-800, 800, 50)\n",
    "plt.hist(distribution_400, color='C1', bins=bins, density=True, label='400');\n",
    "plt.hist(distribution, bins=bins, density=True, alpha=.75, label='100');\n",
    "plt.legend()"
   ]
  },
  {
   "cell_type": "markdown",
   "metadata": {
    "slideshow": {
     "slide_type": "slide"
    }
   },
   "source": [
    "## Example: flight delays"
   ]
  },
  {
   "cell_type": "code",
   "execution_count": null,
   "metadata": {
    "scrolled": true
   },
   "outputs": [],
   "source": [
    "# the population\n",
    "flights = bpd.read_csv('./data/united_summer2015.csv').get(['Delay'])\n",
    "flights.plot(kind='hist', y='Delay', bins=np.arange(0, 200, 10), density=True)"
   ]
  },
  {
   "cell_type": "code",
   "execution_count": null,
   "metadata": {},
   "outputs": [],
   "source": [
    "pop_mean = flights.get('Delay').mean()\n",
    "pop_mean"
   ]
  },
  {
   "cell_type": "code",
   "execution_count": null,
   "metadata": {},
   "outputs": [],
   "source": [
    "n_samples = 1000\n",
    "\n",
    "sample_means = np.array([])\n",
    "\n",
    "for i in np.arange(n_samples):\n",
    "    sample = flights.sample(2000, replace=True)\n",
    "    sample_mean = sample.get('Delay').mean()\n",
    "    sample_means = np.append(sample_means, sample_mean)\n",
    "    \n",
    "bpd.DataFrame().assign(SampleMeans=sample_means).plot(kind='hist', bins=15, density=True)\n",
    "plt.xlabel('Sample Mean Delay')\n",
    "plt.axvline(pop_mean, color='lime')"
   ]
  },
  {
   "cell_type": "markdown",
   "metadata": {
    "slideshow": {
     "slide_type": "slide"
    }
   },
   "source": [
    "## The shape of the distribution\n",
    "\n",
    "- CLT: Sums and averages of random samples are roughly normal.\n",
    "- Centered at population mean.\n",
    "- What is the spread of the distribution?"
   ]
  },
  {
   "cell_type": "code",
   "execution_count": null,
   "metadata": {
    "slideshow": {
     "slide_type": "slide"
    }
   },
   "outputs": [],
   "source": [
    "#: draw `sample_size` flights, compute mean, `n_samples` times\n",
    "def sample_mean_delays(sample_size, n_samples=2000):\n",
    "    sample_means = np.array([])\n",
    "    for i in np.arange(n_samples):\n",
    "        sample = flights.sample(sample_size)\n",
    "        sample_mean = sample.get('Delay').mean()\n",
    "        sample_means = np.append(sample_means, sample_mean)\n",
    "    return sample_means"
   ]
  },
  {
   "cell_type": "code",
   "execution_count": null,
   "metadata": {
    "slideshow": {
     "slide_type": "slide"
    }
   },
   "outputs": [],
   "source": [
    "#: repeat the experiment for various sample sizes\n",
    "sample_means = {}\n",
    "sample_sizes = [100, 200, 400, 800, 1600]\n",
    "\n",
    "for size in sample_sizes:\n",
    "    sample_means[size] = sample_mean_delays(size)"
   ]
  },
  {
   "cell_type": "code",
   "execution_count": null,
   "metadata": {
    "slideshow": {
     "slide_type": "slide"
    }
   },
   "outputs": [],
   "source": [
    "#: plot the distributions\n",
    "bins = np.arange(5, 30)\n",
    "for size in sample_sizes:\n",
    "    columns = {f'Sample Mean, \\nsize = {size}': sample_means[size]}\n",
    "    bpd.DataFrame().assign(**columns).plot(kind='hist', bins=bins)"
   ]
  },
  {
   "cell_type": "code",
   "execution_count": null,
   "metadata": {
    "slideshow": {
     "slide_type": "slide"
    }
   },
   "outputs": [],
   "source": [
    "#: compute standard deviation of each distribution\n",
    "sds = []\n",
    "for size in sample_sizes:\n",
    "    sd = np.std(sample_means[size])\n",
    "    sds.append(sd)"
   ]
  },
  {
   "cell_type": "code",
   "execution_count": null,
   "metadata": {
    "slideshow": {
     "slide_type": "slide"
    }
   },
   "outputs": [],
   "source": [
    "#: plot trend\n",
    "observed = bpd.DataFrame().assign(\n",
    "    SampleSize=sample_sizes,\n",
    "    StandardDeviation=sds\n",
    ")\n",
    "\n",
    "observed.plot(kind='scatter', x='SampleSize', y='StandardDeviation', s=70)"
   ]
  },
  {
   "cell_type": "markdown",
   "metadata": {
    "slideshow": {
     "slide_type": "slide"
    }
   },
   "source": [
    "## CLT for the sample mean\n",
    "\n",
    "- Sample mean of random samples is distributed normally.\n",
    "- Centered at population mean.\n",
    "- Standard deviation is:\n",
    "$$\n",
    "    \\frac{\n",
    "        \\text{population standard dev.}\n",
    "    }{\n",
    "        \\sqrt{\\text{sample size}}\n",
    "    }\n",
    "$$"
   ]
  },
  {
   "cell_type": "code",
   "execution_count": null,
   "metadata": {
    "slideshow": {
     "slide_type": "slide"
    }
   },
   "outputs": [],
   "source": [
    "#: clt's prediction\n",
    "def clt_standard_deviation(n):\n",
    "    sigma = np.std(flights.get('Delay'))\n",
    "    return sigma / np.sqrt(n)"
   ]
  },
  {
   "cell_type": "code",
   "execution_count": null,
   "metadata": {
    "slideshow": {
     "slide_type": "slide"
    }
   },
   "outputs": [],
   "source": [
    "#: plot prediction and observed\n",
    "observed.plot(kind='scatter', x='SampleSize', y='StandardDeviation', s=70, zorder=10)\n",
    "x = np.linspace(100, 1600)\n",
    "y = clt_standard_deviation(x)\n",
    "plt.plot(x, y, color='C1')"
   ]
  },
  {
   "cell_type": "markdown",
   "metadata": {
    "slideshow": {
     "slide_type": "slide"
    }
   },
   "source": [
    "## Recap: The Central Limit Theorem\n",
    "\n",
    "Suppose we draw a sample of 500 flights and find the mean flight delay.\n",
    "\n",
    "Three distributions are involved:\n",
    "\n",
    "- The population (we don't see this)\n",
    "- The sample (we see this)\n",
    "- Distribution of the sample mean (we don't see this directly)\n",
    "    - a.k.a, sampling distribution of mean\n",
    "    - a.k.a, empirical distribution of sample mean"
   ]
  },
  {
   "cell_type": "markdown",
   "metadata": {
    "slideshow": {
     "slide_type": "slide"
    }
   },
   "source": [
    "## The population (we don't see this)"
   ]
  },
  {
   "cell_type": "code",
   "execution_count": null,
   "metadata": {},
   "outputs": [],
   "source": [
    "#:\n",
    "flights = bpd.read_csv('./data/united_summer2015.csv').get(['Delay'])\n",
    "flights.plot(kind='hist', y='Delay', bins=30, density=True)"
   ]
  },
  {
   "cell_type": "markdown",
   "metadata": {
    "slideshow": {
     "slide_type": "slide"
    }
   },
   "source": [
    "## The population\n",
    "\n",
    "- We don't see:\n",
    "    - the population distribution,\n",
    "    - the population mean (fixed!),\n",
    "    - the population standard deviation (fixed!)."
   ]
  },
  {
   "cell_type": "markdown",
   "metadata": {
    "slideshow": {
     "slide_type": "slide"
    }
   },
   "source": [
    "## The sample"
   ]
  },
  {
   "cell_type": "code",
   "execution_count": null,
   "metadata": {},
   "outputs": [],
   "source": [
    "#:\n",
    "flights.sample(200).plot(kind='hist', y='Delay', bins=30, density=True)"
   ]
  },
  {
   "cell_type": "markdown",
   "metadata": {
    "slideshow": {
     "slide_type": "slide"
    }
   },
   "source": [
    "## The sample\n",
    "\n",
    "- We *do* see (or can calculate):\n",
    "    - the sample itself (random!),\n",
    "    - the sample's mean (random!),\n",
    "    - the sample's standard deviation (random!)."
   ]
  },
  {
   "cell_type": "markdown",
   "metadata": {
    "slideshow": {
     "slide_type": "slide"
    }
   },
   "source": [
    "## CLT: Distribution of Sample Mean\n",
    "\n",
    "- The sample mean is distributed normally.\n",
    "- Centered at population mean (fixed, unobserved).\n",
    "- Standard deviation (fixed, unobserved):\n",
    "$$\n",
    "    \\frac{\n",
    "        \\text{population standard dev.}\n",
    "    }{\n",
    "        \\sqrt{\\text{sample size}}\n",
    "    }\n",
    "$$"
   ]
  },
  {
   "cell_type": "markdown",
   "metadata": {
    "slideshow": {
     "slide_type": "slide"
    }
   },
   "source": [
    "## The Central Limit Theorem"
   ]
  },
  {
   "cell_type": "code",
   "execution_count": null,
   "metadata": {},
   "outputs": [],
   "source": [
    "#:\n",
    "population_mean = flights.get('Delay').mean()\n",
    "population_sd = np.std(flights.get('Delay'))\n",
    "\n",
    "def plot_clt_curve(sample_size):\n",
    "    x = np.linspace(-10, 100, 1000)\n",
    "    y = normal_curve(x, population_mean, population_sd / np.sqrt(sample_size))\n",
    "    plt.plot(x, y, color='black')\n",
    "    \n",
    "plot_clt_curve(200)"
   ]
  },
  {
   "cell_type": "markdown",
   "metadata": {
    "slideshow": {
     "slide_type": "slide"
    }
   },
   "source": [
    "## The Central Limit Theorem"
   ]
  },
  {
   "cell_type": "code",
   "execution_count": null,
   "metadata": {
    "scrolled": false
   },
   "outputs": [],
   "source": [
    "sample_size = 50\n",
    "\n",
    "for i in range(10):\n",
    "    plot_sample_mean(sample_size)"
   ]
  },
  {
   "cell_type": "markdown",
   "metadata": {
    "slideshow": {
     "slide_type": "slide"
    }
   },
   "source": [
    "# Normal Confidence Intervals"
   ]
  },
  {
   "cell_type": "markdown",
   "metadata": {
    "slideshow": {
     "slide_type": "slide"
    }
   },
   "source": [
    "## Normal confidence intervals\n",
    "\n",
    "- We used bootstrapping to construct confidence intervals.\n",
    "- But we can often use the CLT.\n",
    "    - Computationally cheaper!"
   ]
  },
  {
   "cell_type": "markdown",
   "metadata": {
    "slideshow": {
     "slide_type": "slide"
    }
   },
   "source": [
    "## Run the bootstrap"
   ]
  },
  {
   "cell_type": "code",
   "execution_count": null,
   "metadata": {
    "slideshow": {
     "slide_type": "-"
    }
   },
   "outputs": [],
   "source": [
    "#: run the bootstrap for sample mean of flight delays\n",
    "n_boot = 5000\n",
    "np.random.seed(4)\n",
    "sample = flights.sample(400)\n",
    "boot_means = np.array([])\n",
    "\n",
    "for i in np.arange(n_boot):\n",
    "    resample = sample.sample(sample.shape[0], replace=True)\n",
    "    boot_mean = resample.get('Delay').mean()\n",
    "    boot_means = np.append(boot_means, boot_mean)"
   ]
  },
  {
   "cell_type": "markdown",
   "metadata": {
    "slideshow": {
     "slide_type": "slide"
    }
   },
   "source": [
    "## Visualize the bootstrap"
   ]
  },
  {
   "cell_type": "code",
   "execution_count": null,
   "metadata": {},
   "outputs": [],
   "source": [
    "#: visualize\n",
    "bpd.DataFrame().assign(BootMeans=boot_means).plot(kind='hist', y='BootMeans', bins=30, density=True)"
   ]
  },
  {
   "cell_type": "markdown",
   "metadata": {
    "slideshow": {
     "slide_type": "slide"
    }
   },
   "source": [
    "## Construct 95% confidence interval"
   ]
  },
  {
   "cell_type": "code",
   "execution_count": null,
   "metadata": {},
   "outputs": [],
   "source": [
    "#: construct confidence interval\n",
    "left_boot = np.percentile(boot_means, 2.5)\n",
    "right_boot = np.percentile(boot_means, 97.5)\n",
    "[left_boot, right_boot]"
   ]
  },
  {
   "cell_type": "code",
   "execution_count": null,
   "metadata": {},
   "outputs": [],
   "source": [
    "bpd.DataFrame().assign(BootMeans=boot_means).plot(kind='hist', y='BootMeans', bins=30, density=True)\n",
    "plt.plot([left_boot, right_boot], [0, 0], color='lime', linewidth=10);"
   ]
  },
  {
   "cell_type": "markdown",
   "metadata": {
    "slideshow": {
     "slide_type": "slide"
    }
   },
   "source": [
    "## What did the bootstrap give us?\n",
    "\n",
    "- We use bootstrap to approximate distribution of sample mean.\n",
    "- But CLT tells us it is approximately normal!\n",
    "- We can use the CLT directly to construct CIs."
   ]
  },
  {
   "cell_type": "markdown",
   "metadata": {
    "slideshow": {
     "slide_type": "slide"
    }
   },
   "source": [
    "## Normal confidence intervals\n",
    "\n",
    "- Draw a normal curve centered at the sample mean\n",
    "- CLT tells us SD is\n",
    "$$\n",
    "    \\frac{\n",
    "        \\text{population standard dev.}\n",
    "    }{\n",
    "        \\sqrt{\\text{sample size}}\n",
    "    }\n",
    "$$\n",
    "- Don't know population SD. Instead, use sample SD:\n",
    "$$\n",
    "    \\frac{\n",
    "        \\text{sample standard dev.}\n",
    "    }{\n",
    "        \\sqrt{\\text{sample size}}\n",
    "    }\n",
    "$$"
   ]
  },
  {
   "cell_type": "markdown",
   "metadata": {
    "slideshow": {
     "slide_type": "slide"
    }
   },
   "source": [
    "## The normal curve"
   ]
  },
  {
   "cell_type": "code",
   "execution_count": null,
   "metadata": {
    "slideshow": {
     "slide_type": ""
    }
   },
   "outputs": [],
   "source": [
    "#: draw the normal curve\n",
    "from scipy import stats\n",
    "np.random.seed(4)\n",
    "sample = flights.sample(400).get('Delay')\n",
    "x = np.linspace(sample.mean() - 3*np.std(sample)/20, sample.mean() + 3*np.std(sample)/20, 1000)\n",
    "y = stats.norm.pdf(x, sample.mean(), np.std(sample)/20)\n",
    "plt.plot(x, y, color='black', linestyle='--')\n",
    "plt.scatter(sample.mean(), 0, marker='^', color='C1', s=80, label='Sample mean')\n",
    "plt.legend(loc='upper right')\n",
    "plt.hist(boot_means, density=True, bins=30)"
   ]
  },
  {
   "cell_type": "markdown",
   "metadata": {
    "slideshow": {
     "slide_type": "slide"
    }
   },
   "source": [
    "## Computing the confidence interval\n",
    "\n",
    "- Recall: $\\approx$ 95% of normal curve's area falls within $\\pm$ 2 SDs of mean\n",
    "- Don't confuse sample SD with SD of sample mean! (divide by $\\sqrt{n}$)"
   ]
  },
  {
   "cell_type": "code",
   "execution_count": null,
   "metadata": {},
   "outputs": [],
   "source": [
    "#: compute confidence interval\n",
    "left_normal = sample.mean() - 2*np.std(sample) / np.sqrt(400)\n",
    "right_normal = sample.mean() + 2*np.std(sample) / np.sqrt(400)\n",
    "[left_normal, right_normal]"
   ]
  },
  {
   "cell_type": "markdown",
   "metadata": {
    "slideshow": {
     "slide_type": "slide"
    }
   },
   "source": [
    "## Visualize the confidence interval"
   ]
  },
  {
   "cell_type": "code",
   "execution_count": null,
   "metadata": {},
   "outputs": [],
   "source": [
    "#:\n",
    "plt.plot(x, y, color='black', linestyle='--')\n",
    "plt.plot([left_normal, right_normal], [0, 0], zorder=1)\n",
    "plt.scatter(sample.mean(), 0, marker='^', color='C1', zorder=2, s=80)"
   ]
  },
  {
   "cell_type": "markdown",
   "metadata": {
    "slideshow": {
     "slide_type": "slide"
    }
   },
   "source": [
    "## Comparison with bootstrap CI"
   ]
  },
  {
   "cell_type": "code",
   "execution_count": null,
   "metadata": {},
   "outputs": [],
   "source": [
    "#:\n",
    "plt.plot(x, y, color='black', linestyle='--')\n",
    "plt.plot([left_normal, right_normal], [0, 0], zorder=1, label='Normal')\n",
    "plt.plot([left_boot, right_boot], [-.01, -.01], color='lime', label='Boot')\n",
    "plt.scatter(sample.mean(), 0, marker='^', color='C1', zorder=2, s=80)\n",
    "plt.legend()"
   ]
  },
  {
   "cell_type": "markdown",
   "metadata": {
    "slideshow": {
     "slide_type": "slide"
    }
   },
   "source": [
    "## Recap\n",
    "\n",
    "To compute approximate 95% confidence interval for population mean:\n",
    "\n",
    "$$\n",
    "\\left[\n",
    "\\text{sample mean} - 2\\cdot \\frac{\\text{sample SD}}{\\sqrt{n}},\n",
    "\\text{sample mean} + 2\\cdot \\frac{\\text{sample SD}}{\\sqrt{n}}\n",
    "\\right]\n",
    "$$"
   ]
  },
  {
   "cell_type": "markdown",
   "metadata": {
    "slideshow": {
     "slide_type": "slide"
    }
   },
   "source": [
    "## So why use the bootstrap?\n",
    "\n",
    "- We can use CLT to make CIs for:\n",
    "    - sample mean\n",
    "    - proportions\n",
    "- But CLT doesn't apply to, for example, median.\n",
    "- Have to use bootstrap there."
   ]
  },
  {
   "cell_type": "code",
   "execution_count": null,
   "metadata": {},
   "outputs": [],
   "source": []
  }
 ],
 "metadata": {
  "celltoolbar": "Slideshow",
  "kernelspec": {
   "display_name": "Python 3",
   "language": "python",
   "name": "python3"
  },
  "language_info": {
   "codemirror_mode": {
    "name": "ipython",
    "version": 3
   },
   "file_extension": ".py",
   "mimetype": "text/x-python",
   "name": "python",
   "nbconvert_exporter": "python",
   "pygments_lexer": "ipython3",
   "version": "3.6.8"
  },
  "livereveal": {
   "scroll": true,
   "transition": "none"
  }
 },
 "nbformat": 4,
 "nbformat_minor": 2
}
