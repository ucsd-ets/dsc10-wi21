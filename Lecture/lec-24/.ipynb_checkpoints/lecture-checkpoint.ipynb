{
 "cells": [
  {
   "cell_type": "code",
   "execution_count": null,
   "metadata": {},
   "outputs": [],
   "source": [
    "#: the usual imports\n",
    "import babypandas as bpd\n",
    "import numpy as np\n",
    "\n",
    "%matplotlib inline\n",
    "import matplotlib.pyplot as plt\n",
    "import warnings; warnings.simplefilter('ignore')\n",
    "\n",
    "def normal_curve(x, mu=0, sigma=1):\n",
    "    return 1 / np.sqrt(2*np.pi) * np.exp(-(x - mu)**2/(2 * sigma**2))\n",
    "\n",
    "def plot_sample_mean(sample_size):\n",
    "    sample = flights.sample(sample_size).get('Delay')\n",
    "\n",
    "    fig, ax1 = plt.subplots()\n",
    "    plt.xlim([-10, 80])\n",
    "    plt.grid('off')\n",
    "    ax1.hist(sample, density=True, bins=np.arange(0, 200, 5), label='Sample')\n",
    "    ax2 = ax1.twinx()\n",
    "    plot_clt_curve(sample_size)\n",
    "    ax1.set_ylim([-.0, .055])\n",
    "    ax2.set_ylim([-.01, .5])\n",
    "\n",
    "    plt.scatter(sample.mean(), 0, marker='^', color='C1', s=200, label='Sample Mean')\n",
    "    plt.legend(loc='upper right')\n",
    "\n",
    "plt.style.use('fivethirtyeight')"
   ]
  },
  {
   "cell_type": "markdown",
   "metadata": {
    "slideshow": {
     "slide_type": "slide"
    }
   },
   "source": [
    "# Lecture 24\n",
    "\n",
    "## Normal Confidence Intervals and Experiment Design"
   ]
  },
  {
   "cell_type": "markdown",
   "metadata": {
    "slideshow": {
     "slide_type": "slide"
    }
   },
   "source": [
    "# Normal Confidence Intervals"
   ]
  },
  {
   "cell_type": "markdown",
   "metadata": {
    "slideshow": {
     "slide_type": "slide"
    }
   },
   "source": [
    "## Normal confidence intervals\n",
    "\n",
    "- We used bootstrapping to construct confidence intervals.\n",
    "- But we can often use the CLT.\n",
    "    - Computationally cheaper!"
   ]
  },
  {
   "cell_type": "markdown",
   "metadata": {
    "slideshow": {
     "slide_type": "slide"
    }
   },
   "source": [
    "## Run the bootstrap"
   ]
  },
  {
   "cell_type": "code",
   "execution_count": null,
   "metadata": {
    "scrolled": true
   },
   "outputs": [],
   "source": [
    "# the population\n",
    "flights = bpd.read_csv('./data/united_summer2015.csv').get(['Delay'])\n",
    "flights.plot(kind='hist', y='Delay', bins=np.arange(0, 200, 10), density=True)"
   ]
  },
  {
   "cell_type": "code",
   "execution_count": null,
   "metadata": {
    "slideshow": {
     "slide_type": "-"
    }
   },
   "outputs": [],
   "source": [
    "#: run the bootstrap for sample mean of flight delays\n",
    "n_boot = 5000\n",
    "np.random.seed(4)\n",
    "sample = flights.sample(400)\n",
    "boot_means = np.array([])\n",
    "\n",
    "for i in np.arange(n_boot):\n",
    "    resample = sample.sample(sample.shape[0], replace=True)\n",
    "    boot_mean = resample.get('Delay').mean()\n",
    "    boot_means = np.append(boot_means, boot_mean)"
   ]
  },
  {
   "cell_type": "markdown",
   "metadata": {
    "slideshow": {
     "slide_type": "slide"
    }
   },
   "source": [
    "## Visualize the bootstrap"
   ]
  },
  {
   "cell_type": "code",
   "execution_count": null,
   "metadata": {},
   "outputs": [],
   "source": [
    "#: visualize\n",
    "bpd.DataFrame().assign(BootMeans=boot_means).plot(kind='hist', y='BootMeans', bins=30, density=True)"
   ]
  },
  {
   "cell_type": "markdown",
   "metadata": {
    "slideshow": {
     "slide_type": "slide"
    }
   },
   "source": [
    "## Construct 95% confidence interval"
   ]
  },
  {
   "cell_type": "code",
   "execution_count": null,
   "metadata": {},
   "outputs": [],
   "source": [
    "#: construct confidence interval\n",
    "left_boot = np.percentile(boot_means, 2.5)\n",
    "right_boot = np.percentile(boot_means, 97.5)\n",
    "[left_boot, right_boot]"
   ]
  },
  {
   "cell_type": "code",
   "execution_count": null,
   "metadata": {},
   "outputs": [],
   "source": [
    "bpd.DataFrame().assign(BootMeans=boot_means).plot(kind='hist', y='BootMeans', bins=30, density=True)\n",
    "plt.plot([left_boot, right_boot], [0, 0], color='lime', linewidth=10);"
   ]
  },
  {
   "cell_type": "markdown",
   "metadata": {
    "slideshow": {
     "slide_type": "slide"
    }
   },
   "source": [
    "## What did the bootstrap give us?\n",
    "\n",
    "- We use bootstrapping to approximate the distribution of sample mean.\n",
    "- But CLT tells us it is approximately normal!\n",
    "- We can use the CLT directly to construct CIs without bootstrapping."
   ]
  },
  {
   "cell_type": "markdown",
   "metadata": {
    "slideshow": {
     "slide_type": "slide"
    }
   },
   "source": [
    "## Normal confidence intervals\n",
    "\n",
    "- CLT tells us distribution of the sample mean is a bell curve, centered at the population mean.\n",
    "- Don't know the population mean. Instead, center a bell curve at the sample mean.\n",
    "- CLT tells us SD of bell curve is\n",
    "$$\n",
    "    \\frac{\n",
    "        \\text{population standard dev.}\n",
    "    }{\n",
    "        \\sqrt{\\text{sample size}}\n",
    "    }\n",
    "$$\n",
    "- Don't know population SD. Instead, use sample SD:\n",
    "$$\n",
    "    \\frac{\n",
    "        \\text{sample standard dev.}\n",
    "    }{\n",
    "        \\sqrt{\\text{sample size}}\n",
    "    }\n",
    "$$"
   ]
  },
  {
   "cell_type": "markdown",
   "metadata": {
    "slideshow": {
     "slide_type": "slide"
    }
   },
   "source": [
    "## The normal curve"
   ]
  },
  {
   "cell_type": "code",
   "execution_count": null,
   "metadata": {
    "slideshow": {
     "slide_type": ""
    }
   },
   "outputs": [],
   "source": [
    "#: draw the normal curve\n",
    "from scipy import stats\n",
    "np.random.seed(4)\n",
    "sample = flights.sample(400).get('Delay')\n",
    "x = np.linspace(sample.mean() - 3*np.std(sample)/20, sample.mean() + 3*np.std(sample)/20, 1000)\n",
    "y = stats.norm.pdf(x, sample.mean(), np.std(sample)/20)\n",
    "plt.plot(x, y, color='black', linestyle='--')\n",
    "plt.scatter(sample.mean(), 0, marker='^', color='C1', s=80, label='Sample mean')\n",
    "plt.legend(loc='upper right')\n",
    "plt.hist(boot_means, density=True, bins=30);"
   ]
  },
  {
   "cell_type": "markdown",
   "metadata": {
    "slideshow": {
     "slide_type": "slide"
    }
   },
   "source": [
    "## Computing the confidence interval\n",
    "\n",
    "- Recall: $\\approx$ 95% of normal curve's area falls within $\\pm$ 2 SDs of mean\n",
    "- Don't confuse sample SD with SD of sample mean! (divide by $\\sqrt{n}$)"
   ]
  },
  {
   "cell_type": "code",
   "execution_count": null,
   "metadata": {},
   "outputs": [],
   "source": [
    "#: compute confidence interval\n",
    "left_normal = sample.mean() - 2*np.std(sample) / np.sqrt(400)\n",
    "right_normal = sample.mean() + 2*np.std(sample) / np.sqrt(400)\n",
    "[left_normal, right_normal]"
   ]
  },
  {
   "cell_type": "markdown",
   "metadata": {
    "slideshow": {
     "slide_type": "slide"
    }
   },
   "source": [
    "## Visualize the confidence interval"
   ]
  },
  {
   "cell_type": "code",
   "execution_count": null,
   "metadata": {},
   "outputs": [],
   "source": [
    "#:\n",
    "plt.plot(x, y, color='black', linestyle='--')\n",
    "plt.plot([left_normal, right_normal], [0, 0], zorder=1)\n",
    "plt.scatter(sample.mean(), 0, marker='^', color='C1', zorder=2, s=80)"
   ]
  },
  {
   "cell_type": "markdown",
   "metadata": {
    "slideshow": {
     "slide_type": "slide"
    }
   },
   "source": [
    "## Comparison with bootstrap CI"
   ]
  },
  {
   "cell_type": "code",
   "execution_count": null,
   "metadata": {},
   "outputs": [],
   "source": [
    "#:\n",
    "plt.plot(x, y, color='black', linestyle='--')\n",
    "plt.plot([left_normal, right_normal], [0, 0], zorder=1, label='Normal')\n",
    "plt.plot([left_boot, right_boot], [-.01, -.01], color='lime', label='Boot')\n",
    "plt.scatter(sample.mean(), 0, marker='^', color='C1', zorder=2, s=80)\n",
    "plt.legend()"
   ]
  },
  {
   "cell_type": "markdown",
   "metadata": {
    "slideshow": {
     "slide_type": "slide"
    }
   },
   "source": [
    "## Recap\n",
    "\n",
    "To compute normal 95% confidence interval for population mean:\n",
    "\n",
    "$$\n",
    "\\left[\n",
    "\\text{sample mean} - 2\\cdot \\frac{\\text{sample SD}}{\\sqrt{n}},\n",
    "\\text{sample mean} + 2\\cdot \\frac{\\text{sample SD}}{\\sqrt{n}}\n",
    "\\right]\n",
    "$$"
   ]
  },
  {
   "cell_type": "markdown",
   "metadata": {
    "slideshow": {
     "slide_type": "slide"
    }
   },
   "source": [
    "## So why use the bootstrap?\n",
    "\n",
    "- We can use CLT to make CIs for:\n",
    "    - sample mean\n",
    "    - proportion\n",
    "- But CLT doesn't apply to, for example, median.\n",
    "- Have to use bootstrap there."
   ]
  },
  {
   "cell_type": "markdown",
   "metadata": {},
   "source": [
    "## Discussion question\n",
    "\n",
    "Can we use the Central Limit Theorem to construct a $P$% confidence interval where $P \\neq 95$?\n",
    "\n",
    "- A) Yes, but we should no longer center our CI at the sample mean. \n",
    "- B) Yes, but we should no longer step 2 SDs in either direction.\n",
    "- C) Yes, but the square root in the denominator may not be valid anymore.\n",
    "- D) No, the CLT is only for 95% CIs."
   ]
  },
  {
   "cell_type": "markdown",
   "metadata": {
    "slideshow": {
     "slide_type": "slide"
    }
   },
   "source": [
    "# Hypothesis testing"
   ]
  },
  {
   "cell_type": "markdown",
   "metadata": {
    "slideshow": {
     "slide_type": "slide"
    }
   },
   "source": [
    "## Hypothesis testing for the mean\n",
    "\n",
    "- We can use the CLT to run hypothesis tests, too."
   ]
  },
  {
   "cell_type": "markdown",
   "metadata": {
    "slideshow": {
     "slide_type": "slide"
    }
   },
   "source": [
    "## Example: Body temperature\n",
    "\n",
    "- Everyone knows that the average body temperature is 98.6 F (or 37 C).\n",
    "- We have a data set of body temperatures."
   ]
  },
  {
   "cell_type": "code",
   "execution_count": null,
   "metadata": {},
   "outputs": [],
   "source": [
    "#: temperatures\n",
    "temperatures = bpd.read_csv('data/temp.csv')\n",
    "temperatures.get('temperature').mean()"
   ]
  },
  {
   "cell_type": "markdown",
   "metadata": {
    "slideshow": {
     "slide_type": "slide"
    }
   },
   "source": [
    "## Hypothesis test\n",
    "\n",
    "- **Null hypothesis**: The population mean is 98.6 F.\n",
    "- **Alternative hypothesis**: It is significantly less than 98.6 F."
   ]
  },
  {
   "cell_type": "markdown",
   "metadata": {
    "slideshow": {
     "slide_type": "slide"
    }
   },
   "source": [
    "## Recall: Confidence Intervals for Hypothesis Testing\n",
    "\n",
    "* Null hypothesis: Population parameter = x\n",
    "* Alternative hypothesis: Population parameter ≠ x\n",
    "* Cutoff for P-value: p%\n",
    "* Method:\n",
    "    - Construct a (100-p)% confidence interval for the population parameter\n",
    "    - If x is not in the interval, reject the null\n",
    "    - If x is in the interval, can’t reject the null"
   ]
  },
  {
   "cell_type": "markdown",
   "metadata": {
    "slideshow": {
     "slide_type": "slide"
    }
   },
   "source": [
    "## CI for Mean Body Temperature\n",
    "\n",
    " - To compute normal 95% confidence interval for population mean:\n",
    "\n",
    "$$\n",
    "\\left[\n",
    "\\text{sample mean} - 2\\cdot \\frac{\\text{sample SD}}{\\sqrt{n}},\n",
    "\\text{sample mean} + 2\\cdot \\frac{\\text{sample SD}}{\\sqrt{n}}\n",
    "\\right]\n",
    "$$\n",
    "\n",
    "- This does **not** say that temperatures are distributed normally!\n",
    "\n",
    "- We don't know population SD, use sample SD instead."
   ]
  },
  {
   "cell_type": "code",
   "execution_count": null,
   "metadata": {},
   "outputs": [],
   "source": [
    "sample_mean_sd = np.std(temperatures.get('temperature')) / np.sqrt(temperatures.shape[0])\n",
    "sample_mean_sd"
   ]
  },
  {
   "cell_type": "code",
   "execution_count": null,
   "metadata": {},
   "outputs": [],
   "source": [
    "#::\n",
    "[sample_mean - 2*sample_mean_sd, sample_mean + 2*sample_mean_sd]"
   ]
  },
  {
   "cell_type": "markdown",
   "metadata": {
    "slideshow": {
     "slide_type": "slide"
    }
   },
   "source": [
    "Careful! This doesn't mean that 95% of temperatures fall in this range!"
   ]
  },
  {
   "cell_type": "code",
   "execution_count": null,
   "metadata": {},
   "outputs": [],
   "source": [
    "plt.hist(temperatures.get('temperature'), density=True);\n",
    "plt.plot(x, y, color='black')"
   ]
  },
  {
   "cell_type": "markdown",
   "metadata": {
    "slideshow": {
     "slide_type": "slide"
    }
   },
   "source": [
    "## Hypothesis testing\n",
    "\n",
    "- We reject the null hypothesis, at the 0.05 significance level because 98.6 F is not in the 95% confidence interval for mean body temperature.\n",
    "- What gives?\n",
    "    - 98.6 F is due to Carl Reinhold August Wunderlich, 19th century physician, when thermometers were new.\n",
    "    - [Later experiment:](https://med.stanford.edu/content/dam/sm/epidemiology/documents/HRP236/Parsonnet---Critical-Appraisal-of-98.6F.pdf) (36.8 C $\\approx$ 98.2 F), but rounded up to (37 C $\\approx$ 98.6 F)\n",
    "    - [Interesting article here.](https://www.latimes.com/archives/la-xpm-2007-nov-26-he-esoterica26-story.html)"
   ]
  },
  {
   "cell_type": "markdown",
   "metadata": {
    "slideshow": {
     "slide_type": "slide"
    }
   },
   "source": [
    "# Experiment Design"
   ]
  },
  {
   "cell_type": "markdown",
   "metadata": {
    "slideshow": {
     "slide_type": "slide"
    }
   },
   "source": [
    "## Example: Polling\n",
    "\n",
    "- You are conducting a campus poll:\n",
    "    - Yes/No: Will you take a summer class?\n",
    "- You want to estimate the proportion in population who say \"Yes\".\n",
    "- Need to be accurate to within $\\pm$ 0.03, 95% of the time.\n",
    "- i.e., your 95% confidence interval should be 0.06 wide.\n",
    "- How big of a sample do you need?"
   ]
  },
  {
   "cell_type": "markdown",
   "metadata": {
    "slideshow": {
     "slide_type": "slide"
    }
   },
   "source": [
    "## Proportions are just means\n",
    "\n",
    "- When polling, we'll write 1 if a person answers \"Yes\", 0 otherwise.\n",
    "- The sample proportion who say \"Yes\" = mean of 0's and 1's\n",
    "- Hence the CLT applies."
   ]
  },
  {
   "cell_type": "markdown",
   "metadata": {
    "slideshow": {
     "slide_type": "slide"
    }
   },
   "source": [
    "## Our strategy\n",
    "\n",
    "1. We will poll a random sample of $n$ people\n",
    "2. Compute sample mean (i.e., proportion of \"Yes\")\n",
    "3. Compute sample standard deviation\n",
    "4. Construct 95% confidence interval:\n",
    "$$\n",
    "\\left[\n",
    "\\text{sample mean} - 2\\cdot \\frac{\\text{sample SD}}{\\sqrt{n}},\n",
    "\\text{sample mean} + 2\\cdot \\frac{\\text{sample SD}}{\\sqrt{n}}\n",
    "\\right]\n",
    "$$\n",
    "\n",
    "Note the width our 95% CI is\n",
    "\n",
    "$$\n",
    "4 \\cdot \\frac{\\text{sample SD}}{\\sqrt{n}}\n",
    "$$"
   ]
  },
  {
   "cell_type": "markdown",
   "metadata": {
    "slideshow": {
     "slide_type": "slide"
    }
   },
   "source": [
    "## Our strategy\n",
    "\n",
    "- We want a CI whose width is 0.06 or less.\n",
    "- The width of our confidence interval depends on two things:\n",
    "    - sample SD\n",
    "    - $\\sqrt{n}$\n",
    "- If we know SD, we can pick $n$ to make CI the right size by solving\n",
    "$$\n",
    "4 \\cdot \\frac{\\text{sample SD}}{\\sqrt{n}} \\leq 0.06\n",
    "$$"
   ]
  },
  {
   "cell_type": "markdown",
   "metadata": {
    "slideshow": {
     "slide_type": "fragment"
    }
   },
   "source": [
    "- **Problem**: Before polling, we don't know the sample SD because we don't have a sample!\n",
    "- **Solution**: Find an upper bound for the sample SD."
   ]
  },
  {
   "cell_type": "markdown",
   "metadata": {
    "slideshow": {
     "slide_type": "slide"
    }
   },
   "source": [
    "## Bounding the sample SD\n",
    "\n",
    "- How big could the sample SD be?\n",
    "- This can be calculated with algebra, but...\n",
    "- Let's try to get the answer from a plot."
   ]
  },
  {
   "cell_type": "markdown",
   "metadata": {
    "slideshow": {
     "slide_type": "slide"
    }
   },
   "source": [
    "## Create a population of 0's and 1's"
   ]
  },
  {
   "cell_type": "code",
   "execution_count": null,
   "metadata": {},
   "outputs": [],
   "source": [
    "#: construct an array of zeros/ones\n",
    "def polling_population(size, number_of_ones):\n",
    "    count = np.arange(size)\n",
    "    return np.where(count < number_of_ones, 1, 0)"
   ]
  },
  {
   "cell_type": "code",
   "execution_count": null,
   "metadata": {},
   "outputs": [],
   "source": [
    "polling_population(10, 3)"
   ]
  },
  {
   "cell_type": "markdown",
   "metadata": {
    "slideshow": {
     "slide_type": "slide"
    }
   },
   "source": [
    "## Compute standard deviations"
   ]
  },
  {
   "cell_type": "code",
   "execution_count": null,
   "metadata": {},
   "outputs": [],
   "source": [
    "#: compute SD for each proportion\n",
    "size = 100\n",
    "proportions = np.arange(size+1)\n",
    "sds = np.array([])\n",
    "\n",
    "for proportion in proportions:\n",
    "    population = polling_population(size, proportion)\n",
    "    sd = np.std(population)\n",
    "    sds = np.append(sds, sd)"
   ]
  },
  {
   "cell_type": "code",
   "execution_count": null,
   "metadata": {},
   "outputs": [],
   "source": [
    "bpd.DataFrame().assign(\n",
    "    Proportion=proportions,\n",
    "    SD=sds\n",
    ").plot(kind='scatter', x='Proportion', y='SD')"
   ]
  },
  {
   "cell_type": "markdown",
   "metadata": {
    "slideshow": {
     "slide_type": "slide"
    }
   },
   "source": [
    "## Bounding the sample SD\n",
    "\n",
    "- For any data set of 0's and 1's (sample or population), the most the SD can be is 0.5.\n",
    "- Using 0.5 in place of the sample SD results in a conservative confidence interval."
   ]
  },
  {
   "cell_type": "markdown",
   "metadata": {
    "slideshow": {
     "slide_type": "slide"
    }
   },
   "source": [
    "## Constructing the 95% confidence interval\n",
    "\n",
    "- The interval is:\n",
    "\n",
    "$$\n",
    "\\left[\n",
    "\\text{sample mean} - 2\\cdot \\frac{\\text{sample SD}}{\\sqrt{n}},\n",
    "\\text{sample mean} + 2\\cdot \\frac{\\text{sample SD}}{\\sqrt{n}}\n",
    "\\right]\n",
    "$$\n",
    "\n",
    "- The width is:\n",
    "\n",
    "$$\n",
    "4 \\cdot \\frac{\\text{sample SD}}{\\sqrt{n}}\n",
    "$$\n",
    "\n",
    "- Use 0.5 instead of sample SD gives an upper bound:\n",
    "\n",
    "$$\n",
    "4 \\cdot \\frac{\\text{sample SD}}{\\sqrt{n}} \\leq 4 \\cdot \\frac{0.5}{\\sqrt{n}} = \\frac{2}{\\sqrt{n}}\n",
    "$$"
   ]
  },
  {
   "cell_type": "markdown",
   "metadata": {
    "slideshow": {
     "slide_type": "slide"
    }
   },
   "source": [
    "## Constructing the 95% confidence interval\n",
    "\n",
    "- Want our sample mean to be within $\\pm$ 0.03.\n",
    "- I.e., want our CI to have width at most .06.\n",
    "\n",
    "$$\n",
    "4 \\cdot \\frac{\\text{sample SD}}{\\sqrt{n}} \\leq 4 \\cdot \\frac{0.5}{\\sqrt{n}} = \\frac{2}{\\sqrt{n}} \\leq 0.06\n",
    "$$\n",
    "\n",
    "- Solve for $n$:\n",
    "\n",
    "$$\n",
    "\\sqrt{n} = \\frac{2}{0.06}\n",
    "$$\n",
    "$$\n",
    "n = \\left(\\frac{2}{0.06}\\right)^2\n",
    "$$"
   ]
  },
  {
   "cell_type": "code",
   "execution_count": null,
   "metadata": {},
   "outputs": [],
   "source": [
    "(2/.06)**2"
   ]
  },
  {
   "cell_type": "markdown",
   "metadata": {
    "slideshow": {
     "slide_type": "slide"
    }
   },
   "source": [
    "## Answer\n",
    "\n",
    "- We must poll $\\approx$ 1111 people to get a 95% CI that is at most 0.06 wide."
   ]
  },
  {
   "cell_type": "markdown",
   "metadata": {
    "slideshow": {
     "slide_type": "slide"
    }
   },
   "source": [
    "## Discussion question\n",
    "\n",
    "We must poll 1111 people to get a 95% CI that is at most 0.06 wide.\n",
    "Suppose we instead want a CI that is 0.03 wide. How many people do we need to poll?\n",
    "\n",
    "- A) 555\n",
    "- B) 2222\n",
    "- C) 4444\n",
    "- D) 8888"
   ]
  },
  {
   "cell_type": "markdown",
   "metadata": {
    "slideshow": {
     "slide_type": "slide"
    }
   },
   "source": [
    "## Answer: the $\\sqrt{\\quad}$ rule\n",
    "\n",
    "- We need 4444 people.\n",
    "- To double our accuracy, we must *quadruple* our sample size."
   ]
  },
  {
   "cell_type": "markdown",
   "metadata": {
    "slideshow": {
     "slide_type": "slide"
    }
   },
   "source": [
    "## Experiment\n",
    "\n",
    "- Let's see how accurate this is.\n",
    "- Code below chooses some true proportion of \"Yes\" in the popluation. Don't peek!"
   ]
  },
  {
   "cell_type": "code",
   "execution_count": null,
   "metadata": {},
   "outputs": [],
   "source": [
    "#: don't peek\n",
    "population_proportion = np.random.choice(np.arange(.3, .7, .01))"
   ]
  },
  {
   "cell_type": "markdown",
   "metadata": {
    "slideshow": {
     "slide_type": "slide"
    }
   },
   "source": [
    "## Conduct a poll"
   ]
  },
  {
   "cell_type": "code",
   "execution_count": null,
   "metadata": {},
   "outputs": [],
   "source": [
    "#:\n",
    "poll_results = np.random.multinomial(1111, [population_proportion, 1-population_proportion]) / 1111\n",
    "poll_results"
   ]
  },
  {
   "cell_type": "markdown",
   "metadata": {
    "slideshow": {
     "slide_type": "slide"
    }
   },
   "source": [
    "## Repeat the poll"
   ]
  },
  {
   "cell_type": "code",
   "execution_count": null,
   "metadata": {},
   "outputs": [],
   "source": [
    "#: simulate 5000 polls\n",
    "distribution = np.array([])\n",
    "\n",
    "for i in np.arange(5000):\n",
    "    poll_results = np.random.multinomial(1111, [population_proportion, 1-population_proportion]) / 1111\n",
    "    distribution = np.append(distribution, poll_results.item(0))"
   ]
  },
  {
   "cell_type": "markdown",
   "metadata": {
    "slideshow": {
     "slide_type": "slide"
    }
   },
   "source": [
    "## Visualize"
   ]
  },
  {
   "cell_type": "code",
   "execution_count": null,
   "metadata": {},
   "outputs": [],
   "source": [
    "#: draw histogram\n",
    "bpd.DataFrame().assign(SampledProportions=distribution).plot(kind='hist', y='SampledProportions', bins=30)\n",
    "\n",
    "plt.scatter(population_proportion, 0, marker='^', zorder=3, color='lime', s=100)\n",
    "plt.plot([population_proportion - .03, population_proportion + .03], [0, 0], color='C1', linewidth=5)"
   ]
  },
  {
   "cell_type": "code",
   "execution_count": null,
   "metadata": {},
   "outputs": [],
   "source": [
    "np.count_nonzero((population_proportion - .03 <= distribution) & (distribution <= population_proportion + .03)) / 5000"
   ]
  },
  {
   "cell_type": "code",
   "execution_count": null,
   "metadata": {},
   "outputs": [],
   "source": []
  }
 ],
 "metadata": {
  "celltoolbar": "Slideshow",
  "kernelspec": {
   "display_name": "Python 3",
   "language": "python",
   "name": "python3"
  },
  "language_info": {
   "codemirror_mode": {
    "name": "ipython",
    "version": 3
   },
   "file_extension": ".py",
   "mimetype": "text/x-python",
   "name": "python",
   "nbconvert_exporter": "python",
   "pygments_lexer": "ipython3",
   "version": "3.6.8"
  },
  "livereveal": {
   "scroll": true,
   "transition": "none"
  }
 },
 "nbformat": 4,
 "nbformat_minor": 2
}
