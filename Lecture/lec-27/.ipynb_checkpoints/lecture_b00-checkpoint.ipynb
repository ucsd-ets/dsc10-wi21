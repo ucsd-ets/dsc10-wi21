{
 "cells": [
  {
   "cell_type": "code",
   "execution_count": null,
   "metadata": {},
   "outputs": [],
   "source": [
    "#: the usual imports\n",
    "import babypandas as bpd\n",
    "import numpy as np\n",
    "\n",
    "%matplotlib inline\n",
    "import matplotlib.pyplot as plt\n",
    "import warnings; warnings.simplefilter('ignore')\n",
    "\n",
    "plt.style.use('fivethirtyeight')\n",
    "\n",
    "def plot_best_fit(table, x, y, margin=.02):\n",
    "    m = slope(table, x, y)\n",
    "    b = intercept(table, x, y)\n",
    "    \n",
    "    table.plot(kind='scatter', x=x, y=y)\n",
    "    left = table.get(x).min()*(1 - margin)\n",
    "    right = table.get(x).max()*(1 + margin)\n",
    "    domain = np.linspace(left, right, 10)\n",
    "    plt.plot(domain, m*domain + b, color='C1')\n",
    " \n",
    "def plot_errors(m, b, t):\n",
    "    x = t.get('x')\n",
    "    y = m*x + b\n",
    "    t.plot(kind='scatter', x='x', y='y')\n",
    "    plt.plot(x, y)\n",
    "    for k in np.arange(t.shape[0]):\n",
    "        xk = t.get('x').iloc[k]\n",
    "        yk = np.asarray(y)[k]\n",
    "        plt.plot([xk, xk], [yk, t.get('y').iloc[k]], c='r', linewidth=2)\n",
    "    \n",
    "    plt.suptitle('y = %.2f * x + %.2f' %(m, b), fontsize=18)\n",
    "    \n",
    "def plot_errors_multi(m, b, t, ax):\n",
    "    x = t.get('x')\n",
    "    y = m*x + b\n",
    "    ax.scatter(t.get('x'), t.get('y'))\n",
    "    #t.scatter(0)\n",
    "    ax.plot(x, y)\n",
    "    for k in np.arange(t.shape[0]):\n",
    "        xk = t.get('x').iloc[k]\n",
    "        yk = y[k]\n",
    "        ax.plot([xk, xk], [yk, t.get('y').iloc[k]], c='r', linewidth=2)\n",
    "    \n",
    "    error = rmse(y, t.get('y'))\n",
    "    ax.set_title('y = %.2f * x + %.2f; rmse %f' %(m, b, error))\n",
    "    "
   ]
  },
  {
   "cell_type": "markdown",
   "metadata": {
    "slideshow": {
     "slide_type": "slide"
    }
   },
   "source": [
    "# Lecture 27\n",
    "\n",
    "## Least Squares, Residuals, and Inference"
   ]
  },
  {
   "cell_type": "markdown",
   "metadata": {
    "slideshow": {
     "slide_type": "slide"
    }
   },
   "source": [
    "## The regression line in original units.\n",
    "\n",
    "* The regression line describes the linear association present in data. \n",
    "* The regression line is given by $y = mx + b$, where:\n",
    "    - the slope $m$ is: $$m = r\\cdot\\frac{SD\\ of\\ y}{SD\\ of\\ x}$$\n",
    "    - the y-intercept $b$ is: $$b = (avg\\ of\\ y) - m\\cdot(avg\\ of\\ x)$$\n"
   ]
  },
  {
   "cell_type": "code",
   "execution_count": null,
   "metadata": {
    "slideshow": {
     "slide_type": "slide"
    }
   },
   "outputs": [],
   "source": [
    "#:\n",
    "def standard_units(arr):\n",
    "    return (arr - arr.mean())/np.std(arr)\n",
    "\n",
    "def correlation(t, x, y):\n",
    "    return (standard_units(t.get(x))*standard_units(t.get(y))).mean()\n",
    "\n",
    "def slope(t, x, y):\n",
    "    \"\"\"The slope of the regression line (original units)\"\"\"\n",
    "    r = correlation(t, x, y)\n",
    "    return r * np.std(t.get(y)) / np.std(t.get(x))\n",
    "\n",
    "def intercept(t, x, y):\n",
    "    \"\"\"The intercept of the regression line (original units)\"\"\"\n",
    "    return t.get(y).mean() - slope(t, x, y) * t.get(x).mean()\n"
   ]
  },
  {
   "cell_type": "code",
   "execution_count": null,
   "metadata": {},
   "outputs": [],
   "source": [
    "galton = bpd.read_csv('data/galton.csv')\n",
    "m = slope(galton, 'midparentHeight', 'childHeight')\n",
    "b = intercept(galton, 'midparentHeight', 'childHeight')\n",
    "\n",
    "galton.plot(kind='scatter', x='midparentHeight', y='childHeight')\n",
    "x = np.arange(63, 77)\n",
    "plt.plot(x, m*x+b, color='C1');\n",
    "\n",
    "correlation(galton, 'midparentHeight', 'childHeight')"
   ]
  },
  {
   "cell_type": "markdown",
   "metadata": {},
   "source": [
    "## Highly correlated data"
   ]
  },
  {
   "cell_type": "code",
   "execution_count": null,
   "metadata": {},
   "outputs": [],
   "source": [
    "outlier = bpd.read_csv('data/outlier.csv')\n",
    "without_outlier = outlier[outlier.get('y') > 40]\n",
    "correlation(without_outlier, 'x', 'y')"
   ]
  },
  {
   "cell_type": "code",
   "execution_count": null,
   "metadata": {
    "slideshow": {
     "slide_type": "-"
    }
   },
   "outputs": [],
   "source": [
    "m = slope(without_outlier, 'x', 'y')\n",
    "b = intercept(without_outlier, 'x', 'y')\n",
    "m, b"
   ]
  },
  {
   "cell_type": "code",
   "execution_count": null,
   "metadata": {},
   "outputs": [],
   "source": [
    "x = np.arange(50, 100)\n",
    "without_outlier.plot(kind='scatter', x='x', y='y')\n",
    "plt.plot(x, m*x+b, color='C1');"
   ]
  },
  {
   "cell_type": "markdown",
   "metadata": {
    "slideshow": {
     "slide_type": "slide"
    }
   },
   "source": [
    "## Measuring the error in prediction\n",
    " - How well does a certain line fit the data?"
   ]
  },
  {
   "cell_type": "code",
   "execution_count": null,
   "metadata": {},
   "outputs": [],
   "source": [
    "plot_errors(0.65, 30, without_outlier)"
   ]
  },
  {
   "cell_type": "markdown",
   "metadata": {
    "slideshow": {
     "slide_type": "slide"
    }
   },
   "source": [
    "## Measuring the error in prediction\n",
    "\n",
    "* error = actual value - prediction\n",
    "\n",
    "* To measure the rough size of the errors\n",
    "    - square the errors to eliminate cancellation\n",
    "    - take the mean of the squared errors\n",
    "    - take the square root to fix the units\n",
    "    \n",
    "* This is called **root mean square error** (RMSE)"
   ]
  },
  {
   "cell_type": "markdown",
   "metadata": {
    "slideshow": {
     "slide_type": "slide"
    }
   },
   "source": [
    "## Calculate the root mean square error (RMSE)"
   ]
  },
  {
   "cell_type": "code",
   "execution_count": null,
   "metadata": {},
   "outputs": [],
   "source": [
    "preds = without_outlier.assign(pred=m * without_outlier.get('x') + b)\n",
    "preds = preds.assign(diffs=preds.get('y') - preds.get('pred'))\n",
    "preds = preds.assign(sq_diffs=preds.get('diffs')**2)\n",
    "preds"
   ]
  },
  {
   "cell_type": "code",
   "execution_count": null,
   "metadata": {},
   "outputs": [],
   "source": [
    "np.sqrt(preds.get('sq_diffs').mean())"
   ]
  },
  {
   "cell_type": "markdown",
   "metadata": {
    "slideshow": {
     "slide_type": "slide"
    }
   },
   "source": [
    "## Calculate the root mean square error (RMSE)"
   ]
  },
  {
   "cell_type": "code",
   "execution_count": null,
   "metadata": {},
   "outputs": [],
   "source": [
    "def rmse(pred, true):\n",
    "    '''calculate the RMSE of two arrays:\n",
    "    pred: the array of predicted values\n",
    "    true: the array of true values of the predicted attribute\n",
    "    '''\n",
    "    return np.sqrt(((pred - true)**2).mean())"
   ]
  },
  {
   "cell_type": "markdown",
   "metadata": {
    "slideshow": {
     "slide_type": "slide"
    }
   },
   "source": [
    "## RMSEs for various linear prediction functions\n",
    "\n",
    "* What is the best linear prediction function among all possible lines?\n",
    "* Minimize the RMSE"
   ]
  },
  {
   "cell_type": "code",
   "execution_count": null,
   "metadata": {},
   "outputs": [],
   "source": [
    "fig, axes = plt.subplots(4,2, figsize=(12,16))\n",
    "k = 0\n",
    "for m in np.arange(.2, .6, 0.1):\n",
    "    for b in np.arange(30, 40, 5):\n",
    "        plot_errors_multi(m, b, without_outlier, ax=axes[k//2, k % 2])\n",
    "        k = k + 1"
   ]
  },
  {
   "cell_type": "markdown",
   "metadata": {
    "slideshow": {
     "slide_type": "slide"
    }
   },
   "source": [
    "## Finding the best linear prediction function\n",
    "\n",
    "Approach\n",
    "\n",
    "1. Enumerate a large number of reasonable lines (i.e. pairs of slopes/intercepts)\n",
    "2. Calculate the RMSE of each linear prediction function\n",
    "3. Take the slope/intercept pair with the smallest RMSE."
   ]
  },
  {
   "cell_type": "code",
   "execution_count": null,
   "metadata": {},
   "outputs": [],
   "source": [
    "#:\n",
    "errors = np.array([])\n",
    "slopes = np.array([])\n",
    "intercepts = np.array([])\n",
    "\n",
    "for m in np.arange(-1, 1, 0.01):\n",
    "    for b in np.arange(-50, 50, 0.5):\n",
    "        pred = m * without_outlier.get('x') + b\n",
    "        error = rmse(pred, without_outlier.get('y'))\n",
    "\n",
    "        errors = np.append(errors, error)\n",
    "        slopes = np.append(slopes, m)\n",
    "        intercepts = np.append(intercepts, b)"
   ]
  },
  {
   "cell_type": "code",
   "execution_count": null,
   "metadata": {},
   "outputs": [],
   "source": [
    "# smallest\n",
    "errors.min()"
   ]
  },
  {
   "cell_type": "code",
   "execution_count": null,
   "metadata": {},
   "outputs": [],
   "source": [
    "# smallest slope\n",
    "m = slopes[errors.argmin()]\n",
    "m"
   ]
  },
  {
   "cell_type": "code",
   "execution_count": null,
   "metadata": {},
   "outputs": [],
   "source": [
    "# smallest intercept\n",
    "b = intercepts[errors.argmin()]\n",
    "b"
   ]
  },
  {
   "cell_type": "code",
   "execution_count": null,
   "metadata": {
    "slideshow": {
     "slide_type": "slide"
    }
   },
   "outputs": [],
   "source": [
    "# slope/intercept of the regression line\n",
    "slope(without_outlier, 'x', 'y'), intercept(without_outlier, 'x', 'y')"
   ]
  },
  {
   "cell_type": "code",
   "execution_count": null,
   "metadata": {},
   "outputs": [],
   "source": [
    "x = without_outlier.get('x')\n",
    "without_outlier.plot(kind='scatter', x='x', y='y')\n",
    "plt.plot(x, m*x + b, linewidth=2, color='C1')"
   ]
  },
  {
   "cell_type": "markdown",
   "metadata": {
    "slideshow": {
     "slide_type": "slide"
    }
   },
   "source": [
    "## Least squares line\n",
    "\n",
    "* Minimizes the root mean squared error (rmse) among all lines\n",
    "* Coincides with the regression line!\n",
    "    - Regression line defined using statistical quantities\n",
    "    - Line of \"best fit\" defined using algebra/calculus\n",
    "* All equivalent names:\n",
    "    - Line of “best fit”\n",
    "    - Least squares line\n",
    "    - Regression line"
   ]
  },
  {
   "cell_type": "markdown",
   "metadata": {
    "slideshow": {
     "slide_type": "slide"
    }
   },
   "source": [
    "## Regression line\n",
    "\n",
    "* Describes the \"best linear fit\" of a given dataset.\n",
    "* Describes the linear association of two attributes, given the data are well described by a linear relationship!\n",
    "* How do we know a linear fit is a good fit?"
   ]
  },
  {
   "cell_type": "markdown",
   "metadata": {
    "slideshow": {
     "slide_type": "slide"
    }
   },
   "source": [
    "## Residuals\n",
    "\n",
    "* Residuals are the errors in a regression estimate\n",
    "* One residual corresponding to each point (x, y)\n",
    "* residual = observed y - regression estimate of y "
   ]
  },
  {
   "cell_type": "code",
   "execution_count": null,
   "metadata": {},
   "outputs": [],
   "source": [
    "m = slope(without_outlier, 'x', 'y')\n",
    "b = intercept(without_outlier, 'x', 'y')\n",
    "plot_errors(m, b, without_outlier)"
   ]
  },
  {
   "cell_type": "markdown",
   "metadata": {
    "slideshow": {
     "slide_type": "slide"
    }
   },
   "source": [
    "## Calculating residuals"
   ]
  },
  {
   "cell_type": "code",
   "execution_count": null,
   "metadata": {},
   "outputs": [],
   "source": [
    "def fit(t, x, y):\n",
    "    m = slope(t, x, y)\n",
    "    b = intercept(t, x, y)\n",
    "    return m * t.get(x) + b\n",
    "\n",
    "def residual(t, x, y):\n",
    "    return t.get(y) - fit(t, x, y)"
   ]
  },
  {
   "cell_type": "markdown",
   "metadata": {
    "slideshow": {
     "slide_type": "slide"
    }
   },
   "source": [
    "## Errors in prediction of child height\n",
    "\n",
    "* Is \"linear association\" a good description of the relationship between parents and child?\n",
    "    - is the (linear) association strong? (correlation coefficient)\n",
    "    - is 'linear' the best description?"
   ]
  },
  {
   "cell_type": "code",
   "execution_count": null,
   "metadata": {},
   "outputs": [],
   "source": [
    "heights = bpd.DataFrame().assign(\n",
    "    MidParent=galton.get('midparentHeight'),\n",
    "    Child=galton.get('childHeight')\n",
    ")\n",
    "\n",
    "fitted = heights.assign(\n",
    "    fit=fit(heights, 'MidParent', 'Child'),\n",
    "    residuals=residual(heights, 'MidParent', 'Child')\n",
    ")"
   ]
  },
  {
   "cell_type": "code",
   "execution_count": null,
   "metadata": {
    "slideshow": {
     "slide_type": "slide"
    }
   },
   "outputs": [],
   "source": [
    "plot_best_fit(fitted, 'MidParent', 'Child')\n",
    "\n",
    "idx = np.random.randint(0, fitted.shape[0], size=50)\n",
    "for k in idx:\n",
    "    x = fitted.get('MidParent').iloc[k]\n",
    "    y = fitted.get('Child').iloc[k]\n",
    "    p = fitted.get('fit').iloc[k]\n",
    "    plt.plot([x,x], [y,p], linewidth=3, c='C2')"
   ]
  },
  {
   "cell_type": "markdown",
   "metadata": {
    "slideshow": {
     "slide_type": "slide"
    }
   },
   "source": [
    "## The residual plot\n",
    "* Scatterplot of the input variable (MidParent height) vs residuals\n",
    "* Describes how the linear prediction error varies.\n",
    "    - **Patterns in the residual plot describe systematic errors in the linear fit!**"
   ]
  },
  {
   "cell_type": "code",
   "execution_count": null,
   "metadata": {},
   "outputs": [],
   "source": [
    "fitted.plot(kind='scatter', x='MidParent', y='residuals')\n",
    "x = fitted.get('MidParent')\n",
    "plt.axhline(0, color='k')"
   ]
  },
  {
   "cell_type": "markdown",
   "metadata": {
    "slideshow": {
     "slide_type": "slide"
    }
   },
   "source": [
    "## Assessment of a linear fit for predicting child height\n",
    "* Relatively small correlation coefficients suggest a weak association\n",
    "    - many residuals have large magnitude.\n",
    "    - predictions will have high variance.\n",
    "* No pattern in residuals implies a linear model is reasonable\n",
    "    - plot looks \"blob-like\"."
   ]
  },
  {
   "cell_type": "code",
   "execution_count": null,
   "metadata": {},
   "outputs": [],
   "source": [
    "fitted.plot(kind='scatter', x='MidParent', y='residuals')\n",
    "x = fitted.get('MidParent')\n",
    "plt.axhline(0, color='k')"
   ]
  },
  {
   "cell_type": "markdown",
   "metadata": {
    "slideshow": {
     "slide_type": "slide"
    }
   },
   "source": [
    "## Reading the residual plot\n",
    "\n",
    "For good regressions, the residual plot:\n",
    "* Should look like a blob\n",
    "* About half above and half below the horizontal line at 0\n",
    "* Similar vertical spread throughout\n",
    "* No pattern\n",
    "\n",
    "What are the implications for your predictions if these conditions aren't met?\n"
   ]
  },
  {
   "cell_type": "markdown",
   "metadata": {
    "slideshow": {
     "slide_type": "slide"
    }
   },
   "source": [
    "## Residual plot of a non-linear association\n",
    "* Hybrid car models: mpg vs msrp\n",
    "* Where does the linear fit fail?"
   ]
  },
  {
   "cell_type": "code",
   "execution_count": null,
   "metadata": {},
   "outputs": [],
   "source": [
    "hybrid = bpd.read_csv('data/hybrid.csv')\n",
    "hybrid_fitted = hybrid.assign(\n",
    "    fit=fit(hybrid, 'mpg', 'msrp'),\n",
    "    residuals=residual(hybrid, 'mpg', 'msrp')\n",
    ")"
   ]
  },
  {
   "cell_type": "code",
   "execution_count": null,
   "metadata": {},
   "outputs": [],
   "source": [
    "hybrid_fitted.plot(kind='scatter', x='mpg', y='msrp')\n",
    "plt.plot(hybrid_fitted.get('mpg'), hybrid_fitted.get('fit'), color='C1');"
   ]
  },
  {
   "cell_type": "code",
   "execution_count": null,
   "metadata": {},
   "outputs": [],
   "source": [
    "# plot residuals\n",
    "\n",
    "hybrid_fitted.plot(kind='scatter', x='mpg', y='residuals')\n",
    "plt.axhline(0, color='k')"
   ]
  },
  {
   "cell_type": "markdown",
   "metadata": {
    "slideshow": {
     "slide_type": "slide"
    }
   },
   "source": [
    "## The residual plot for a non-linear association\n",
    "* Patterns in where errors are positive vs negative\n",
    "* Patterns in where the errors are larger/smaller\n",
    "* How do these affect your predictions?"
   ]
  },
  {
   "cell_type": "markdown",
   "metadata": {
    "slideshow": {
     "slide_type": "slide"
    }
   },
   "source": [
    "## mpg vs acceleration \n",
    "* Is the regression line a good predictor for acceleration, given mpg?\n",
    "* Is the residual plot pattern-free?"
   ]
  },
  {
   "cell_type": "code",
   "execution_count": null,
   "metadata": {},
   "outputs": [],
   "source": [
    "accel_mpg = hybrid.assign(\n",
    "    fit=fit(hybrid, 'acceleration', 'mpg'),\n",
    "    residuals=residual(hybrid, 'acceleration', 'mpg')\n",
    ")\n",
    "accel_mpg"
   ]
  },
  {
   "cell_type": "code",
   "execution_count": null,
   "metadata": {},
   "outputs": [],
   "source": [
    "plot_best_fit(accel_mpg, 'acceleration', 'mpg')"
   ]
  },
  {
   "cell_type": "code",
   "execution_count": null,
   "metadata": {},
   "outputs": [],
   "source": [
    "correlation(accel_mpg, 'acceleration', 'mpg')"
   ]
  },
  {
   "cell_type": "code",
   "execution_count": null,
   "metadata": {},
   "outputs": [],
   "source": [
    "accel_mpg.plot(kind='scatter', x='acceleration', y='residuals')\n",
    "plt.axhline(0, color='k')"
   ]
  },
  {
   "cell_type": "markdown",
   "metadata": {
    "slideshow": {
     "slide_type": "slide"
    }
   },
   "source": [
    "## Heteroscedasticity\n",
    "\n",
    "* Heteroscedasticity: \"uneven\" + \"spread\"\n",
    "    \n",
    "* Two attributes are heteroscedastic if there are subpopulations that have different variabilities\n",
    "    - smaller errors as acceleration increases.\n",
    "    \n",
    "* Consequence: bias in the estimate of your errors of your predictions!"
   ]
  },
  {
   "cell_type": "code",
   "execution_count": null,
   "metadata": {},
   "outputs": [],
   "source": [
    "accel_mpg.plot(kind='scatter', x='acceleration', y='residuals')\n",
    "plt.axhline(0, color='k')"
   ]
  },
  {
   "cell_type": "markdown",
   "metadata": {
    "slideshow": {
     "slide_type": "slide"
    }
   },
   "source": [
    "## Regression for prediction\n",
    "\n",
    "What we're really doing:\n",
    "* Collect data sample from population\n",
    "* Fit regression line to sample\n",
    "* Use regression line to predict values for new, out-of-sample data\n",
    "\n",
    "What if we used a different sample?"
   ]
  },
  {
   "cell_type": "markdown",
   "metadata": {
    "slideshow": {
     "slide_type": "slide"
    }
   },
   "source": [
    "## Prediction Intervals\n",
    "\n",
    "Approach:\n",
    "* Bootstrap the sample\n",
    "* Generate a distribution of predictions\n",
    "* Take e.g. the 95% confidence interval of the distribution of predictions\n",
    "\n",
    "This will give an estimate of the variability of your predictions"
   ]
  },
  {
   "cell_type": "markdown",
   "metadata": {
    "slideshow": {
     "slide_type": "slide"
    }
   },
   "source": [
    "## Resampling the scatterplot: parent/child heights"
   ]
  },
  {
   "cell_type": "code",
   "execution_count": null,
   "metadata": {},
   "outputs": [],
   "source": [
    "resampled = heights.sample(heights.shape[0], replace=True)\n",
    "plot_best_fit(resampled, 'MidParent', 'Child')\n",
    "plt.ylim([55, 80])\n",
    "plt.xlim([62, 77])"
   ]
  },
  {
   "cell_type": "markdown",
   "metadata": {
    "slideshow": {
     "slide_type": "slide"
    }
   },
   "source": [
    "## Bootstrapping Predictions: parent/child heights\n",
    "* resample the scatterplot\n",
    "* calculate the slope/intercept of the regression lines of the resamples\n",
    "* for a given input, make a different prediction using each line"
   ]
  },
  {
   "cell_type": "code",
   "execution_count": null,
   "metadata": {},
   "outputs": [],
   "source": [
    "m_orig = slope(heights, 'MidParent', 'Child')\n",
    "b_orig = intercept(heights, 'MidParent', 'Child')"
   ]
  },
  {
   "cell_type": "code",
   "execution_count": null,
   "metadata": {},
   "outputs": [],
   "source": [
    "# bootstrap slope/intercept\n",
    "boot_slopes = np.array([])\n",
    "boot_intercepts = np.array([])\n",
    "\n",
    "for _ in np.arange(5000):\n",
    "    resample = heights.sample(heights.shape[0], replace=True)\n",
    "    m = slope(resample, 'MidParent', 'Child')\n",
    "    b = intercept(resample, 'MidParent', 'Child')\n",
    "    boot_slopes = np.append(boot_slopes, m)\n",
    "    boot_intercepts = np.append(boot_intercepts, b)"
   ]
  },
  {
   "cell_type": "markdown",
   "metadata": {
    "slideshow": {
     "slide_type": "slide"
    }
   },
   "source": [
    "### If MidParent height is 74, what is the predicted child height?\n",
    "* What is a reasonable amount of variation in this prediction?"
   ]
  },
  {
   "cell_type": "code",
   "execution_count": null,
   "metadata": {},
   "outputs": [],
   "source": [
    "input_value = 74 #try also for 68"
   ]
  },
  {
   "cell_type": "code",
   "execution_count": null,
   "metadata": {},
   "outputs": [],
   "source": [
    "pred_orig = m_orig * input_value + b_orig\n",
    "pred_orig"
   ]
  },
  {
   "cell_type": "code",
   "execution_count": null,
   "metadata": {},
   "outputs": [],
   "source": [
    "boot_preds = boot_slopes * input_value + boot_intercepts\n",
    "\n",
    "l = np.percentile(boot_preds, 2.5)\n",
    "r = np.percentile(boot_preds, 97.5)\n",
    "[l, r]"
   ]
  },
  {
   "cell_type": "code",
   "execution_count": null,
   "metadata": {},
   "outputs": [],
   "source": [
    "bpd.DataFrame().assign(\n",
    "    predictions=boot_preds\n",
    ").plot(kind='hist', density=True)\n",
    "plt.scatter(pred_orig, 0, c='r', linewidth=2, zorder=2)\n",
    "plt.plot([l,r],[0,0], c='lime', linewidth=8, zorder=1);"
   ]
  },
  {
   "cell_type": "markdown",
   "metadata": {
    "slideshow": {
     "slide_type": "slide"
    }
   },
   "source": [
    "### How do the prediction intervals vary with input?\n",
    "* Plot all the regression lines!"
   ]
  },
  {
   "cell_type": "code",
   "execution_count": null,
   "metadata": {},
   "outputs": [],
   "source": [
    "mean_mp = heights.get('MidParent').mean()\n",
    "plt.plot([mean_mp, mean_mp], [62,72], linewidth=2);\n",
    "\n",
    "ys = []\n",
    "for (m,b) in zip(boot_slopes[:20], boot_intercepts):\n",
    "    ys.append(m * x + b)\n",
    "    plt.plot(x, m * x + b, linewidth=1)\n",
    "    \n",
    "plt.legend(['mean MidParent height'])"
   ]
  },
  {
   "cell_type": "markdown",
   "metadata": {
    "slideshow": {
     "slide_type": "slide"
    }
   },
   "source": [
    "## 95% Confidence Interval"
   ]
  },
  {
   "cell_type": "code",
   "execution_count": null,
   "metadata": {},
   "outputs": [],
   "source": [
    "all_lines = np.vstack(ys)\n",
    "upper = all_lines.max(axis=0)\n",
    "lower = all_lines.min(axis=0)"
   ]
  },
  {
   "cell_type": "code",
   "execution_count": null,
   "metadata": {},
   "outputs": [],
   "source": [
    "# heights.plot(kind='scatter', x='MidParent', y='Child', alpha=.1)\n",
    "m = slope(heights, 'MidParent', 'Child')\n",
    "b = intercept(heights, 'MidParent', 'Child')\n",
    "\n",
    "plt.fill_between(x, upper, lower, alpha=.6, color='C0')\n",
    "plt.plot(x, m*x + b, color='C1')"
   ]
  },
  {
   "cell_type": "code",
   "execution_count": null,
   "metadata": {},
   "outputs": [],
   "source": []
  }
 ],
 "metadata": {
  "celltoolbar": "Slideshow",
  "kernelspec": {
   "display_name": "Python 3",
   "language": "python",
   "name": "python3"
  },
  "language_info": {
   "codemirror_mode": {
    "name": "ipython",
    "version": 3
   },
   "file_extension": ".py",
   "mimetype": "text/x-python",
   "name": "python",
   "nbconvert_exporter": "python",
   "pygments_lexer": "ipython3",
   "version": "3.6.8"
  },
  "livereveal": {
   "scroll": true,
   "transition": "none"
  }
 },
 "nbformat": 4,
 "nbformat_minor": 2
}
