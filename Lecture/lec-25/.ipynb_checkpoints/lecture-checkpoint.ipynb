{
 "cells": [
  {
   "cell_type": "code",
   "execution_count": null,
   "metadata": {},
   "outputs": [],
   "source": [
    "#: the usual imports\n",
    "import babypandas as bpd\n",
    "import numpy as np\n",
    "\n",
    "%matplotlib inline\n",
    "import matplotlib.pyplot as plt\n",
    "import warnings; warnings.simplefilter('ignore')\n",
    "\n",
    "plt.style.use('fivethirtyeight')\n",
    "\n",
    "#:code for demonstration\n",
    "def r_scatter(r):\n",
    "    plt.figure(figsize=(5,5))\n",
    "    \"Generate a scatter plot with a correlation approximately r\"\n",
    "    x = np.random.normal(0, 1, 1000)\n",
    "    z = np.random.normal(0, 1, 1000)\n",
    "    y = r*x + (np.sqrt(1-r**2))*z\n",
    "    plt.scatter(x, y)\n",
    "    plt.xlim(-4, 4)\n",
    "    plt.ylim(-4, 4)\n",
    "    plt.suptitle('r = %f' %r, fontsize=14)"
   ]
  },
  {
   "cell_type": "markdown",
   "metadata": {
    "slideshow": {
     "slide_type": "slide"
    }
   },
   "source": [
    "# Lecture 25\n",
    "\n",
    "## Prediction and Correlation"
   ]
  },
  {
   "cell_type": "markdown",
   "metadata": {
    "slideshow": {
     "slide_type": "slide"
    }
   },
   "source": [
    "# Prediction"
   ]
  },
  {
   "cell_type": "markdown",
   "metadata": {
    "slideshow": {
     "slide_type": "slide"
    }
   },
   "source": [
    "## Prediction Problems\n",
    "\n",
    "* Predicting one characteristic based on another:\n",
    "    - Given my height, how tall will my kid be as an adult?\n",
    "    - Given my education level, what is my income?\n",
    "    - Given my income, how much does my car cost?\n",
    "    \n",
    "* Two characteristics: one is known; one is unknown\n",
    "* Have data for which we know both characteristics\n",
    "* To predict, need an association"
   ]
  },
  {
   "cell_type": "markdown",
   "metadata": {
    "slideshow": {
     "slide_type": "slide"
    }
   },
   "source": [
    "### Predict child height from height of parents\n",
    "\n",
    "* Use mid-parent height as before.\n",
    "* Observation: Children of shorter parents tend to be shorter"
   ]
  },
  {
   "cell_type": "code",
   "execution_count": null,
   "metadata": {},
   "outputs": [],
   "source": [
    "galton = bpd.read_csv('data/galton.csv')\n",
    "galton.plot(kind='scatter', x='midparentHeight', y='childHeight')"
   ]
  },
  {
   "cell_type": "markdown",
   "metadata": {
    "slideshow": {
     "slide_type": "slide"
    }
   },
   "source": [
    "### Predict child height from height of parents\n",
    "* For a given child, predict their height by:\n",
    "    - restricting ourselves to all midparents within $\\pm 0.5$ inches of the child's midparent height;\n",
    "    - averaging the height of all children of those midparents."
   ]
  },
  {
   "cell_type": "code",
   "execution_count": null,
   "metadata": {},
   "outputs": [],
   "source": [
    "def predict_child(parent):\n",
    "    \"\"\"Return a prediction of the height of a child \n",
    "    whose parents have a midparent height of parent.\n",
    "    \"\"\"\n",
    "    close_points = galton[\n",
    "        (galton.get('midparentHeight') <= parent + 0.5)\n",
    "        &\n",
    "        (galton.get('midparentHeight') >= parent - 0.5)\n",
    "        ]\n",
    "    return close_points.get('childHeight').mean()\n",
    "\n",
    "with_predictions = galton.assign(\n",
    "    Prediction=galton.get('midparentHeight').apply(predict_child)\n",
    ")"
   ]
  },
  {
   "cell_type": "code",
   "execution_count": null,
   "metadata": {
    "slideshow": {
     "slide_type": "slide"
    }
   },
   "outputs": [],
   "source": [
    "ax = with_predictions.plot(kind='scatter', x='midparentHeight', y='childHeight')\n",
    "with_predictions.plot(kind='scatter', x='midparentHeight', y='Prediction', ax=ax, color='C2')"
   ]
  },
  {
   "cell_type": "markdown",
   "metadata": {
    "slideshow": {
     "slide_type": "slide"
    }
   },
   "source": [
    "## Graph of Averages\n",
    "A visualization of x and y pairs\n",
    "* Group each x value with other nearby x values\n",
    "* Average the corresponding y values for each group\n",
    "* For each x value, produce one predicted y value"
   ]
  },
  {
   "cell_type": "markdown",
   "metadata": {
    "slideshow": {
     "slide_type": "slide"
    }
   },
   "source": [
    "## Relations between two variables\n",
    "* Association\n",
    "    - Positive association\n",
    "    - Negative association\n",
    "* Pattern\n",
    "    - Any discernible \"shape\"\n",
    "    - Linear\n",
    "    - Non-Linear"
   ]
  },
  {
   "cell_type": "markdown",
   "metadata": {
    "slideshow": {
     "slide_type": "slide"
    }
   },
   "source": [
    "## Variable relationships: hybrid cars"
   ]
  },
  {
   "cell_type": "code",
   "execution_count": null,
   "metadata": {},
   "outputs": [],
   "source": [
    "hybrid = bpd.read_csv('data/hybrid.csv')\n",
    "hybrid"
   ]
  },
  {
   "cell_type": "markdown",
   "metadata": {
    "slideshow": {
     "slide_type": "slide"
    }
   },
   "source": [
    "### Acceleration and price\n",
    "* Is there an association?\n",
    "* What kind of association?"
   ]
  },
  {
   "cell_type": "code",
   "execution_count": null,
   "metadata": {},
   "outputs": [],
   "source": [
    "hybrid.plot(kind='scatter', x='acceleration', y='msrp')"
   ]
  },
  {
   "cell_type": "markdown",
   "metadata": {
    "slideshow": {
     "slide_type": "slide"
    }
   },
   "source": [
    "### Discussion Question\n",
    "\n",
    "This scatter plot suggests that people are generally:\n",
    "\n",
    "|Option|Answer|\n",
    "|---|---|\n",
    "|A.|Willing to pay more for cars that accelerate faster|\n",
    "|B.|Willing to pay more for certain cars because they accelerate faster|\n",
    "|C.|Not willing to pay more for cars that accelerate faster|\n",
    "|D.|More than one of the above|"
   ]
  },
  {
   "cell_type": "code",
   "execution_count": null,
   "metadata": {
    "scrolled": true
   },
   "outputs": [],
   "source": [
    "hybrid.plot(kind='scatter', x='acceleration', y='msrp')"
   ]
  },
  {
   "cell_type": "markdown",
   "metadata": {
    "slideshow": {
     "slide_type": "slide"
    }
   },
   "source": [
    "### Fuel economy and price\n",
    "\n",
    "* Is there an association?\n",
    "* What kind of association?"
   ]
  },
  {
   "cell_type": "code",
   "execution_count": null,
   "metadata": {},
   "outputs": [],
   "source": [
    "hybrid.plot(kind='scatter', x='mpg', y='msrp')"
   ]
  },
  {
   "cell_type": "markdown",
   "metadata": {
    "slideshow": {
     "slide_type": "fragment"
    }
   },
   "source": [
    "### Observations\n",
    "* There is an association:\n",
    "    - Are people willing to pay more for certain cars because they want poor fuel economy?\n",
    "* The association looks more curved than linear. Maybe like $~\\frac{1}{x}$"
   ]
  },
  {
   "cell_type": "markdown",
   "metadata": {
    "slideshow": {
     "slide_type": "slide"
    }
   },
   "source": [
    "### Understanding units \n",
    "* A linear change in units doesn't change the shape of the plot.\n",
    "* The scale *does* change with the units."
   ]
  },
  {
   "cell_type": "code",
   "execution_count": null,
   "metadata": {
    "slideshow": {
     "slide_type": "-"
    }
   },
   "outputs": [],
   "source": [
    "hybrid.assign(\n",
    "        km_per_liter=hybrid.get('mpg') * 0.425144,\n",
    "        eur=hybrid.get('msrp') * 0.84 \n",
    ").plot(kind='scatter', x='km_per_liter', y='eur')"
   ]
  },
  {
   "cell_type": "code",
   "execution_count": null,
   "metadata": {
    "slideshow": {
     "slide_type": "slide"
    }
   },
   "outputs": [],
   "source": [
    "hybrid.plot(kind='scatter', x='mpg', y='msrp')"
   ]
  },
  {
   "cell_type": "markdown",
   "metadata": {
    "slideshow": {
     "slide_type": "slide"
    }
   },
   "source": [
    "### Converting columns to standard units\n",
    "* makes different scatterplots comparable\n",
    "* allows x and y axis to be \"similarly scaled\"\n",
    "    - both axes measure standard deviations from their means\n",
    "* doesn't change shape of the scatterplot (conversion is linear)"
   ]
  },
  {
   "cell_type": "code",
   "execution_count": null,
   "metadata": {},
   "outputs": [],
   "source": [
    "def standard_units(any_numbers):\n",
    "    \"Convert any array of numbers to standard units.\"\n",
    "    any_numbers = np.array(any_numbers)\n",
    "    return (any_numbers - np.mean(any_numbers))/np.std(any_numbers)"
   ]
  },
  {
   "cell_type": "code",
   "execution_count": null,
   "metadata": {},
   "outputs": [],
   "source": [
    "def standardize(t):\n",
    "    \"\"\"Return a table in which all columns of t are converted to standard units.\"\"\"\n",
    "    t_su = bpd.DataFrame()\n",
    "    for column in t.columns:\n",
    "        t_su = t_su.assign(**{column + ' (su)': standard_units(t.get(column))})\n",
    "    return t_su"
   ]
  },
  {
   "cell_type": "markdown",
   "metadata": {
    "slideshow": {
     "slide_type": "slide"
    }
   },
   "source": [
    "### Standard units: hybrid cars\n",
    "* For a given pair of variables:\n",
    "    - which cars are average from both perspectives?\n",
    "    - which cars are both well above/below average?"
   ]
  },
  {
   "cell_type": "code",
   "execution_count": null,
   "metadata": {
    "scrolled": true
   },
   "outputs": [],
   "source": [
    "hybrid_su = standardize(hybrid.get(['msrp', 'acceleration','mpg']))\n",
    "hybrid_su"
   ]
  },
  {
   "cell_type": "code",
   "execution_count": null,
   "metadata": {
    "scrolled": true,
    "slideshow": {
     "slide_type": "slide"
    }
   },
   "outputs": [],
   "source": [
    "hybrid_su.plot(kind='scatter', x='mpg (su)', y='msrp (su)')"
   ]
  },
  {
   "cell_type": "code",
   "execution_count": null,
   "metadata": {},
   "outputs": [],
   "source": [
    "(\n",
    "    hybrid_su\n",
    "    .assign(vehicle=hybrid.get('vehicle'))\n",
    ")[\n",
    "    (hybrid_su.get('mpg (su)') <= 0.2)\n",
    "    &\n",
    "    (hybrid_su.get('mpg (su)') >= -0.2)\n",
    "    &\n",
    "    (hybrid_su.get('msrp (su)') <= 0.2)\n",
    "    &\n",
    "    (hybrid_su.get('msrp (su)') >= -0.2)\n",
    "]"
   ]
  },
  {
   "cell_type": "code",
   "execution_count": null,
   "metadata": {
    "slideshow": {
     "slide_type": "slide"
    }
   },
   "outputs": [],
   "source": [
    "hybrid_su.plot(kind='scatter', x='acceleration (su)', y='msrp (su)')"
   ]
  },
  {
   "cell_type": "code",
   "execution_count": null,
   "metadata": {
    "slideshow": {
     "slide_type": "slide"
    }
   },
   "outputs": [],
   "source": [
    "(\n",
    "    hybrid_su\n",
    "    .assign(vehicle=hybrid.get('vehicle'))\n",
    ")[\n",
    "    (hybrid_su.get('acceleration (su)') > 2)\n",
    "    &\n",
    "    (hybrid_su.get('msrp (su)') > 2)\n",
    "]"
   ]
  },
  {
   "cell_type": "markdown",
   "metadata": {
    "slideshow": {
     "slide_type": "slide"
    }
   },
   "source": [
    "### Observation on associations in standard units\n",
    "* If two attributes are positively associated,\n",
    "    - their high, positive values in standard units are typically seen together,\n",
    "    - their low, negative values are seen together as well.\n",
    "* If two attributes are negatively associated,\n",
    "    - high, positive values of one are typically coupled with low, negative values of the other.\n",
    "* If two attributes aren't associated, there shouldn't be pattern in their relative sizes."
   ]
  },
  {
   "cell_type": "code",
   "execution_count": null,
   "metadata": {},
   "outputs": [],
   "source": [
    "hybrid_su.plot(kind='scatter', x='mpg (su)', y='msrp (su)')\n",
    "plt.axvline(0, color='black');\n",
    "plt.axhline(0, color='black');"
   ]
  },
  {
   "cell_type": "code",
   "execution_count": null,
   "metadata": {},
   "outputs": [],
   "source": [
    "hybrid_su.plot(kind='scatter', x='acceleration (su)', y='msrp (su)')\n",
    "plt.axvline(0, color='black');\n",
    "plt.axhline(0, color='black');"
   ]
  },
  {
   "cell_type": "markdown",
   "metadata": {
    "slideshow": {
     "slide_type": "slide"
    }
   },
   "source": [
    "## Definition: Correlation Coefficient\n",
    "\n",
    "**Definition**: The correlation coefficient $r$ of two attributes $x$ and $y$ is the average value of the product of $x$ and $y$ when measured in standard units.\n",
    "\n",
    "* If `x` and `y` are arrays (i.e. columns in a table): \n",
    "```\n",
    "r = np.mean(x_su * y_su)\n",
    "```\n",
    "where `x_su` and `y_su` are `x` and `y` converted to standard units.\n"
   ]
  },
  {
   "cell_type": "markdown",
   "metadata": {
    "slideshow": {
     "slide_type": "slide"
    }
   },
   "source": [
    "### Calculate the $r$ for `acceleration` and `msrp`"
   ]
  },
  {
   "cell_type": "code",
   "execution_count": null,
   "metadata": {
    "slideshow": {
     "slide_type": "-"
    }
   },
   "outputs": [],
   "source": [
    "(\n",
    "    hybrid_su\n",
    "    .get(['acceleration (su)', 'msrp (su)'])\n",
    "    .assign(\n",
    "        Product=hybrid_su.get('acceleration (su)') * hybrid_su.get('msrp (su)')\n",
    "    )\n",
    ")"
   ]
  },
  {
   "cell_type": "code",
   "execution_count": null,
   "metadata": {
    "slideshow": {
     "slide_type": "slide"
    }
   },
   "outputs": [],
   "source": [
    "r = (hybrid_su.get('acceleration (su)') * hybrid_su.get('msrp (su)')).mean()\n",
    "r"
   ]
  },
  {
   "cell_type": "code",
   "execution_count": null,
   "metadata": {},
   "outputs": [],
   "source": [
    "hybrid_su.plot(kind='scatter', x='acceleration (su)', y='msrp (su)')\n",
    "plt.axvline(0, color='black');\n",
    "plt.axhline(0, color='black');"
   ]
  },
  {
   "cell_type": "markdown",
   "metadata": {
    "slideshow": {
     "slide_type": "slide"
    }
   },
   "source": [
    "## The Correlation Coefficient $r$\n",
    "\n",
    "* Measures how clustered points are around a straight line (linear association)\n",
    "* Based on standard units\n",
    "* $-1 \\leq r \\leq 1$\n",
    "    - $r = 1$: scatterplot is a line of slope 1.\n",
    "    - $r = -1$: scatterplot is a line of slope -1.\n",
    "* $r = 0$: no linear association; *uncorrelated*."
   ]
  },
  {
   "cell_type": "markdown",
   "metadata": {
    "slideshow": {
     "slide_type": "slide"
    }
   },
   "source": [
    "### Calculate the $r$ for `mpg` and `msrp`"
   ]
  },
  {
   "cell_type": "code",
   "execution_count": null,
   "metadata": {
    "scrolled": true
   },
   "outputs": [],
   "source": [
    "(\n",
    "    hybrid_su\n",
    "    .get(['mpg (su)', 'msrp (su)'])\n",
    "    .assign(\n",
    "        Product=hybrid_su.get('mpg (su)') * hybrid_su.get('msrp (su)')\n",
    "    )\n",
    ")"
   ]
  },
  {
   "cell_type": "code",
   "execution_count": null,
   "metadata": {
    "slideshow": {
     "slide_type": "-"
    }
   },
   "outputs": [],
   "source": [
    "#:\n",
    "r = (hybrid_su.get('mpg (su)') * hybrid_su.get('msrp (su)')).mean()\n",
    "r"
   ]
  },
  {
   "cell_type": "code",
   "execution_count": null,
   "metadata": {},
   "outputs": [],
   "source": [
    "hybrid_su.plot(kind='scatter', x='mpg (su)', y='msrp (su)')\n",
    "plt.axvline(0, color='black');\n",
    "plt.axhline(0, color='black');"
   ]
  },
  {
   "cell_type": "markdown",
   "metadata": {
    "slideshow": {
     "slide_type": "slide"
    }
   },
   "source": [
    "## Scatterplots with given correlation coefficients"
   ]
  },
  {
   "cell_type": "code",
   "execution_count": null,
   "metadata": {
    "scrolled": false
   },
   "outputs": [],
   "source": [
    "for r in np.linspace(1, -1, 7):\n",
    "    r_scatter(r)"
   ]
  },
  {
   "cell_type": "markdown",
   "metadata": {
    "slideshow": {
     "slide_type": "slide"
    }
   },
   "source": [
    "### Discussion Question\n",
    "Does the following scatter plot show:\n",
    "\n",
    "- A. Association and correlation\n",
    "- B. Association but not correlation\n",
    "- C. Correlation but not association\n",
    "- D. Neither association nor correlation"
   ]
  },
  {
   "cell_type": "code",
   "execution_count": null,
   "metadata": {},
   "outputs": [],
   "source": [
    "x2 = bpd.DataFrame().assign(\n",
    "    x=np.arange(-6, 6.1, 0.5), \n",
    "    y=np.arange(-6, 6.1, 0.5)**2\n",
    ")\n",
    "x2.plot(kind='scatter', x='x', y='y')"
   ]
  },
  {
   "cell_type": "markdown",
   "metadata": {
    "slideshow": {
     "slide_type": "slide"
    }
   },
   "source": [
    "### Answer"
   ]
  },
  {
   "cell_type": "code",
   "execution_count": null,
   "metadata": {},
   "outputs": [],
   "source": [
    "products = standard_units(x2.get('x')) * standard_units(x2.get('y'))\n",
    "products"
   ]
  },
  {
   "cell_type": "code",
   "execution_count": null,
   "metadata": {},
   "outputs": [],
   "source": [
    "np.mean(products)"
   ]
  },
  {
   "cell_type": "code",
   "execution_count": null,
   "metadata": {},
   "outputs": [],
   "source": [
    "plt.hist(products, bins=np.arange(-3.5, 3.6));"
   ]
  },
  {
   "cell_type": "markdown",
   "metadata": {
    "slideshow": {
     "slide_type": "slide"
    }
   },
   "source": [
    "## Child height prediction, revisited\n",
    "* Calculate the correlation between `midparentHeight` and `childHeight`"
   ]
  },
  {
   "cell_type": "code",
   "execution_count": null,
   "metadata": {},
   "outputs": [],
   "source": [
    "heights_su = standardize(galton.get(['midparentHeight', 'childHeight']))\n",
    "heights_su"
   ]
  },
  {
   "cell_type": "code",
   "execution_count": null,
   "metadata": {},
   "outputs": [],
   "source": [
    "r = (heights_su.get('midparentHeight (su)') * heights_su.get('childHeight (su)')).mean()\n",
    "r"
   ]
  },
  {
   "cell_type": "code",
   "execution_count": null,
   "metadata": {
    "slideshow": {
     "slide_type": "slide"
    }
   },
   "outputs": [],
   "source": [
    "ax = with_predictions.plot(kind='scatter', x='midparentHeight', y='childHeight')\n",
    "with_predictions.plot(kind='scatter', x='midparentHeight', y='Prediction', ax=ax, color='C2')"
   ]
  },
  {
   "cell_type": "code",
   "execution_count": null,
   "metadata": {
    "slideshow": {
     "slide_type": "slide"
    }
   },
   "outputs": [],
   "source": [
    "heights_su.plot(kind='scatter', x='midparentHeight (su)', y='childHeight (su)')\n",
    "plt.plot(np.arange(-3, 3, 0.1), np.arange(-3, 3, 0.1) * r, color='C2');"
   ]
  },
  {
   "cell_type": "markdown",
   "metadata": {
    "slideshow": {
     "slide_type": "slide"
    }
   },
   "source": [
    "## Using the correlation coefficient for prediction\n",
    "In standard units:\n",
    "* The line through $(0,0)$ with slope $r$ is called the regression line.\n",
    "* If the association between attributes is linear, the graph of averages is approximately the regression line.\n",
    "* If the line is given by $f(x) = mx + b$, then the prediction for $x$ is given by $f(x)$."
   ]
  },
  {
   "cell_type": "code",
   "execution_count": null,
   "metadata": {},
   "outputs": [],
   "source": [
    "heights_su.plot(kind='scatter', x='midparentHeight (su)', y='childHeight (su)')\n",
    "plt.plot(np.arange(-3, 3, 0.1), np.arange(-3, 3, 0.1) * r, color='C2');"
   ]
  },
  {
   "cell_type": "markdown",
   "metadata": {
    "slideshow": {
     "slide_type": "slide"
    }
   },
   "source": [
    "### Regression to the mean\n",
    "\n",
    "* The regression line predicts:\n",
    "    - Parent's whose mid-parent height is ~2 su have children with height ~0.6 su.\n",
    "    - We predict that the child will be somewhat closer to average than their parents.\n",
    "* This is a consequence of the slope having magnitude less than 1."
   ]
  },
  {
   "attachments": {
    "image.png": {
     "image/png": "[encoded data removed]"
    }
   },
   "cell_type": "markdown",
   "metadata": {
    "slideshow": {
     "slide_type": "slide"
    }
   },
   "source": [
    "## Regression to the Mean\n",
    "![image.png](attachment:image.png)\n",
    "\n",
    "* If $r = 0.6$, and the given $x$ is 2 standard units, then:\n",
    "    - The given $x$ is 2 SDs above average\n",
    "    - The prediction for $y$ is 1.2 SDs above average\n",
    "\n",
    "* On average (though not for each individual), regression predicts $y$ to be closer to the mean than $x$."
   ]
  },
  {
   "cell_type": "markdown",
   "metadata": {
    "slideshow": {
     "slide_type": "slide"
    }
   },
   "source": [
    "### Child height prediction, original units\n",
    "Approach:\n",
    "1. Scale mid-parent height to standard units\n",
    "2. Use the correlation coefficient to predict child height\n",
    "3. Scale predicted child height from standard units back to inches"
   ]
  },
  {
   "cell_type": "code",
   "execution_count": null,
   "metadata": {},
   "outputs": [],
   "source": [
    "#:\n",
    "parent_mean = galton.get('midparentHeight').mean()\n",
    "parent_sd = np.std(galton.get('midparentHeight'))\n",
    "child_mean = galton.get('childHeight').mean()\n",
    "child_sd = np.std(galton.get('childHeight'))"
   ]
  },
  {
   "cell_type": "code",
   "execution_count": null,
   "metadata": {
    "slideshow": {
     "slide_type": "slide"
    }
   },
   "outputs": [],
   "source": [
    "#:\n",
    "def predict_with_r(parent):\n",
    "    \"\"\"Return a prediction of the height of a child \n",
    "    whose parents have a midparent height of parent, \n",
    "    using linear regression.\n",
    "    \"\"\"\n",
    "    parent_su = (parent - parent_mean) / parent_sd\n",
    "    child_su = r * parent_su\n",
    "    return child_su * child_sd + child_mean"
   ]
  },
  {
   "cell_type": "code",
   "execution_count": null,
   "metadata": {},
   "outputs": [],
   "source": [
    "predict_with_r(56)"
   ]
  },
  {
   "cell_type": "code",
   "execution_count": null,
   "metadata": {
    "slideshow": {
     "slide_type": "slide"
    }
   },
   "outputs": [],
   "source": [
    "preds = with_predictions.assign(\n",
    "    Prediction_r=galton.get('midparentHeight').apply(predict_with_r)\n",
    ")\n",
    "ax = preds.plot(kind='scatter', x='midparentHeight', y='childHeight')\n",
    "preds.plot(kind='scatter', x='midparentHeight', y='Prediction', ax=ax, color='C2')\n",
    "preds.plot(kind='scatter', x='midparentHeight', y='Prediction_r', ax=ax, color='C3')"
   ]
  },
  {
   "cell_type": "markdown",
   "metadata": {
    "slideshow": {
     "slide_type": "slide"
    }
   },
   "source": [
    "### Discussion Question\n",
    "\n",
    "A course has a midterm (average 70; standard deviation 10) and a really hard final (average 50; standard deviation 12)\n",
    "\n",
    "If the scatter diagram comparing midterm & final scores for students looks linearly associated with correlation 0.75, then what is the predicted final exam score for a student who received a 90 on the midterm?\n",
    "\n",
    "- A.76\n",
    "- B.90\n",
    "- C.68\n",
    "- D.82\n",
    "- E.67.5"
   ]
  },
  {
   "cell_type": "markdown",
   "metadata": {
    "slideshow": {
     "slide_type": "slide"
    }
   },
   "source": [
    "### Answer\n",
    "\n",
    "1. (90 - 70)/10 = 2 standard units on midterm, \n",
    "2. estimate 0.75 * 2 = 1.5 standard units on final \n",
    "3. estimated final score = 1.5 * 12 + 50 = 68 points"
   ]
  }
 ],
 "metadata": {
  "celltoolbar": "Slideshow",
  "kernelspec": {
   "display_name": "Python 3",
   "language": "python",
   "name": "python3"
  },
  "language_info": {
   "codemirror_mode": {
    "name": "ipython",
    "version": 3
   },
   "file_extension": ".py",
   "mimetype": "text/x-python",
   "name": "python",
   "nbconvert_exporter": "python",
   "pygments_lexer": "ipython3",
   "version": "3.6.8"
  },
  "livereveal": {
   "scroll": true,
   "transition": "none"
  }
 },
 "nbformat": 4,
 "nbformat_minor": 2
}
